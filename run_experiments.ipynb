{
 "cells": [
  {
   "cell_type": "code",
   "execution_count": 1,
   "id": "60d92f13-ad2d-405b-b609-241ac908c99c",
   "metadata": {},
   "outputs": [],
   "source": [
    "import os\n",
    "import csv\n",
    "import subprocess"
   ]
  },
  {
   "cell_type": "markdown",
   "id": "706de095-86cd-4ee7-9646-f884f8f894b1",
   "metadata": {
    "tags": []
   },
   "source": [
    "#### Functions for saving output files"
   ]
  },
  {
   "cell_type": "code",
   "execution_count": 2,
   "id": "f07b2f9b-25fc-4983-91f8-7a02b70eaca2",
   "metadata": {},
   "outputs": [],
   "source": [
    "# Copy Log file\n",
    "def copy_log_files(cmd_base, exp_folder, exp_name, alg, rep, apdx, prefix, debug):\n",
    "    if 'vi' in alg:\n",
    "        return\n",
    "    source =  prefix+'log_'+alg+'.log'\n",
    "    target = exp_folder+exp_name+'/'+exp_name+'_log_'+alg+'_'+rep+apdx+'.log'\n",
    "    command = cmd_base+source+' '+target\n",
    "    if debug:\n",
    "        print(command)\n",
    "    os.system(command)\n",
    "            \n",
    "# Copy VI files\n",
    "def copy_vi_files(cmd_base, exp_folder, exp_name, alg, rep, apdx, prefix, debug):\n",
    "    if 'vi' in alg:\n",
    "        return\n",
    "    source =  prefix+'distr_'+alg+'_'+rep+'.csv'\n",
    "    target = exp_folder+exp_name+'/'+exp_name+'_distr_'+alg+'_'+rep+apdx+'.csv'\n",
    "    command = cmd_base+source+' '+target\n",
    "    if debug:\n",
    "        print(command)\n",
    "    os.system(command)\n",
    "\n",
    "def copy_trace_files(cmd_base, exp_folder, exp_name, alg, rep, apdx, prefix,debug):\n",
    "    # Copy trace files\n",
    "    trace_path = prefix+ 'tests/traces/'\n",
    "    source = trace_path+'distr_'+alg+'_'+rep.upper()+'_trace.csv'\n",
    "    target = exp_folder+exp_name+'/'+exp_name+'_distr_'+alg+'_'+rep+apdx+'_trace.csv'\n",
    "    command = cmd_base+source+' '+target\n",
    "    if debug:\n",
    "        print(command)\n",
    "    os.system(command)\n",
    "\n",
    "def copy_dtmc_files(cmd_base, exp_folder, exp_name, alg, rep, apdx, prefix, debug):\n",
    "    # Copy DTMC files\n",
    "    source = prefix+'distr_dtmc_'+alg+'.csv'\n",
    "    target = exp_folder+exp_name+'/'+exp_name+'_distr_dtmc_'+alg+'_'+rep+apdx+'.csv'\n",
    "    command = cmd_base+source+' '+target\n",
    "    if debug:\n",
    "        print(command)\n",
    "    os.system(command)"
   ]
  },
  {
   "cell_type": "markdown",
   "id": "33846ff4-5d2d-42a4-b1ba-aac957892f64",
   "metadata": {},
   "source": [
    "#### Run experiments \n",
    "example command:\n",
    "prism/bin/prism -javastack 80m -javamaxmem 14g prism/tests/corridor.prism prism/tests/corridor.props -distrmethod c51 -prop 3 -v -ex -exportstrat stdout -mainlog prism/log_exp.log"
   ]
  },
  {
   "cell_type": "markdown",
   "id": "22eb18d9-18a2-484b-9c84-d873fd415f96",
   "metadata": {
    "tags": []
   },
   "source": [
    "##### Constants"
   ]
  },
  {
   "cell_type": "code",
   "execution_count": 37,
   "id": "d806844c-3f66-4b7b-aa47-4a09f3479eba",
   "metadata": {},
   "outputs": [],
   "source": [
    "prefix='prism/'\n",
    "prism_exec = prefix+'bin/prism'\n",
    "mem_alloc='-javastack 80m -javamaxmem 14g '\n",
    "experiment_folder = prefix+'tests/experiments/'\n",
    "rep_base = ' -distrmethod '\n",
    "tail = ' -v -ex -exportstrat stdout'\n",
    "log_cmd = ' -mainlog '+prefix+'log_'\n",
    "atoms_c51 = 101; atoms_qr=1000; def_vmax = 100; big_atoms_c51=51;  big_atoms_qr=500; def_eps=0.00001\n",
    "atom_vals={'c51':[1, 11, 26, 51, 76, 101, 1001], 'qr': [1, 10, 25, 50, 75, 100, 500, 1000, 5000]}\n",
    "b_atoms_vals =[1, 11, 26, 51, 76, 101]\n",
    "header_vi =['atoms', 'vmin', 'vmax', 'error', 'epsilon']\n",
    "header_b = ['atoms', 'bmin', 'bmax']\n",
    "config = {\n",
    "    'test': {'model':prefix+'tests/corridor.prism', 'props':prefix+'tests/corridor.props', 'pn':[3,2], 'vmax': def_vmax, 'epsilon':def_eps},\n",
    "    'cliffs' : {'model':prefix+'tests/cliffs_v2.prism', 'props':prefix+'tests/cliffs_v2.props', 'pn':[3,2], 'vmax': def_vmax, 'epsilon':def_eps},\n",
    "    'drones' :{'model':prefix+'tests/drones.prism', 'props':prefix+'tests/drones.props', 'pn':[1,2], 'vmax': def_vmax, 'epsilon':def_eps},\n",
    "    'gridmap10' : {'model':prefix+'tests/gridmap/gridmap_10_10_v2.prism', 'props':prefix+'tests/gridmap/gridmap_10_10.props', 'pn':[3,2], 'vmax': def_vmax, 'epsilon':def_eps},\n",
    "    'mud_nails' : {'model':prefix+'tests/mud_nails.prism', 'props':prefix+'tests/mud_nails.props', 'pn':[3,2], 'vmax': def_vmax, 'epsilon':def_eps},\n",
    "    'uav_phi3': {'model':prefix+'tests/uav.prism', 'props':prefix+'tests/uav.props', 'pn':[8,9],  'vmax': 1000, 'epsilon':def_eps, 'b':26},\n",
    "    'drones_50': {'model':prefix+'tests/drones_50.prism', 'props':prefix+'tests/drones.props', 'pn':[1,2], 'vmax': 800, 'epsilon':0.005},\n",
    "    'drones_25': {'model':prefix+'tests/drones_30.prism', 'props':prefix+'tests/drones.props', 'pn':[1,2],  'vmax': 800, 'epsilon':0.005, 'b':21},\n",
    "    'grid_350': {'model':prefix+'tests/gridmap/gridmap_350_2500.prism', 'props':prefix+'tests/gridmap/gridmap_350_2500.props', 'pn':[3,2], 'vmax': 800, 'epsilon':0.005, 'b':21}\n",
    "}"
   ]
  },
  {
   "cell_type": "markdown",
   "id": "f43ce718-d2bc-4258-819b-ee3f284284b2",
   "metadata": {},
   "source": [
    "##### Case studies to run "
   ]
  },
  {
   "cell_type": "code",
   "execution_count": 38,
   "id": "68c19d07-409c-4c8f-8281-0449f43f30bf",
   "metadata": {},
   "outputs": [],
   "source": [
    "experiment_names=['test', 'cliffs', 'drones', 'gridmap10', 'mud_nails']\n",
    "big_experiments = [ 'drones_25', 'grid_350'] # 'uav_phi3'\n",
    "all_experiments = big_experiments #+ experiment_names\n",
    "apdx = ''\n",
    "rep_types = ['c51'] # 'c51', 'qr'\n",
    "alg_types=['-', 'cvar'] # ['exp', 'cvar']\n",
    "cmd_base_copy = \"cp \"\n"
   ]
  },
  {
   "cell_type": "code",
   "execution_count": 39,
   "id": "e4608d62-e7b9-47b8-be82-9f98379f1b72",
   "metadata": {},
   "outputs": [],
   "source": [
    "def create_params(atoms, v_bounds, error, epsilon, b_atoms, b_bounds):\n",
    "    # make rows\n",
    "    row_vi = [atoms]+[ v for v in v_bounds]+[error, epsilon] \n",
    "    row_b = [b_atoms]+[ b for b in b_bounds]\n",
    "    print(f'Params: vi:{row_vi}, b:{row_b}')\n",
    "    \n",
    "    # saving to params_vi.csv\n",
    "    with open(prefix+'tests/params_vi.csv', 'w') as f:\n",
    "        # using csv.writer method from CSV package\n",
    "        write = csv.writer(f)\n",
    "\n",
    "        write.writerow(header_vi)\n",
    "        write.writerow(row_vi)\n",
    "        \n",
    "    # saving to params_b.csv\n",
    "    with open(prefix+'tests/params_b.csv', 'w') as f:\n",
    "        # using csv.writer method from CSV package\n",
    "        write = csv.writer(f)\n",
    "\n",
    "        write.writerow(header_b)\n",
    "        write.writerow(row_b)"
   ]
  },
  {
   "cell_type": "code",
   "execution_count": null,
   "id": "6e8161b2-4064-40a5-864a-286a01360b7c",
   "metadata": {},
   "outputs": [],
   "source": []
  },
  {
   "cell_type": "markdown",
   "id": "8713acc3-d84d-42ce-93e7-548c98c9bb76",
   "metadata": {},
   "source": [
    "#### Base experiment"
   ]
  },
  {
   "cell_type": "code",
   "execution_count": 40,
   "id": "6f5d5698-0e2f-4206-b10c-52c1b4d40b65",
   "metadata": {},
   "outputs": [
    {
     "name": "stdout",
     "output_type": "stream",
     "text": [
      "\n",
      "Skipping experiment:drones_25, alg:-\n",
      "\n",
      "Running base experiment:drones_25, alg:cvar, rep:c51\n",
      "Params: vi:[51, 0, 800, 0.01, 0.005], b:[21, 0, 800]\n",
      "Return code: 0\n",
      "... Saving cvar VI output files...\n",
      "\n",
      "Skipping experiment:grid_350, alg:-\n",
      "\n",
      "Running base experiment:grid_350, alg:cvar, rep:c51\n",
      "Params: vi:[51, 0, 800, 0.01, 0.005], b:[21, 0, 800]\n",
      "Return code: 256\n",
      "Error running experiment\n"
     ]
    }
   ],
   "source": [
    "debug =False\n",
    "for exp in all_experiments:\n",
    "    for i_alg, alg in enumerate(alg_types):\n",
    "        if '-' in alg:\n",
    "            print(f'\\nSkipping experiment:{exp}, alg:{alg}')\n",
    "            continue\n",
    "        else:\n",
    "            for rep in rep_types:\n",
    "                print(f'\\nRunning base experiment:{exp}, alg:{alg}, rep:{rep}')\n",
    "                b_atoms = b_atoms_vals[5] if exp in experiment_names else config[exp]['b']\n",
    "                # create parameters\n",
    "                if 'c51' in rep:\n",
    "                    atoms= atoms_c51 if exp in experiment_names else big_atoms_c51\n",
    "                    create_params(atoms, [0, config[exp]['vmax']], 0.01, config[exp]['epsilon'], b_atoms, [0, config[exp]['vmax']])\n",
    "                else:\n",
    "                    atoms= atoms_qr if exp in experiment_names else big_atoms_qr\n",
    "                    create_params(atoms, [0, config[exp]['vmax']], ((1.0/atoms)*10 if 'uav' not in exp else 0.07), config[exp]['epsilon'], b_atoms, [0, config[exp]['vmax']])\n",
    "\n",
    "                # create cmd + run\n",
    "                base_command = mem_alloc+config[exp]['model']+' '+config[exp]['props']+rep_base+rep\n",
    "                options =' -prop '+str(config[exp]['pn'][i_alg])+tail+log_cmd+alg+'.log'\n",
    "                if debug:\n",
    "                    print(prism_exec+' '+base_command+options)\n",
    "                r=os.system(prism_exec+' '+base_command+options)\n",
    "                print(f'Return code: {r}')\n",
    "\n",
    "                if r==0:\n",
    "                    # save output for prism vi\n",
    "                    if 'exp' in alg:\n",
    "                        print(\"... Saving PRISM VI output files...\")\n",
    "                        copy_trace_files(cmd_base_copy, experiment_folder, exp, 'vi', rep, '', prefix, debug)\n",
    "                        copy_dtmc_files(cmd_base_copy, experiment_folder, exp, 'vi', rep, '', prefix, debug)\n",
    "\n",
    "                    # save output for current algorithm\n",
    "                    print(f\"... Saving {alg} VI output files...\")\n",
    "                    copy_log_files(cmd_base_copy, experiment_folder, exp, alg, rep, '', prefix, debug)\n",
    "                    copy_vi_files(cmd_base_copy, experiment_folder, exp, alg, rep, '', prefix, debug)\n",
    "                    copy_trace_files(cmd_base_copy, experiment_folder, exp, alg, rep, '', prefix, debug)\n",
    "                    copy_dtmc_files(cmd_base_copy, experiment_folder, exp, alg, rep, '', prefix, debug)\n",
    "                else:\n",
    "                    print(f'Error running experiment')\n",
    "                    copy_log_files(cmd_base_copy, experiment_folder, exp, alg, rep, '', prefix, debug)\n",
    "                \n",
    "                "
   ]
  },
  {
   "cell_type": "code",
   "execution_count": null,
   "id": "97b1b7c9-6d9e-4b20-b9c6-525c0d55bee0",
   "metadata": {},
   "outputs": [],
   "source": []
  },
  {
   "cell_type": "code",
   "execution_count": null,
   "id": "28989371-efb4-48c1-8d25-5b032a1b9bf9",
   "metadata": {},
   "outputs": [],
   "source": []
  },
  {
   "cell_type": "code",
   "execution_count": null,
   "id": "0744e1c4-0349-48c4-8bab-a64d21b9862c",
   "metadata": {},
   "outputs": [],
   "source": []
  }
 ],
 "metadata": {
  "kernelspec": {
   "display_name": "Python 3",
   "language": "python",
   "name": "python3"
  },
  "language_info": {
   "codemirror_mode": {
    "name": "ipython",
    "version": 3
   },
   "file_extension": ".py",
   "mimetype": "text/x-python",
   "name": "python",
   "nbconvert_exporter": "python",
   "pygments_lexer": "ipython3",
   "version": "3.6.9"
  }
 },
 "nbformat": 4,
 "nbformat_minor": 5
}
