{
 "cells": [
  {
   "cell_type": "code",
   "execution_count": 1,
   "id": "1eaee010-fd91-4093-8493-d9e3e00ac219",
   "metadata": {},
   "outputs": [],
   "source": [
    "import sys, os \n",
    "import numpy as np\n",
    "import math\n",
    "import glob\n",
    "\n",
    "from copy import deepcopy\n",
    "\n",
    "import matplotlib.pyplot as plt\n",
    "from itertools import product\n",
    "import importlib\n",
    "\n",
    "if importlib.util.find_spec('matplotlib'):\n",
    "    import matplotlib\n",
    "    import matplotlib.pyplot as plt\n",
    "    from matplotlib.font_manager import FontProperties\n",
    "    # matplotlib.font_manager._rebuild()\n",
    "\n",
    "if importlib.util.find_spec('ipywidgets'):\n",
    "    from ipywidgets.widgets import IntSlider\n",
    "    from ipywidgets import interact"
   ]
  },
  {
   "cell_type": "code",
   "execution_count": 2,
   "id": "467a6bed-ab3b-4595-9b46-6587b63dbee0",
   "metadata": {},
   "outputs": [],
   "source": [
    "# Useful functions\n",
    "\n",
    "# compute Value at Risk\n",
    "def get_var(arr, alpha, atoms):\n",
    "    var = 0\n",
    "    cum_p = 0\n",
    "    for j, atom in enumerate(arr):\n",
    "        cum_p += atom\n",
    "        if cum_p>= alpha:\n",
    "            var = atoms[j]\n",
    "            break\n",
    "    return var\n",
    "\n",
    "# compute conditional value at Risk\n",
    "def get_cvar(arr, alpha, atoms, var):\n",
    "    cvar = var\n",
    "    expected_c = 0 \n",
    "    for i, j in enumerate(arr):\n",
    "        if arr[i] > 0:\n",
    "            expected_c += j * max(0,atoms[i]-var)\n",
    "    cvar+= 1/(1- alpha) * expected_c\n",
    "    return cvar\n"
   ]
  },
  {
   "cell_type": "code",
   "execution_count": 14,
   "id": "8d86124a-126a-45c7-a66b-f775471b807d",
   "metadata": {},
   "outputs": [],
   "source": [
    "def value_iteration(sigma, trans_p, nstates=4, T=4, beta= 1):\n",
    "    c =np.zeros([T,natoms])\n",
    "    temp_dist = np.zeros([nstates, natoms])\n",
    "\n",
    "    for i in range(T):\n",
    "        for s in range(nstates):\n",
    "            action = sigma[i][s]-1\n",
    "            sum_p= np.zeros([natoms])\n",
    "            m= np.zeros([natoms])\n",
    "\n",
    "            print(f\"\\n------------- state: {s} ---------------\")  \n",
    "            for transition in trans_p[s][action]:\n",
    "                for a in range(natoms):\n",
    "                    # probabilities\n",
    "                    sum_p[a] += transition[0] * dist[(transition[1]-1)][a]\n",
    "            \n",
    "            print(sum_p)\n",
    "            \n",
    "            for a in range(natoms):\n",
    "                for transition in trans_p[s][action]:\n",
    "                    # support adjustment\n",
    "                    cost = max(atoms[0], min(atoms[-1], transition[2]+ beta*atoms[a]))\n",
    "                    \n",
    "                    index = cost/delta_a\n",
    "                    l = math.floor(index); u= math.ceil(index)\n",
    "\n",
    "                    print(round(index, 3),\"atoms[a]:\", atoms[a], \"sum_p[a]:\", sum_p[a], \"cost:\",transition[2]+ beta*atoms[a], \"discount: \", beta)\n",
    "\n",
    "                    if (l != u):\n",
    "                        m[l] += sum_p[a] * (u -index) * transition[0]\n",
    "                        m[u] += sum_p[a] * (index-l) * transition[0]\n",
    "                    else:\n",
    "                        m[l] += sum_p[a] * transition[0]\n",
    "            \n",
    "            \n",
    "            temp_dist[s] = deepcopy (m)\n",
    "\n",
    "        #update distribution\n",
    "        for s, arr in enumerate(temp_dist):\n",
    "            dist[s] = deepcopy(arr)\n",
    "\n",
    "        print(f\"\\n------------- i: {i} ---------------\\n {dist}\")  \n"
   ]
  },
  {
   "cell_type": "markdown",
   "id": "a5232c10-5610-4d96-bdb0-ef5f3b14915d",
   "metadata": {
    "jp-MarkdownHeadingCollapsed": true,
    "tags": []
   },
   "source": [
    "### Model 1"
   ]
  },
  {
   "cell_type": "code",
   "execution_count": 166,
   "id": "8548e4b3-e7c2-40a9-912a-0b7116be648a",
   "metadata": {},
   "outputs": [],
   "source": [
    "nstates = 4\n",
    "actions = [(1,2), 1,1,1]\n",
    "trans_p = [[[(0.5,2, 0), (0.5,4,2)], [(1.0, 3, 0.5)]], [[(1,2,0)]], [[(1,3,0)]], [[(1,4,0)]]]"
   ]
  },
  {
   "cell_type": "code",
   "execution_count": 167,
   "id": "2c782440-07d4-4e5d-8b6e-e4412b06fdfc",
   "metadata": {
    "tags": []
   },
   "outputs": [],
   "source": [
    "natoms = 16\n",
    "beta = 0.4\n",
    "delta_a = 0.2\n",
    "atoms = np.array([0+round(i*delta_a, 2) for i in range(natoms)])"
   ]
  },
  {
   "cell_type": "code",
   "execution_count": 173,
   "id": "c3b4506d-4e6a-4b26-a03b-b232602c32f2",
   "metadata": {},
   "outputs": [],
   "source": [
    "c_n = 0\n",
    "visited=[]\n",
    "# sigma = [[1,1,1,1], [1,1,1,1], [1,1,1,1], [1,1,1,1]] # sigma 1\n",
    "sigma = [[2,1,1,1], [2,1,1,1], [2,1,1,1], [2,1,1,1]] # sigma 2  \n",
    "desired_cost= 0"
   ]
  },
  {
   "cell_type": "code",
   "execution_count": 174,
   "id": "8d64058d-499e-4b4c-bc2f-e915ae05dc26",
   "metadata": {
    "tags": []
   },
   "outputs": [
    {
     "data": {
      "text/plain": [
       "array([[1., 0., 0., 0., 0., 0., 0., 0., 0., 0., 0., 0., 0., 0., 0., 0.],\n",
       "       [1., 0., 0., 0., 0., 0., 0., 0., 0., 0., 0., 0., 0., 0., 0., 0.],\n",
       "       [1., 0., 0., 0., 0., 0., 0., 0., 0., 0., 0., 0., 0., 0., 0., 0.],\n",
       "       [1., 0., 0., 0., 0., 0., 0., 0., 0., 0., 0., 0., 0., 0., 0., 0.]])"
      ]
     },
     "execution_count": 174,
     "metadata": {},
     "output_type": "execute_result"
    }
   ],
   "source": [
    "dist = np.zeros([nstates, natoms])\n",
    "for s in range(nstates):\n",
    "    dist[s][0]= 1.0\n",
    "    \n",
    "dist"
   ]
  },
  {
   "cell_type": "code",
   "execution_count": 175,
   "id": "5c844167-2cf5-4ea0-8ff0-322597d0b3dd",
   "metadata": {
    "collapsed": true,
    "jupyter": {
     "outputs_hidden": true
    },
    "tags": []
   },
   "outputs": [
    {
     "name": "stdout",
     "output_type": "stream",
     "text": [
      "\n",
      "------------- state: 0 ---------------\n",
      "[1. 0. 0. 0. 0. 0. 0. 0. 0. 0. 0. 0. 0. 0. 0. 0.]\n",
      "\n",
      "------------- state: 1 ---------------\n",
      "[1. 0. 0. 0. 0. 0. 0. 0. 0. 0. 0. 0. 0. 0. 0. 0.]\n",
      "\n",
      "------------- state: 2 ---------------\n",
      "[1. 0. 0. 0. 0. 0. 0. 0. 0. 0. 0. 0. 0. 0. 0. 0.]\n",
      "\n",
      "------------- state: 3 ---------------\n",
      "[1. 0. 0. 0. 0. 0. 0. 0. 0. 0. 0. 0. 0. 0. 0. 0.]\n",
      "\n",
      "------------- i: 0 ---------------\n",
      " [[0.  0.  0.5 0.5 0.  0.  0.  0.  0.  0.  0.  0.  0.  0.  0.  0. ]\n",
      " [1.  0.  0.  0.  0.  0.  0.  0.  0.  0.  0.  0.  0.  0.  0.  0. ]\n",
      " [1.  0.  0.  0.  0.  0.  0.  0.  0.  0.  0.  0.  0.  0.  0.  0. ]\n",
      " [1.  0.  0.  0.  0.  0.  0.  0.  0.  0.  0.  0.  0.  0.  0.  0. ]]\n",
      "\n",
      "------------- state: 0 ---------------\n",
      "[1. 0. 0. 0. 0. 0. 0. 0. 0. 0. 0. 0. 0. 0. 0. 0.]\n",
      "\n",
      "------------- state: 1 ---------------\n",
      "[1. 0. 0. 0. 0. 0. 0. 0. 0. 0. 0. 0. 0. 0. 0. 0.]\n",
      "\n",
      "------------- state: 2 ---------------\n",
      "[1. 0. 0. 0. 0. 0. 0. 0. 0. 0. 0. 0. 0. 0. 0. 0.]\n",
      "\n",
      "------------- state: 3 ---------------\n",
      "[1. 0. 0. 0. 0. 0. 0. 0. 0. 0. 0. 0. 0. 0. 0. 0.]\n",
      "\n",
      "------------- i: 1 ---------------\n",
      " [[0.  0.  0.5 0.5 0.  0.  0.  0.  0.  0.  0.  0.  0.  0.  0.  0. ]\n",
      " [1.  0.  0.  0.  0.  0.  0.  0.  0.  0.  0.  0.  0.  0.  0.  0. ]\n",
      " [1.  0.  0.  0.  0.  0.  0.  0.  0.  0.  0.  0.  0.  0.  0.  0. ]\n",
      " [1.  0.  0.  0.  0.  0.  0.  0.  0.  0.  0.  0.  0.  0.  0.  0. ]]\n",
      "\n",
      "------------- state: 0 ---------------\n",
      "[1. 0. 0. 0. 0. 0. 0. 0. 0. 0. 0. 0. 0. 0. 0. 0.]\n",
      "\n",
      "------------- state: 1 ---------------\n",
      "[1. 0. 0. 0. 0. 0. 0. 0. 0. 0. 0. 0. 0. 0. 0. 0.]\n",
      "\n",
      "------------- state: 2 ---------------\n",
      "[1. 0. 0. 0. 0. 0. 0. 0. 0. 0. 0. 0. 0. 0. 0. 0.]\n",
      "\n",
      "------------- state: 3 ---------------\n",
      "[1. 0. 0. 0. 0. 0. 0. 0. 0. 0. 0. 0. 0. 0. 0. 0.]\n",
      "\n",
      "------------- i: 2 ---------------\n",
      " [[0.  0.  0.5 0.5 0.  0.  0.  0.  0.  0.  0.  0.  0.  0.  0.  0. ]\n",
      " [1.  0.  0.  0.  0.  0.  0.  0.  0.  0.  0.  0.  0.  0.  0.  0. ]\n",
      " [1.  0.  0.  0.  0.  0.  0.  0.  0.  0.  0.  0.  0.  0.  0.  0. ]\n",
      " [1.  0.  0.  0.  0.  0.  0.  0.  0.  0.  0.  0.  0.  0.  0.  0. ]]\n",
      "\n",
      "------------- state: 0 ---------------\n",
      "[1. 0. 0. 0. 0. 0. 0. 0. 0. 0. 0. 0. 0. 0. 0. 0.]\n",
      "\n",
      "------------- state: 1 ---------------\n",
      "[1. 0. 0. 0. 0. 0. 0. 0. 0. 0. 0. 0. 0. 0. 0. 0.]\n",
      "\n",
      "------------- state: 2 ---------------\n",
      "[1. 0. 0. 0. 0. 0. 0. 0. 0. 0. 0. 0. 0. 0. 0. 0.]\n",
      "\n",
      "------------- state: 3 ---------------\n",
      "[1. 0. 0. 0. 0. 0. 0. 0. 0. 0. 0. 0. 0. 0. 0. 0.]\n",
      "\n",
      "------------- i: 3 ---------------\n",
      " [[0.  0.  0.5 0.5 0.  0.  0.  0.  0.  0.  0.  0.  0.  0.  0.  0. ]\n",
      " [1.  0.  0.  0.  0.  0.  0.  0.  0.  0.  0.  0.  0.  0.  0.  0. ]\n",
      " [1.  0.  0.  0.  0.  0.  0.  0.  0.  0.  0.  0.  0.  0.  0.  0. ]\n",
      " [1.  0.  0.  0.  0.  0.  0.  0.  0.  0.  0.  0.  0.  0.  0.  0. ]]\n"
     ]
    }
   ],
   "source": [
    "value_iteration(sigma, trans_p)"
   ]
  },
  {
   "cell_type": "code",
   "execution_count": 176,
   "id": "661767a8-cb26-416a-a9be-74cfa28ca509",
   "metadata": {},
   "outputs": [
    {
     "name": "stdout",
     "output_type": "stream",
     "text": [
      " VaR sigma [[2, 1, 1, 1], [2, 1, 1, 1], [2, 1, 1, 1], [2, 1, 1, 1]], alpha:0.5\n",
      "0.4\n"
     ]
    }
   ],
   "source": [
    "alpha=0.5\n",
    "print(f\" VaR sigma {sigma}, alpha:{alpha}\")\n",
    "var=get_var(dist[0], alpha, atoms)\n",
    "print(var)"
   ]
  },
  {
   "cell_type": "code",
   "execution_count": 177,
   "id": "45b0f9a8-2496-4c37-9f38-cc28ae1d34f6",
   "metadata": {},
   "outputs": [
    {
     "name": "stdout",
     "output_type": "stream",
     "text": [
      " CvaR sigma [[2, 1, 1, 1], [2, 1, 1, 1], [2, 1, 1, 1], [2, 1, 1, 1]], alpha:0.5\n",
      "0.6\n"
     ]
    }
   ],
   "source": [
    "print(f\" CvaR sigma {sigma}, alpha:{alpha}\")\n",
    "print(get_cvar(dist[0], alpha, atoms, var))    "
   ]
  },
  {
   "cell_type": "code",
   "execution_count": 117,
   "id": "e84af5f4-be2a-4832-a3ac-0edb5ac0d308",
   "metadata": {
    "collapsed": true,
    "jupyter": {
     "outputs_hidden": true,
     "source_hidden": true
    },
    "tags": []
   },
   "outputs": [
    {
     "name": "stdout",
     "output_type": "stream",
     "text": [
      "[(0.5, 2, 0), (0.5, 4, 2)]\n",
      "cost : 0.0, index :0.0, cur_p 1.0\n",
      "cost : 2.0, index :10.0, cur_p 1.0\n",
      "[0.5, 0.5]\n",
      "[[0.5 0.  0.  0.  0.  0.  0.  0.  0.  0.  0.5 0.  0.  0.  0.  0. ]]\n",
      "[0.0, 0.2, 0.4, 0.6, 0.8, 1.0, 1.2, 1.4, 1.6, 1.8, 2.0, 2.2, 2.4, 2.6, 2.8, 3.0]\n",
      "{1, 3}\n"
     ]
    }
   ],
   "source": [
    "cur_s = [0]\n",
    "cur_p = [1.0]\n",
    "c =np.zeros([T,natoms])\n",
    "for i in range(T):\n",
    "    for j,s in enumerate(cur_s):\n",
    "        action = sigma[i][s]-1\n",
    "        news = set()\n",
    "        newp = []\n",
    "        print(trans_p[s][action])\n",
    "        for transition in trans_p[s][action]:\n",
    "            cost = transition[2]*pow(beta,i)\n",
    "            index = round(cost/delta_a, 2)\n",
    "            print(f\"cost : {cost}, index :{cost/delta_a}, cur_p {cur_p[j]}\")\n",
    "            c[i][int(index)] += (transition[0] * cur_p[j])\n",
    "            news.add(transition[1]-1)\n",
    "            newp.append(transition[0])\n",
    "    cur_s = list(news)\n",
    "    cur_p = newp\n",
    "    print(newp)\n",
    "            \n",
    "print(c)\n",
    "print(atoms)\n",
    "print(news)"
   ]
  },
  {
   "cell_type": "code",
   "execution_count": 165,
   "id": "bae89159-79e7-4ac3-b9cf-4cbe42b7407a",
   "metadata": {},
   "outputs": [
    {
     "data": {
      "text/plain": [
       "array([0. , 0.2, 0.4, 0.6, 0.8, 1. , 1.2, 1.4, 1.6, 1.8, 2. , 2.2, 2.4,\n",
       "       2.6, 2.8, 3. ])"
      ]
     },
     "execution_count": 165,
     "metadata": {},
     "output_type": "execute_result"
    }
   ],
   "source": [
    "atoms"
   ]
  },
  {
   "cell_type": "markdown",
   "id": "bc539004-3496-4c88-81fc-7560dde7c918",
   "metadata": {},
   "source": [
    "### Model 2"
   ]
  },
  {
   "cell_type": "code",
   "execution_count": 25,
   "id": "4619212c-4a13-475e-911c-2d44a0554002",
   "metadata": {},
   "outputs": [],
   "source": [
    "nstates = 3\n",
    "actions = [(1,2), 1,1]\n",
    "trans_p = [[[(0.5,2, 0), (0.5,1,0)], [(1.0, 3, 0.5)]], [[(1,2,1)]], [[(1,3,0)]]]"
   ]
  },
  {
   "cell_type": "code",
   "execution_count": 26,
   "id": "e06986b1-7282-4111-a7cc-7dd63b4195e8",
   "metadata": {
    "tags": []
   },
   "outputs": [],
   "source": [
    "natoms = 16\n",
    "beta = 0.4\n",
    "delta_a = 0.2\n",
    "atoms = np.array([0+round(i*delta_a, 2) for i in range(natoms)])"
   ]
  },
  {
   "cell_type": "code",
   "execution_count": 27,
   "id": "28faa02c-f220-47f7-bd41-2b0d95ea9e60",
   "metadata": {
    "tags": []
   },
   "outputs": [
    {
     "data": {
      "text/plain": [
       "array([[1., 0., 0., 0., 0., 0., 0., 0., 0., 0., 0., 0., 0., 0., 0., 0.],\n",
       "       [1., 0., 0., 0., 0., 0., 0., 0., 0., 0., 0., 0., 0., 0., 0., 0.],\n",
       "       [1., 0., 0., 0., 0., 0., 0., 0., 0., 0., 0., 0., 0., 0., 0., 0.]])"
      ]
     },
     "execution_count": 27,
     "metadata": {},
     "output_type": "execute_result"
    }
   ],
   "source": [
    "dist = np.zeros([nstates, natoms])\n",
    "for s in range(nstates):\n",
    "    dist[s][0]= 1.0\n",
    "    \n",
    "dist"
   ]
  },
  {
   "cell_type": "code",
   "execution_count": 28,
   "id": "0d6134af-bb47-4cc7-8a1d-f1d878ffb915",
   "metadata": {},
   "outputs": [],
   "source": [
    "# sigma = [[1,1,1,1], [1,1,1,1]] # sigma 1\n",
    "sigma = [[2,1,1], [1,1,1]] # sigma 2  \n",
    "desired_cost= 0"
   ]
  },
  {
   "cell_type": "code",
   "execution_count": 29,
   "id": "c47877b0-f472-48ab-9cfe-c20ea6ac22f6",
   "metadata": {
    "collapsed": true,
    "jupyter": {
     "outputs_hidden": true
    },
    "tags": []
   },
   "outputs": [
    {
     "name": "stdout",
     "output_type": "stream",
     "text": [
      "\n",
      "------------- state: 0 ---------------\n",
      "[1. 0. 0. 0. 0. 0. 0. 0. 0. 0. 0. 0. 0. 0. 0. 0.]\n",
      "2.5 atoms[a]: 0.0 sum_p[a]: 1.0 cost: 0.5 discount:  0.4\n",
      "2.9 atoms[a]: 0.2 sum_p[a]: 0.0 cost: 0.5800000000000001 discount:  0.4\n",
      "3.3 atoms[a]: 0.4 sum_p[a]: 0.0 cost: 0.66 discount:  0.4\n",
      "3.7 atoms[a]: 0.6 sum_p[a]: 0.0 cost: 0.74 discount:  0.4\n",
      "4.1 atoms[a]: 0.8 sum_p[a]: 0.0 cost: 0.8200000000000001 discount:  0.4\n",
      "4.5 atoms[a]: 1.0 sum_p[a]: 0.0 cost: 0.9 discount:  0.4\n",
      "4.9 atoms[a]: 1.2 sum_p[a]: 0.0 cost: 0.98 discount:  0.4\n",
      "5.3 atoms[a]: 1.4 sum_p[a]: 0.0 cost: 1.06 discount:  0.4\n",
      "5.7 atoms[a]: 1.6 sum_p[a]: 0.0 cost: 1.1400000000000001 discount:  0.4\n",
      "6.1 atoms[a]: 1.8 sum_p[a]: 0.0 cost: 1.2200000000000002 discount:  0.4\n",
      "6.5 atoms[a]: 2.0 sum_p[a]: 0.0 cost: 1.3 discount:  0.4\n",
      "6.9 atoms[a]: 2.2 sum_p[a]: 0.0 cost: 1.3800000000000001 discount:  0.4\n",
      "7.3 atoms[a]: 2.4 sum_p[a]: 0.0 cost: 1.46 discount:  0.4\n",
      "7.7 atoms[a]: 2.6 sum_p[a]: 0.0 cost: 1.54 discount:  0.4\n",
      "8.1 atoms[a]: 2.8 sum_p[a]: 0.0 cost: 1.6199999999999999 discount:  0.4\n",
      "8.5 atoms[a]: 3.0 sum_p[a]: 0.0 cost: 1.7000000000000002 discount:  0.4\n",
      "\n",
      "------------- state: 1 ---------------\n",
      "[1. 0. 0. 0. 0. 0. 0. 0. 0. 0. 0. 0. 0. 0. 0. 0.]\n",
      "5.0 atoms[a]: 0.0 sum_p[a]: 1.0 cost: 1.0 discount:  0.4\n",
      "5.4 atoms[a]: 0.2 sum_p[a]: 0.0 cost: 1.08 discount:  0.4\n",
      "5.8 atoms[a]: 0.4 sum_p[a]: 0.0 cost: 1.1600000000000001 discount:  0.4\n",
      "6.2 atoms[a]: 0.6 sum_p[a]: 0.0 cost: 1.24 discount:  0.4\n",
      "6.6 atoms[a]: 0.8 sum_p[a]: 0.0 cost: 1.32 discount:  0.4\n",
      "7.0 atoms[a]: 1.0 sum_p[a]: 0.0 cost: 1.4 discount:  0.4\n",
      "7.4 atoms[a]: 1.2 sum_p[a]: 0.0 cost: 1.48 discount:  0.4\n",
      "7.8 atoms[a]: 1.4 sum_p[a]: 0.0 cost: 1.56 discount:  0.4\n",
      "8.2 atoms[a]: 1.6 sum_p[a]: 0.0 cost: 1.6400000000000001 discount:  0.4\n",
      "8.6 atoms[a]: 1.8 sum_p[a]: 0.0 cost: 1.7200000000000002 discount:  0.4\n",
      "9.0 atoms[a]: 2.0 sum_p[a]: 0.0 cost: 1.8 discount:  0.4\n",
      "9.4 atoms[a]: 2.2 sum_p[a]: 0.0 cost: 1.8800000000000001 discount:  0.4\n",
      "9.8 atoms[a]: 2.4 sum_p[a]: 0.0 cost: 1.96 discount:  0.4\n",
      "10.2 atoms[a]: 2.6 sum_p[a]: 0.0 cost: 2.04 discount:  0.4\n",
      "10.6 atoms[a]: 2.8 sum_p[a]: 0.0 cost: 2.12 discount:  0.4\n",
      "11.0 atoms[a]: 3.0 sum_p[a]: 0.0 cost: 2.2 discount:  0.4\n",
      "\n",
      "------------- state: 2 ---------------\n",
      "[1. 0. 0. 0. 0. 0. 0. 0. 0. 0. 0. 0. 0. 0. 0. 0.]\n",
      "0.0 atoms[a]: 0.0 sum_p[a]: 1.0 cost: 0.0 discount:  0.4\n",
      "0.4 atoms[a]: 0.2 sum_p[a]: 0.0 cost: 0.08000000000000002 discount:  0.4\n",
      "0.8 atoms[a]: 0.4 sum_p[a]: 0.0 cost: 0.16000000000000003 discount:  0.4\n",
      "1.2 atoms[a]: 0.6 sum_p[a]: 0.0 cost: 0.24 discount:  0.4\n",
      "1.6 atoms[a]: 0.8 sum_p[a]: 0.0 cost: 0.32000000000000006 discount:  0.4\n",
      "2.0 atoms[a]: 1.0 sum_p[a]: 0.0 cost: 0.4 discount:  0.4\n",
      "2.4 atoms[a]: 1.2 sum_p[a]: 0.0 cost: 0.48 discount:  0.4\n",
      "2.8 atoms[a]: 1.4 sum_p[a]: 0.0 cost: 0.5599999999999999 discount:  0.4\n",
      "3.2 atoms[a]: 1.6 sum_p[a]: 0.0 cost: 0.6400000000000001 discount:  0.4\n",
      "3.6 atoms[a]: 1.8 sum_p[a]: 0.0 cost: 0.7200000000000001 discount:  0.4\n",
      "4.0 atoms[a]: 2.0 sum_p[a]: 0.0 cost: 0.8 discount:  0.4\n",
      "4.4 atoms[a]: 2.2 sum_p[a]: 0.0 cost: 0.8800000000000001 discount:  0.4\n",
      "4.8 atoms[a]: 2.4 sum_p[a]: 0.0 cost: 0.96 discount:  0.4\n",
      "5.2 atoms[a]: 2.6 sum_p[a]: 0.0 cost: 1.04 discount:  0.4\n",
      "5.6 atoms[a]: 2.8 sum_p[a]: 0.0 cost: 1.1199999999999999 discount:  0.4\n",
      "6.0 atoms[a]: 3.0 sum_p[a]: 0.0 cost: 1.2000000000000002 discount:  0.4\n",
      "\n",
      "------------- i: 0 ---------------\n",
      " [[0.  0.  0.5 0.5 0.  0.  0.  0.  0.  0.  0.  0.  0.  0.  0.  0. ]\n",
      " [0.  0.  0.  0.  0.  1.  0.  0.  0.  0.  0.  0.  0.  0.  0.  0. ]\n",
      " [1.  0.  0.  0.  0.  0.  0.  0.  0.  0.  0.  0.  0.  0.  0.  0. ]]\n",
      "\n",
      "------------- state: 0 ---------------\n",
      "[0.   0.   0.25 0.25 0.   0.5  0.   0.   0.   0.   0.   0.   0.   0.\n",
      " 0.   0.  ]\n",
      "0.0 atoms[a]: 0.0 sum_p[a]: 0.0 cost: 0.0 discount:  0.4\n",
      "0.0 atoms[a]: 0.0 sum_p[a]: 0.0 cost: 0.0 discount:  0.4\n",
      "0.4 atoms[a]: 0.2 sum_p[a]: 0.0 cost: 0.08000000000000002 discount:  0.4\n",
      "0.4 atoms[a]: 0.2 sum_p[a]: 0.0 cost: 0.08000000000000002 discount:  0.4\n",
      "0.8 atoms[a]: 0.4 sum_p[a]: 0.25 cost: 0.16000000000000003 discount:  0.4\n",
      "0.8 atoms[a]: 0.4 sum_p[a]: 0.25 cost: 0.16000000000000003 discount:  0.4\n",
      "1.2 atoms[a]: 0.6 sum_p[a]: 0.25 cost: 0.24 discount:  0.4\n",
      "1.2 atoms[a]: 0.6 sum_p[a]: 0.25 cost: 0.24 discount:  0.4\n",
      "1.6 atoms[a]: 0.8 sum_p[a]: 0.0 cost: 0.32000000000000006 discount:  0.4\n",
      "1.6 atoms[a]: 0.8 sum_p[a]: 0.0 cost: 0.32000000000000006 discount:  0.4\n",
      "2.0 atoms[a]: 1.0 sum_p[a]: 0.5 cost: 0.4 discount:  0.4\n",
      "2.0 atoms[a]: 1.0 sum_p[a]: 0.5 cost: 0.4 discount:  0.4\n",
      "2.4 atoms[a]: 1.2 sum_p[a]: 0.0 cost: 0.48 discount:  0.4\n",
      "2.4 atoms[a]: 1.2 sum_p[a]: 0.0 cost: 0.48 discount:  0.4\n",
      "2.8 atoms[a]: 1.4 sum_p[a]: 0.0 cost: 0.5599999999999999 discount:  0.4\n",
      "2.8 atoms[a]: 1.4 sum_p[a]: 0.0 cost: 0.5599999999999999 discount:  0.4\n",
      "3.2 atoms[a]: 1.6 sum_p[a]: 0.0 cost: 0.6400000000000001 discount:  0.4\n",
      "3.2 atoms[a]: 1.6 sum_p[a]: 0.0 cost: 0.6400000000000001 discount:  0.4\n",
      "3.6 atoms[a]: 1.8 sum_p[a]: 0.0 cost: 0.7200000000000001 discount:  0.4\n",
      "3.6 atoms[a]: 1.8 sum_p[a]: 0.0 cost: 0.7200000000000001 discount:  0.4\n",
      "4.0 atoms[a]: 2.0 sum_p[a]: 0.0 cost: 0.8 discount:  0.4\n",
      "4.0 atoms[a]: 2.0 sum_p[a]: 0.0 cost: 0.8 discount:  0.4\n",
      "4.4 atoms[a]: 2.2 sum_p[a]: 0.0 cost: 0.8800000000000001 discount:  0.4\n",
      "4.4 atoms[a]: 2.2 sum_p[a]: 0.0 cost: 0.8800000000000001 discount:  0.4\n",
      "4.8 atoms[a]: 2.4 sum_p[a]: 0.0 cost: 0.96 discount:  0.4\n",
      "4.8 atoms[a]: 2.4 sum_p[a]: 0.0 cost: 0.96 discount:  0.4\n",
      "5.2 atoms[a]: 2.6 sum_p[a]: 0.0 cost: 1.04 discount:  0.4\n",
      "5.2 atoms[a]: 2.6 sum_p[a]: 0.0 cost: 1.04 discount:  0.4\n",
      "5.6 atoms[a]: 2.8 sum_p[a]: 0.0 cost: 1.1199999999999999 discount:  0.4\n",
      "5.6 atoms[a]: 2.8 sum_p[a]: 0.0 cost: 1.1199999999999999 discount:  0.4\n",
      "6.0 atoms[a]: 3.0 sum_p[a]: 0.0 cost: 1.2000000000000002 discount:  0.4\n",
      "6.0 atoms[a]: 3.0 sum_p[a]: 0.0 cost: 1.2000000000000002 discount:  0.4\n",
      "\n",
      "------------- state: 1 ---------------\n",
      "[0. 0. 0. 0. 0. 1. 0. 0. 0. 0. 0. 0. 0. 0. 0. 0.]\n",
      "5.0 atoms[a]: 0.0 sum_p[a]: 0.0 cost: 1.0 discount:  0.4\n",
      "5.4 atoms[a]: 0.2 sum_p[a]: 0.0 cost: 1.08 discount:  0.4\n",
      "5.8 atoms[a]: 0.4 sum_p[a]: 0.0 cost: 1.1600000000000001 discount:  0.4\n",
      "6.2 atoms[a]: 0.6 sum_p[a]: 0.0 cost: 1.24 discount:  0.4\n",
      "6.6 atoms[a]: 0.8 sum_p[a]: 0.0 cost: 1.32 discount:  0.4\n",
      "7.0 atoms[a]: 1.0 sum_p[a]: 1.0 cost: 1.4 discount:  0.4\n",
      "7.4 atoms[a]: 1.2 sum_p[a]: 0.0 cost: 1.48 discount:  0.4\n",
      "7.8 atoms[a]: 1.4 sum_p[a]: 0.0 cost: 1.56 discount:  0.4\n",
      "8.2 atoms[a]: 1.6 sum_p[a]: 0.0 cost: 1.6400000000000001 discount:  0.4\n",
      "8.6 atoms[a]: 1.8 sum_p[a]: 0.0 cost: 1.7200000000000002 discount:  0.4\n",
      "9.0 atoms[a]: 2.0 sum_p[a]: 0.0 cost: 1.8 discount:  0.4\n",
      "9.4 atoms[a]: 2.2 sum_p[a]: 0.0 cost: 1.8800000000000001 discount:  0.4\n",
      "9.8 atoms[a]: 2.4 sum_p[a]: 0.0 cost: 1.96 discount:  0.4\n",
      "10.2 atoms[a]: 2.6 sum_p[a]: 0.0 cost: 2.04 discount:  0.4\n",
      "10.6 atoms[a]: 2.8 sum_p[a]: 0.0 cost: 2.12 discount:  0.4\n",
      "11.0 atoms[a]: 3.0 sum_p[a]: 0.0 cost: 2.2 discount:  0.4\n",
      "\n",
      "------------- state: 2 ---------------\n",
      "[1. 0. 0. 0. 0. 0. 0. 0. 0. 0. 0. 0. 0. 0. 0. 0.]\n",
      "0.0 atoms[a]: 0.0 sum_p[a]: 1.0 cost: 0.0 discount:  0.4\n",
      "0.4 atoms[a]: 0.2 sum_p[a]: 0.0 cost: 0.08000000000000002 discount:  0.4\n",
      "0.8 atoms[a]: 0.4 sum_p[a]: 0.0 cost: 0.16000000000000003 discount:  0.4\n",
      "1.2 atoms[a]: 0.6 sum_p[a]: 0.0 cost: 0.24 discount:  0.4\n",
      "1.6 atoms[a]: 0.8 sum_p[a]: 0.0 cost: 0.32000000000000006 discount:  0.4\n",
      "2.0 atoms[a]: 1.0 sum_p[a]: 0.0 cost: 0.4 discount:  0.4\n",
      "2.4 atoms[a]: 1.2 sum_p[a]: 0.0 cost: 0.48 discount:  0.4\n",
      "2.8 atoms[a]: 1.4 sum_p[a]: 0.0 cost: 0.5599999999999999 discount:  0.4\n",
      "3.2 atoms[a]: 1.6 sum_p[a]: 0.0 cost: 0.6400000000000001 discount:  0.4\n",
      "3.6 atoms[a]: 1.8 sum_p[a]: 0.0 cost: 0.7200000000000001 discount:  0.4\n",
      "4.0 atoms[a]: 2.0 sum_p[a]: 0.0 cost: 0.8 discount:  0.4\n",
      "4.4 atoms[a]: 2.2 sum_p[a]: 0.0 cost: 0.8800000000000001 discount:  0.4\n",
      "4.8 atoms[a]: 2.4 sum_p[a]: 0.0 cost: 0.96 discount:  0.4\n",
      "5.2 atoms[a]: 2.6 sum_p[a]: 0.0 cost: 1.04 discount:  0.4\n",
      "5.6 atoms[a]: 2.8 sum_p[a]: 0.0 cost: 1.1199999999999999 discount:  0.4\n",
      "6.0 atoms[a]: 3.0 sum_p[a]: 0.0 cost: 1.2000000000000002 discount:  0.4\n",
      "\n",
      "------------- i: 1 ---------------\n",
      " [[5.0000000e-02 4.0000000e-01 5.5000000e-01 0.0000000e+00 0.0000000e+00\n",
      "  0.0000000e+00 0.0000000e+00 0.0000000e+00 0.0000000e+00 0.0000000e+00\n",
      "  0.0000000e+00 0.0000000e+00 0.0000000e+00 0.0000000e+00 0.0000000e+00\n",
      "  0.0000000e+00]\n",
      " [0.0000000e+00 0.0000000e+00 0.0000000e+00 0.0000000e+00 0.0000000e+00\n",
      "  0.0000000e+00 8.8817842e-16 1.0000000e+00 0.0000000e+00 0.0000000e+00\n",
      "  0.0000000e+00 0.0000000e+00 0.0000000e+00 0.0000000e+00 0.0000000e+00\n",
      "  0.0000000e+00]\n",
      " [1.0000000e+00 0.0000000e+00 0.0000000e+00 0.0000000e+00 0.0000000e+00\n",
      "  0.0000000e+00 0.0000000e+00 0.0000000e+00 0.0000000e+00 0.0000000e+00\n",
      "  0.0000000e+00 0.0000000e+00 0.0000000e+00 0.0000000e+00 0.0000000e+00\n",
      "  0.0000000e+00]]\n"
     ]
    }
   ],
   "source": [
    "value_iteration(sigma, trans_p, beta=0.4, nstates=nstates, T=2)"
   ]
  },
  {
   "cell_type": "code",
   "execution_count": 30,
   "id": "94c5af0c-68be-446d-a44d-dd8a892c8f6f",
   "metadata": {},
   "outputs": [
    {
     "data": {
      "text/plain": [
       "array([0. , 0.2, 0.4, 0.6, 0.8, 1. , 1.2, 1.4, 1.6, 1.8, 2. , 2.2, 2.4,\n",
       "       2.6, 2.8, 3. ])"
      ]
     },
     "execution_count": 30,
     "metadata": {},
     "output_type": "execute_result"
    }
   ],
   "source": [
    "atoms"
   ]
  },
  {
   "cell_type": "code",
   "execution_count": 31,
   "id": "2540abaf-9646-4517-9b3c-3ac461718e55",
   "metadata": {},
   "outputs": [
    {
     "data": {
      "text/plain": [
       "array([0.05, 0.4 , 0.55, 0.  , 0.  , 0.  , 0.  , 0.  , 0.  , 0.  , 0.  ,\n",
       "       0.  , 0.  , 0.  , 0.  , 0.  ])"
      ]
     },
     "execution_count": 31,
     "metadata": {},
     "output_type": "execute_result"
    }
   ],
   "source": [
    "dist[0]"
   ]
  },
  {
   "cell_type": "code",
   "execution_count": 32,
   "id": "2779f1a9-0698-482f-baf6-327ffe363e23",
   "metadata": {},
   "outputs": [
    {
     "name": "stdout",
     "output_type": "stream",
     "text": [
      " VaR sigma [[2, 1, 1], [1, 1, 1]], alpha:0.5\n",
      "0.4\n"
     ]
    }
   ],
   "source": [
    "alpha=0.5\n",
    "print(f\" VaR sigma {sigma}, alpha:{alpha}\")\n",
    "var=get_var(dist[0], alpha, atoms)\n",
    "print(var)"
   ]
  },
  {
   "cell_type": "code",
   "execution_count": 33,
   "id": "90090ecc-0883-4bfe-b2bc-4f441fac4e96",
   "metadata": {},
   "outputs": [
    {
     "name": "stdout",
     "output_type": "stream",
     "text": [
      " CvaR sigma [[2, 1, 1], [1, 1, 1]], alpha:0.5\n",
      "0.4\n"
     ]
    }
   ],
   "source": [
    "print(f\" CvaR sigma {sigma}, alpha:{alpha}\")\n",
    "print(get_cvar(dist[0], alpha, atoms, var))    "
   ]
  },
  {
   "cell_type": "code",
   "execution_count": 66,
   "id": "bcc11650-3d97-49b7-998f-c3942abe5aeb",
   "metadata": {
    "jupyter": {
     "source_hidden": true
    },
    "tags": []
   },
   "outputs": [
    {
     "name": "stdout",
     "output_type": "stream",
     "text": [
      "[(0.5, 2, 0), (0.5, 1, 0)]\n",
      "[(1.0, 2, 0.5)]\n",
      "[(1, 1, 1)]\n",
      "[[1.  0.  0.  0.  0.  0.  0.  0.  0.  0.  0.  0.  0.  0.  0.  0. ]\n",
      " [0.  0.5 0.5 0.  0.  0.  0.  0.  0.  0.  0.  0.  0.  0.  0.  0. ]]\n",
      "[0.0, 0.2, 0.4, 0.6, 0.8, 1.0, 1.2, 1.4, 1.6, 1.8, 2.0, 2.2, 2.4, 2.6, 2.8, 3.0]\n",
      "{0}\n"
     ]
    }
   ],
   "source": [
    "cur_s = [0]\n",
    "cur_p = [1.0]\n",
    "c =np.zeros([T,natoms])\n",
    "for i in range(T):\n",
    "    for j,s in enumerate(cur_s):\n",
    "        action = sigma[i][s]-1\n",
    "        news = set()\n",
    "        newp = []\n",
    "        print(trans_p[s][action])\n",
    "        for transition in trans_p[s][action]:\n",
    "            cost = transition[2]*pow(beta,i)\n",
    "            # print(f\"cost : {cost}, cur_p {cur_p[j]}\")\n",
    "            index = np.floor(cost/delta_a)\n",
    "            c[i][int(index)] += (transition[0] * cur_p[j])\n",
    "            news.add(transition[1]-1)\n",
    "            newp.append(transition[0])\n",
    "    cur_s = list(news)\n",
    "    cur_p = newp\n",
    "    # print(newp)\n",
    "            \n",
    "print(c)\n",
    "print(atoms)\n",
    "print(news)"
   ]
  },
  {
   "cell_type": "code",
   "execution_count": null,
   "id": "8b022928-4781-4b72-aa22-e9ca8b4fdf3a",
   "metadata": {},
   "outputs": [],
   "source": []
  }
 ],
 "metadata": {
  "kernelspec": {
   "display_name": "Python 3",
   "language": "python",
   "name": "python3"
  },
  "language_info": {
   "codemirror_mode": {
    "name": "ipython",
    "version": 3
   },
   "file_extension": ".py",
   "mimetype": "text/x-python",
   "name": "python",
   "nbconvert_exporter": "python",
   "pygments_lexer": "ipython3",
   "version": "3.6.9"
  }
 },
 "nbformat": 4,
 "nbformat_minor": 5
}
