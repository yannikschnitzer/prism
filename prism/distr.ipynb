{
 "cells": [
  {
   "cell_type": "code",
   "execution_count": 1,
   "id": "d0ffc76b",
   "metadata": {},
   "outputs": [],
   "source": [
    "import pandas as pd\n",
    "import matplotlib.pyplot as plt\n",
    "import matplotlib\n",
    "# import seaborn as sns\n",
    "import numpy as np\n",
    "# import torch\n",
    "# import torch.distributions.categorical\n",
    "import scipy\n",
    "import scipy.stats\n",
    "import math\n",
    "from scipy.interpolate import make_interp_spline, BSpline\n"
   ]
  },
  {
   "cell_type": "code",
   "execution_count": 2,
   "id": "327dc4c4-e319-49ff-a212-28f9654165f9",
   "metadata": {
    "tags": []
   },
   "outputs": [],
   "source": [
    "def adjust_qr(rx, rp, rz):\n",
    "    \n",
    "    rz_new, rp_new = np.unique(rx, return_counts=True)\n",
    "    rp_new = rp_new * rp[0]\n",
    "    #rz_new= np.arange(0, len(rp_new), 1)\n",
    "    \n",
    "    return rx, rp_new, rz_new"
   ]
  },
  {
   "cell_type": "code",
   "execution_count": 3,
   "id": "e716ee25-8ff4-46ed-9919-bf7b52d0774b",
   "metadata": {
    "tags": []
   },
   "outputs": [],
   "source": [
    "def VaR(z, p, lim):\n",
    "    var = 0\n",
    "    cum_p = 0\n",
    "    for j, atom in enumerate(p):\n",
    "        cum_p += atom\n",
    "        if cum_p>= lim:\n",
    "            var = z[j]\n",
    "            break\n",
    "    return var\n",
    "\n",
    "def CVaR (z, p, var, lim):\n",
    "    cvar = var\n",
    "    expected_c = 0 \n",
    "    for i, j in enumerate(p):\n",
    "        if p[i] > 0:\n",
    "            expected_c += j * max(0, z[i]-var)\n",
    "    cvar+= 1/(1- alpha) * expected_c\n",
    "    return cvar\n",
    "\n",
    "def variance(z, p):\n",
    "    average = np.average(z, weights=p)\n",
    "    variance = np.average((z-average)**2, weights=p)\n",
    "    return variance\n",
    "\n",
    "def weighted_mean(z,p):\n",
    "    return np.average(z, weights=p)\n",
    "\n",
    "def prob_threshold(z, p, thresh):\n",
    "    cum_p = 0\n",
    "    for j, atom in enumerate(p):        \n",
    "        if z[j]>= thresh:\n",
    "            cum_p += atom\n",
    "            \n",
    "    return cum_p"
   ]
  },
  {
   "cell_type": "code",
   "execution_count": 4,
   "id": "6dd78d4e-9fdc-47c9-99f2-7ff041e32760",
   "metadata": {},
   "outputs": [],
   "source": [
    "def l2 (u_values, v_values, u_weights=None, v_weights=None, debug=False):\n",
    "    u_values = np.asarray(u_values, dtype=float)\n",
    "    v_values = np.asarray(v_values, dtype=float)\n",
    "    u_weights = np.asarray(u_weights, dtype=float)\n",
    "    v_weights = np.asarray(v_weights, dtype=float)\n",
    "    \n",
    "    u_sorter = np.argsort(u_values)\n",
    "    v_sorter = np.argsort(v_values)\n",
    "\n",
    "    all_values = np.concatenate((u_values, v_values))\n",
    "    all_values.sort(kind='mergesort')\n",
    "\n",
    "    # Compute the differences between pairs of successive values of u and v.\n",
    "    deltas = np.diff(all_values)\n",
    "\n",
    "    # Get the respective positions of the values of u and v among the values of\n",
    "    # both distributions.\n",
    "    u_cdf_indices = u_values[u_sorter].searchsorted(all_values[:-1], 'right')\n",
    "    v_cdf_indices = v_values[v_sorter].searchsorted(all_values[:-1], 'right')\n",
    "\n",
    "    # Calculate the CDFs of u and v using their weights\n",
    "    u_sorted_cumweights = np.concatenate(([0],np.cumsum(u_weights[u_sorter])))\n",
    "    u_cdf = u_sorted_cumweights[u_cdf_indices] / u_sorted_cumweights[-1]\n",
    "\n",
    "    v_sorted_cumweights = np.concatenate(([0],np.cumsum(v_weights[v_sorter])))\n",
    "    v_cdf = v_sorted_cumweights[v_cdf_indices] / v_sorted_cumweights[-1]\n",
    "    \n",
    "    if debug:\n",
    "        print(\"delta\", deltas)\n",
    "        print(\"cdf u:\", u_cdf)\n",
    "        print(\"cdf v:\", v_cdf)\n",
    "        print(\"square cdf u - cdf v\", np.square(u_cdf - v_cdf))\n",
    "        print(\"square diff * delta\", np.multiply(np.square(u_cdf - v_cdf), deltas))\n",
    "        print(\"sum( (square diff) *delta))\", np.sum(np.multiply(np.square(u_cdf - v_cdf), deltas)))\n",
    "    return np.sqrt(np.sum(np.multiply(np.square(u_cdf - v_cdf), deltas)))\n"
   ]
  },
  {
   "attachments": {},
   "cell_type": "markdown",
   "id": "ed53a987-d958-4c52-b7c1-db66dd775e6f",
   "metadata": {},
   "source": [
    "## Graphs"
   ]
  },
  {
   "attachments": {},
   "cell_type": "markdown",
   "id": "0b6d64e1-b853-4bcf-8da5-1892e5d985ef",
   "metadata": {
    "tags": []
   },
   "source": [
    "##### DTMC"
   ]
  },
  {
   "cell_type": "code",
   "execution_count": 5,
   "id": "e92ed46b",
   "metadata": {
    "tags": []
   },
   "outputs": [],
   "source": [
    "def dtmc_compute(idx, apdx, experiment_name, rep_type, show_graph=True, debug=True, print_metrics=False, shaded=False, y_level=0.3, y_padding=0.3, alpha=0.7):\n",
    "    if debug:\n",
    "        print('Reading file: '+file_path+experiment_name+'/'+experiment_name+'_distr_dtmc_'+alg_type+'_'+rep_type+apdx+'.csv')\n",
    "    dist = pd.read_csv(file_path+experiment_name+'/'+experiment_name+'_distr_dtmc_'+alg_type+'_'+rep_type+apdx+'.csv')\n",
    "    #dist.head(10)\n",
    "    rx = dist['r'].to_numpy()\n",
    "    rp = dist['p'].to_numpy()\n",
    "    n = np.max(np.where(rp > 1e-20))\n",
    "    rx = rx[0:n+1]\n",
    "    rp = rp[0:n+1]\n",
    "\n",
    "    var_dtmc = VaR(rx, rp, alpha)\n",
    "    metrics = np.array([weighted_mean(rx, rp), variance(rx, rp), var_dtmc, CVaR(rx, rp, var_dtmc, alpha), prob_threshold(rx, rp, thresh)])\n",
    "    # z = z[0:n+1]\n",
    "    if debug:\n",
    "        print(n)\n",
    "        print(np.sum(rp), np.allclose(np.sum(rp), 1))\n",
    "        print(\"max p:\", np.max(rp))\n",
    "    \n",
    "    distr = scipy.stats.rv_discrete(values=(rx, rp))\n",
    "    if show_graph:\n",
    "        # h = plt.bar(rx, rp, alpha=0.5)\n",
    "        fig = plt.figure(figsize=fig_size)\n",
    "\n",
    "        if shaded:\n",
    "            # plt.bar(rx, distr.pmf(rx), width=0.98, color='gray', alpha=0.45, linewidth=0,label='PDF')\n",
    "            kernel = scipy.stats.gaussian_kde(rx, weights=rp)\n",
    "            range = np.arange(0, n, 1)\n",
    "            # plt.plot(range, kernel(range), label='gaussian PDF')\n",
    "            # 300 represents number of points to make between T.min and T.max\n",
    "            xnew = np.linspace(6, rx.max(), 300) \n",
    "\n",
    "            spl = make_interp_spline(rx, distr.pmf(rx), k=3)  # type: BSpline\n",
    "            power_smooth = spl(xnew)\n",
    "            idx_start = (np.abs(xnew - metrics[2])).argmin()\n",
    "            plt.plot(xnew, power_smooth, color='k', alpha=0.8, label='Smoothed PDF')\n",
    "            \n",
    "            plt.fill_between(xnew[idx_start:], power_smooth[idx_start:], 0, color='gray', alpha=.6)\n",
    "            \n",
    "            plt.vlines(x=[metrics[0], metrics[2], metrics[3]], linestyles='dashed', ymin=0, ymax=1, color = 'k')\n",
    "            \n",
    "            plt.text(metrics[0]+y_padding, y_level+0.15, r'$\\mathbb{E}$', fontsize=graphsize-10,  rotation=90, verticalalignment='center')\n",
    "            plt.text(metrics[2]-y_padding-1.5, y_level, r'$\\mathsf{VaR}_{'+str(alpha)+r'}$', fontsize=graphsize-10, rotation=90, verticalalignment='center')\n",
    "            plt.text(metrics[3]+y_padding, y_level, r'$\\mathsf{CVaR}_{'+str(alpha)+r'}$', fontsize=graphsize-10, rotation=90, verticalalignment='center')\n",
    "\n",
    "        else:\n",
    "            if (xmax-xmin)>400:\n",
    "                h = plt.bar(rx, distr.pmf(rx), width=1, alpha=0.5, label='PDF')\n",
    "            else:\n",
    "                h = plt.bar(rx, distr.pmf(rx), alpha=0.5, label='PDF')\n",
    "            kernel = scipy.stats.gaussian_kde(rx, weights=rp)\n",
    "            range = np.arange(0, n, 0.1)\n",
    "            plt.plot(range, kernel(range), label='Smoothed PDF')\n",
    "        plt.xlim([xmin,xmax])\n",
    "        plt.ylim([0,ymax])\n",
    "\n",
    "        if not shaded:\n",
    "            plt.legend(loc='upper right', fontsize=graphsize-10)\n",
    "        plt.tick_params(axis='both', which='major', labelsize=graphsize-15)\n",
    "        plt.ticklabel_format(axis='both')\n",
    "        plt.xlabel('Value', fontsize=graphsize-10)\n",
    "        plt.ylabel('Probability', fontsize=graphsize-10)\n",
    "        # plt.grid(b=True, which='major', color='#666666', linestyle='-', linewidth=0.25)\n",
    "        plt.tight_layout()\n",
    "        plt.show()\n",
    "    # plt.fill_between(range, kernel(range))\n",
    "\n",
    "    if save_graphs:\n",
    "        print('Saving to:'+file_path+experiment_name+'/'+experiment_name+'_distr_dtmc_'+alg_type+'_'+rep_type+apdx+\".png\")\n",
    "        fig.savefig(file_path+experiment_name+'/'+experiment_name+'_distr_dtmc_'+alg_type+'_'+rep_type+apdx+\".png\", transparent=True, dpi=400)\n",
    "\n",
    "\n",
    "    if debug or print_metrics:\n",
    "        print(weighted_mean(rx, rp),\",\",variance(rx, rp),\",\",var_dtmc,\",\", CVaR(rx, rp, var_dtmc, alpha),\",\",prob_threshold(rx, rp, thresh))\n",
    "    return rx,rp, metrics, distr"
   ]
  },
  {
   "attachments": {},
   "cell_type": "markdown",
   "id": "4391a4b9-7cde-47d7-a90c-f5366a3c352a",
   "metadata": {
    "tags": []
   },
   "source": [
    "##### Expected Value Iteration"
   ]
  },
  {
   "cell_type": "code",
   "execution_count": 6,
   "id": "23fab2da-a53b-45a1-b0b8-5a0a435bcf44",
   "metadata": {
    "tags": []
   },
   "outputs": [],
   "source": [
    "def exp_compute(idx, apdx, experiment_name, rep_type, show_graph=True, debug=True, print_metrics=False, elements=False, figure = None, smooth=False, alpha=0.7):\n",
    "    if debug:\n",
    "        print('Reading file: '+file_path+experiment_name+'/'+experiment_name+'_distr_exp_'+rep_type+apdx+'.csv')\n",
    "    dist = pd.read_csv(file_path+experiment_name+'/'+experiment_name+'_distr_exp_'+rep_type+apdx+'.csv')\n",
    "    #dist.head(10)\n",
    "    rx_e = dist['r'].to_numpy()\n",
    "    rp_e = dist['p'].to_numpy()\n",
    "    z_e = dist['z'].to_numpy()\n",
    "    if 'qr' in rep_type:\n",
    "        if debug:\n",
    "            print('converting distribution from qr')\n",
    "        rx_e, rp_e, z_e = adjust_qr(rx_e, rp_e, z_e)\n",
    "        # print(len(rx_e), rx_e)\n",
    "        # print(len(rp_e), rp_e)\n",
    "        # print(len(z_e), z_e)\n",
    "\n",
    "    n = np.max(np.where(rp_e > 1e-8))\n",
    "    rx_e = rx_e[0:n+1]\n",
    "    rp_e = rp_e[0:n+1]\n",
    "    z_e = z_e[0:n+1]\n",
    "    \n",
    "    if debug:\n",
    "        print(len(dist.index))\n",
    "        print(np.sum(rp_e), np.allclose(np.sum(rp_e), 1))\n",
    "        print(\"max p:\", np.max(rp_e))\n",
    "    \n",
    "    if show_graph:\n",
    "        distr_e = scipy.stats.rv_discrete(values=(z_e, rp_e))\n",
    "        # h = plt.bar(rx_e, rp_e, alpha=0.5)\n",
    "        fig=plt.figure(figsize=fig_size)\n",
    "        \n",
    "        if not elements:\n",
    "            h = plt.bar(z_e, rp_e, alpha=0.5, color='g', label='PDF')\n",
    "        else:\n",
    "            h = plt.bar(z_e, rp_e, alpha=0.8, width=0.3, color='g')\n",
    "            plt.plot(z_e, rp_e, 'go')\n",
    "            if not smooth:\n",
    "                plt.bar(figure[0], figure[1].pmf(figure[0]), width=0.98, color='k', alpha=0.3, linewidth=0,label='PDF')\n",
    "            else:\n",
    "                # 30`0 represents number of points to make between T.min and T.max\n",
    "                xnew = np.linspace(6, figure[0].max(), 300) \n",
    "\n",
    "                spl = make_interp_spline(figure[0], figure[1].pmf(figure[0]), k=3)  # type: BSpline\n",
    "                power_smooth = spl(xnew)\n",
    "\n",
    "                plt.plot(xnew, power_smooth, color='k', alpha=0.5, label='Smoothed PDF')\n",
    "                plt.fill_between(xnew, power_smooth, 0, color='gray', alpha=.3)\n",
    "        kernel = scipy.stats.gaussian_kde(z_e, weights=rp_e)\n",
    "        if 'qr' in rep_type:\n",
    "            range = z_e\n",
    "        else:\n",
    "            range = np.arange(0, z_e[-1]+z_e[1], z_e[1])\n",
    "\n",
    "        if not elements:\n",
    "            plt.plot(range, kernel(z_e), color='g', label='Smoothed PDF')\n",
    "        \n",
    "        plt.xlim([xmin,xmax])\n",
    "        plt.ylim([0,ymax])\n",
    "\n",
    "        if not elements:\n",
    "            plt.legend(loc='upper right', fontsize=graphsize-10)\n",
    "\n",
    "        plt.tick_params(axis='both', which='major', labelsize=graphsize-15)\n",
    "        plt.ticklabel_format(axis='both')\n",
    "        plt.xlabel('Value', fontsize=graphsize-10)\n",
    "        plt.ylabel('Probability', fontsize=graphsize-10)\n",
    "        # plt.grid(b=True, which='major', color='#666666', linestyle='-', linewidth=0.25)\n",
    "        plt.tight_layout()\n",
    "        plt.show()\n",
    "    # plt.fill_between(range, kernel(range))\n",
    "\n",
    "        if save_graphs:\n",
    "            if not smooth:\n",
    "                print('Saving to:'+file_path+experiment_name+'/'+experiment_name+'_distr_exp_'+rep_type+apdx+\".png\")\n",
    "                fig.savefig(file_path+experiment_name+'/'+experiment_name+'_distr_exp_'+rep_type+apdx+\".png\", transparent=True, dpi=400)\n",
    "            else:\n",
    "                print('Saving to:'+file_path+experiment_name+'/'+experiment_name+'_distr_exp_'+rep_type+apdx+'_smooth'+\".png\")\n",
    "                fig.savefig(file_path+experiment_name+'/'+experiment_name+'_distr_exp_'+rep_type+apdx+'_smooth'+\".png\", transparent=True, dpi=400)\n",
    "                \n",
    "    \n",
    "    var_exp = VaR(z_e, rp_e, alpha)\n",
    "    if debug or print_metrics:\n",
    "        print(f\"{weighted_mean(z_e, rp_e)},{variance(z_e, rp_e)},{var_exp},{CVaR(z_e, rp_e, var_exp, alpha)},{prob_threshold(z_e, rp_e, thresh)}\")\n",
    "    return z_e, rp_e, np.array([weighted_mean(z_e, rp_e), variance(z_e, rp_e), var_exp, CVaR(z_e, rp_e, var_exp, alpha), prob_threshold(z_e, rp_e, thresh)])"
   ]
  },
  {
   "attachments": {},
   "cell_type": "markdown",
   "id": "81e8b98e-aab3-40c2-a5de-b9ea36282168",
   "metadata": {
    "tags": []
   },
   "source": [
    "##### CVaR"
   ]
  },
  {
   "cell_type": "code",
   "execution_count": 7,
   "id": "341c2fb9-1873-4f53-9aa5-d29ec6c2338c",
   "metadata": {},
   "outputs": [],
   "source": [
    "def cvar_compute(idx, apdx, experiment_name, rep_type, show_graph=True, debug=True, print_metrics=False, elements=False, figure=None, smooth =False, alpha=0.7):\n",
    "    if debug:\n",
    "        print('Reading file: '+file_path+experiment_name+'/'+experiment_name+'_distr_cvar_'+rep_type+apdx+'.csv')\n",
    "    dist = pd.read_csv(file_path+experiment_name+'/'+experiment_name+'_distr_cvar_'+rep_type+apdx+'.csv')\n",
    "    #dist.head(10)\n",
    "    rx_c = dist['r'].to_numpy()\n",
    "    rp_c = dist['p'].to_numpy()\n",
    "    z_c = dist['z'].to_numpy()\n",
    "    if 'qr' in rep_type:\n",
    "        if debug:\n",
    "            print('converting distribution from qr')\n",
    "        rx_c, rp_c, z_c = adjust_qr(rx_c, rp_c, z_c)\n",
    "    n = np.max(np.where(rp_c > 1e-6))\n",
    "    rx_c = rx_c[0:n+1]\n",
    "    rp_c = rp_c[0:n+1]\n",
    "    z_c = z_c[0:n+1]\n",
    "    if debug:\n",
    "        print(n)\n",
    "        print(np.sum(rp_c), np.allclose(np.sum(rp_c), 1))\n",
    "        print(\"max p:\", np.max(rp_c))\n",
    "    \n",
    "    if show_graph:\n",
    "        distr_c = scipy.stats.rv_discrete(values=(z_c, rp_c))\n",
    "        # h = plt.bar(rx_c, rp_c, alpha=0.5)\n",
    "        fig=plt.figure(figsize=fig_size)\n",
    "            \n",
    "        if not elements:\n",
    "            h = plt.bar(z_c, rp_c, alpha=0.5, color='g', label='PDF')\n",
    "        else:\n",
    "            h = plt.bar(z_c, rp_c, alpha=0.8, width=0.3, color='g')\n",
    "            plt.plot(z_c, rp_c, 'go')\n",
    "            if not smooth:\n",
    "                plt.bar(figure[0], figure[1].pmf(figure[0]), width=0.98, color='k', alpha=0.3, linewidth=0,label='PDF')\n",
    "            else:\n",
    "                # 30`0 represents number of points to make between T.min and T.max\n",
    "                xnew = np.linspace(6, figure[0].max(), 300) \n",
    "\n",
    "                spl = make_interp_spline(figure[0], figure[1].pmf(figure[0]), k=3)  # type: BSpline\n",
    "                power_smooth = spl(xnew)\n",
    "\n",
    "                plt.plot(xnew, power_smooth, color='k', alpha=0.5, label='Smoothed PDF')\n",
    "                plt.fill_between(xnew, power_smooth, 0, color='gray', alpha=.3)\n",
    "        kernel = scipy.stats.gaussian_kde(z_c, weights=rp_c)\n",
    "        if 'qr' in rep_type:\n",
    "            range = z_c\n",
    "        else:\n",
    "            range = np.arange(0, z_c[-1]+z_c[1], z_c[1]) \n",
    "        \n",
    "        if not elements:\n",
    "            plt.plot(range, kernel(range), color='g', label='Smoothed PDF')\n",
    "        plt.xlim([xmin,xmax])\n",
    "        plt.ylim([0,ymax])\n",
    "\n",
    "        if not elements:\n",
    "            plt.legend(loc='upper right', fontsize=graphsize-10)\n",
    "        plt.tick_params(axis='both', which='major', labelsize=graphsize-15)\n",
    "        plt.ticklabel_format(axis='both')\n",
    "        plt.xlabel('Value', fontsize=graphsize-10)\n",
    "        plt.ylabel('Probability', fontsize=graphsize-10)\n",
    "        # plt.grid(b=True, which='major', color='#666666', linestyle='-', linewidth=0.25)\n",
    "        plt.tight_layout()\n",
    "        plt.show()\n",
    "        # plt.fill_between(range, kernel(range))\n",
    "\n",
    "        if save_graphs:\n",
    "           \n",
    "            if not smooth:\n",
    "                print('Saving to:'+file_path+experiment_name+'/'+experiment_name+'_distr_cvar_'+rep_type+apdx+\".png\")\n",
    "                fig.savefig(file_path+experiment_name+'/'+experiment_name+'_distr_cvar_'+rep_type+apdx+\".png\", transparent=True, dpi=400)\n",
    "            else:\n",
    "                print('Saving to:'+file_path+experiment_name+'/'+experiment_name+'_distr_cvar_'+rep_type+apdx+'_smooth'+\".png\")\n",
    "                fig.savefig(file_path+experiment_name+'/'+experiment_name+'_distr_cvar_'+rep_type+apdx+'_smooth'+\".png\", transparent=True, dpi=400)\n",
    "\n",
    "    var_cvar = VaR(z_c, rp_c, alpha)\n",
    "    if debug or print_metrics:\n",
    "        print(f\"{weighted_mean(z_c, rp_c)},{variance(z_c, rp_c)},{var_cvar},{CVaR(z_c, rp_c, var_cvar, alpha)},{prob_threshold(z_c, rp_c, thresh)}\")\n",
    "    return z_c, rp_c, np.array([weighted_mean(z_c, rp_c), variance(z_c, rp_c), var_cvar, CVaR(z_c, rp_c, var_cvar, alpha), prob_threshold(z_c, rp_c, thresh)])"
   ]
  },
  {
   "attachments": {},
   "cell_type": "markdown",
   "id": "061ebc44",
   "metadata": {},
   "source": [
    "#### Setup\n",
    "\n",
    "Set the metric parameters and graph parameters in next cell."
   ]
  },
  {
   "cell_type": "code",
   "execution_count": 8,
   "id": "6fcd4ebd-e483-46e4-a9b3-790690d309d1",
   "metadata": {},
   "outputs": [],
   "source": [
    "# Cvar alpha parameter\n",
    "alpha=0.9 # 0.7 except for ds_treasure, betting_game, grid 150 -> 0.8\n",
    "# threshold value when computing \n",
    "# the probability of a cost higher than the set threshold\n",
    "thresh=30 \n",
    "# graph figure parameter\n",
    "xmax = 300\n",
    "xmin=-1\n",
    "ymax=0.1\n",
    "fig_size= (10,5)"
   ]
  },
  {
   "attachments": {},
   "cell_type": "markdown",
   "id": "fcf46c64",
   "metadata": {},
   "source": [
    "Set experiment name and representation type in the following cell.\n",
    "Make sure to run the experiments using `run_experiments.py` before visualization."
   ]
  },
  {
   "cell_type": "code",
   "execution_count": 34,
   "id": "c91826d3-36bc-41ef-a9bb-7ee2c79cb947",
   "metadata": {},
   "outputs": [],
   "source": [
    "# Graph Formating\n",
    "matplotlib.rcParams.update({\n",
    "    'font.family': 'serif',\n",
    "    'text.usetex': True,\n",
    "    'text.latex.preamble': r'\\usepackage{amsfonts}',\n",
    "    'axes.spines.right':False,\n",
    "    'axes.spines.top': False\n",
    "})\n",
    "# font size in the graph\n",
    "graphsize = 38\n",
    "# experiments folder path\n",
    "file_path = 'tests/experiments/'\n",
    "experiment_name='gridworld_32'\n",
    "apdx =  [''] \n",
    "alg_type = 'cvar' # Used only for the DTMC graph\n",
    "rep_type = 'c51' # 'qr' or 'c51'\n",
    "save_graphs = False # if set to true, save the graph to a png file\n",
    "num_metrics = 5 # exp val, variance, var, cvar, prob>thresh"
   ]
  },
  {
   "cell_type": "code",
   "execution_count": 10,
   "id": "fce06154-e319-4e02-957c-95cf53e74706",
   "metadata": {},
   "outputs": [],
   "source": [
    "metrics_dtmc = np.zeros([len(apdx), num_metrics])\n",
    "metrics_e = np.zeros([len(apdx), num_metrics])\n",
    "metrics_c = np.zeros([len(apdx), num_metrics])\n",
    "print_metrics=True"
   ]
  },
  {
   "attachments": {},
   "cell_type": "markdown",
   "id": "4e2030b9",
   "metadata": {},
   "source": [
    "##### Base experiment Visualization\n",
    "This cell shows the graph for the base experiment for the selected algorithms followed by a set of distributional metrics in the following order:\n",
    "* Expected Value\n",
    "* Variance\n",
    "* Value at Risk(alpha)\n",
    "* Conditional Value at Risk(alpha)\n",
    "* Probability of the cost to be greater than a threshold.\n",
    "\n",
    "['vi', 'exp', 'cvar'] are the possible options for the DTMC graph (in `algs`)"
   ]
  },
  {
   "cell_type": "code",
   "execution_count": 42,
   "id": "0320ca48",
   "metadata": {},
   "outputs": [
    {
     "name": "stdout",
     "output_type": "stream",
     "text": [
      "---DTMC---\n",
      "\n",
      "35.90440147623608 , 5.411799120386391 , 39 , 41.1365098135993 , 1.0000000000000007\n",
      "39.18472754506599 , 0.8336354992828318 , 39 , 40.847275450659936 , 1.0000000000000013\n",
      "---DVI---\n",
      "35.901064413773554,5.311689853231868,39.0,41.103403631105955,1.0000000000000004\n",
      "39.1832629344655,0.7957549581344252,39.0,40.83262934465517,1.0000000000000007\n"
     ]
    }
   ],
   "source": [
    "algs= ['exp','cvar']\n",
    "show_graph = False\n",
    "appendix  = '_less_atoms_2'\n",
    "print('---DTMC---\\n')\n",
    "for idx, alg_type in enumerate(algs):\n",
    "    _,_,_,_ = dtmc_compute(idx, appendix, experiment_name, rep_type, alpha=alpha, show_graph=show_graph, debug=False, print_metrics=True)\n",
    "print('---DVI---')\n",
    "_,_,_ = exp_compute(idx, appendix, experiment_name, rep_type, alpha=alpha, show_graph=show_graph, debug=False, print_metrics=True)\n",
    "_,_,_ = cvar_compute(idx, appendix, experiment_name, rep_type, alpha=alpha, show_graph=show_graph, debug=False, print_metrics=True)"
   ]
  },
  {
   "attachments": {},
   "cell_type": "markdown",
   "id": "f7c6f957",
   "metadata": {},
   "source": [
    "##### Varying alpha cvar DVI"
   ]
  },
  {
   "cell_type": "code",
   "execution_count": 15,
   "id": "963d9846",
   "metadata": {},
   "outputs": [
    {
     "name": "stdout",
     "output_type": "stream",
     "text": [
      "\n",
      "--------------- cvar-------------\n",
      "\n",
      "alpha:0.10, \t42.00, \t dtmc:44.00\n"
     ]
    },
    {
     "ename": "FileNotFoundError",
     "evalue": "[Errno 2] No such file or directory: 'tests/experiments/selfStabilising_15/selfStabilising_15_distr_dtmc_cvar_c51_alpha_0.5.csv'",
     "output_type": "error",
     "traceback": [
      "\u001b[0;31m---------------------------------------------------------------------------\u001b[0m",
      "\u001b[0;31mFileNotFoundError\u001b[0m                         Traceback (most recent call last)",
      "Cell \u001b[0;32mIn[15], line 15\u001b[0m\n\u001b[1;32m     11\u001b[0m \u001b[39mprint\u001b[39m(\u001b[39m'\u001b[39m\u001b[39m\\n\u001b[39;00m\u001b[39m--------------- \u001b[39m\u001b[39m'\u001b[39m\u001b[39m+\u001b[39m alg_type \u001b[39m+\u001b[39m\u001b[39m'\u001b[39m\u001b[39m-------------\u001b[39m\u001b[39m\\n\u001b[39;00m\u001b[39m'\u001b[39m)\n\u001b[1;32m     13\u001b[0m \u001b[39mfor\u001b[39;00m i, a \u001b[39min\u001b[39;00m \u001b[39menumerate\u001b[39m(alpha_vals):\n\u001b[0;32m---> 15\u001b[0m     rx_dtmc, rp_dtmc, _, _ \u001b[39m=\u001b[39m dtmc_compute(idx, appendix\u001b[39m+\u001b[39;49m\u001b[39mstr\u001b[39;49m(a), experiment_name, rep_type, alpha\u001b[39m=\u001b[39;49m\u001b[39m0\u001b[39;49m, show_graph\u001b[39m=\u001b[39;49m\u001b[39mFalse\u001b[39;49;00m, debug\u001b[39m=\u001b[39;49m\u001b[39mFalse\u001b[39;49;00m, print_metrics\u001b[39m=\u001b[39;49m\u001b[39mFalse\u001b[39;49;00m)\n\u001b[1;32m     17\u001b[0m     \u001b[39mif\u001b[39;00m \u001b[39m'\u001b[39m\u001b[39mexp\u001b[39m\u001b[39m'\u001b[39m \u001b[39min\u001b[39;00m alg_type:\n\u001b[1;32m     18\u001b[0m         rx_approx, rp_approx, _ \u001b[39m=\u001b[39m exp_compute(idx, appendix\u001b[39m+\u001b[39m\u001b[39mstr\u001b[39m(a), experiment_name, rep_type, alpha\u001b[39m=\u001b[39m\u001b[39m0\u001b[39m, show_graph\u001b[39m=\u001b[39m\u001b[39mFalse\u001b[39;00m, debug\u001b[39m=\u001b[39m\u001b[39mFalse\u001b[39;00m, print_metrics\u001b[39m=\u001b[39m\u001b[39mFalse\u001b[39;00m)\n",
      "Cell \u001b[0;32mIn[6], line 4\u001b[0m, in \u001b[0;36mdtmc_compute\u001b[0;34m(idx, apdx, experiment_name, rep_type, show_graph, debug, print_metrics, shaded, y_level, y_padding, alpha)\u001b[0m\n\u001b[1;32m      2\u001b[0m \u001b[39mif\u001b[39;00m debug:\n\u001b[1;32m      3\u001b[0m     \u001b[39mprint\u001b[39m(\u001b[39m'\u001b[39m\u001b[39mReading file: \u001b[39m\u001b[39m'\u001b[39m\u001b[39m+\u001b[39mfile_path\u001b[39m+\u001b[39mexperiment_name\u001b[39m+\u001b[39m\u001b[39m'\u001b[39m\u001b[39m/\u001b[39m\u001b[39m'\u001b[39m\u001b[39m+\u001b[39mexperiment_name\u001b[39m+\u001b[39m\u001b[39m'\u001b[39m\u001b[39m_distr_dtmc_\u001b[39m\u001b[39m'\u001b[39m\u001b[39m+\u001b[39malg_type\u001b[39m+\u001b[39m\u001b[39m'\u001b[39m\u001b[39m_\u001b[39m\u001b[39m'\u001b[39m\u001b[39m+\u001b[39mrep_type\u001b[39m+\u001b[39mapdx\u001b[39m+\u001b[39m\u001b[39m'\u001b[39m\u001b[39m.csv\u001b[39m\u001b[39m'\u001b[39m)\n\u001b[0;32m----> 4\u001b[0m dist \u001b[39m=\u001b[39m pd\u001b[39m.\u001b[39;49mread_csv(file_path\u001b[39m+\u001b[39;49mexperiment_name\u001b[39m+\u001b[39;49m\u001b[39m'\u001b[39;49m\u001b[39m/\u001b[39;49m\u001b[39m'\u001b[39;49m\u001b[39m+\u001b[39;49mexperiment_name\u001b[39m+\u001b[39;49m\u001b[39m'\u001b[39;49m\u001b[39m_distr_dtmc_\u001b[39;49m\u001b[39m'\u001b[39;49m\u001b[39m+\u001b[39;49malg_type\u001b[39m+\u001b[39;49m\u001b[39m'\u001b[39;49m\u001b[39m_\u001b[39;49m\u001b[39m'\u001b[39;49m\u001b[39m+\u001b[39;49mrep_type\u001b[39m+\u001b[39;49mapdx\u001b[39m+\u001b[39;49m\u001b[39m'\u001b[39;49m\u001b[39m.csv\u001b[39;49m\u001b[39m'\u001b[39;49m)\n\u001b[1;32m      5\u001b[0m \u001b[39m#dist.head(10)\u001b[39;00m\n\u001b[1;32m      6\u001b[0m rx \u001b[39m=\u001b[39m dist[\u001b[39m'\u001b[39m\u001b[39mr\u001b[39m\u001b[39m'\u001b[39m]\u001b[39m.\u001b[39mto_numpy()\n",
      "File \u001b[0;32m~/.venvs/prism-test/lib/python3.8/site-packages/pandas/io/parsers.py:688\u001b[0m, in \u001b[0;36mread_csv\u001b[0;34m(filepath_or_buffer, sep, delimiter, header, names, index_col, usecols, squeeze, prefix, mangle_dupe_cols, dtype, engine, converters, true_values, false_values, skipinitialspace, skiprows, skipfooter, nrows, na_values, keep_default_na, na_filter, verbose, skip_blank_lines, parse_dates, infer_datetime_format, keep_date_col, date_parser, dayfirst, cache_dates, iterator, chunksize, compression, thousands, decimal, lineterminator, quotechar, quoting, doublequote, escapechar, comment, encoding, dialect, error_bad_lines, warn_bad_lines, delim_whitespace, low_memory, memory_map, float_precision)\u001b[0m\n\u001b[1;32m    635\u001b[0m     engine_specified \u001b[39m=\u001b[39m \u001b[39mFalse\u001b[39;00m\n\u001b[1;32m    637\u001b[0m kwds\u001b[39m.\u001b[39mupdate(\n\u001b[1;32m    638\u001b[0m     delimiter\u001b[39m=\u001b[39mdelimiter,\n\u001b[1;32m    639\u001b[0m     engine\u001b[39m=\u001b[39mengine,\n\u001b[0;32m   (...)\u001b[0m\n\u001b[1;32m    685\u001b[0m     skip_blank_lines\u001b[39m=\u001b[39mskip_blank_lines,\n\u001b[1;32m    686\u001b[0m )\n\u001b[0;32m--> 688\u001b[0m \u001b[39mreturn\u001b[39;00m _read(filepath_or_buffer, kwds)\n",
      "File \u001b[0;32m~/.venvs/prism-test/lib/python3.8/site-packages/pandas/io/parsers.py:454\u001b[0m, in \u001b[0;36m_read\u001b[0;34m(filepath_or_buffer, kwds)\u001b[0m\n\u001b[1;32m    451\u001b[0m _validate_names(kwds\u001b[39m.\u001b[39mget(\u001b[39m\"\u001b[39m\u001b[39mnames\u001b[39m\u001b[39m\"\u001b[39m, \u001b[39mNone\u001b[39;00m))\n\u001b[1;32m    453\u001b[0m \u001b[39m# Create the parser.\u001b[39;00m\n\u001b[0;32m--> 454\u001b[0m parser \u001b[39m=\u001b[39m TextFileReader(fp_or_buf, \u001b[39m*\u001b[39;49m\u001b[39m*\u001b[39;49mkwds)\n\u001b[1;32m    456\u001b[0m \u001b[39mif\u001b[39;00m chunksize \u001b[39mor\u001b[39;00m iterator:\n\u001b[1;32m    457\u001b[0m     \u001b[39mreturn\u001b[39;00m parser\n",
      "File \u001b[0;32m~/.venvs/prism-test/lib/python3.8/site-packages/pandas/io/parsers.py:948\u001b[0m, in \u001b[0;36mTextFileReader.__init__\u001b[0;34m(self, f, engine, **kwds)\u001b[0m\n\u001b[1;32m    945\u001b[0m \u001b[39mif\u001b[39;00m \u001b[39m\"\u001b[39m\u001b[39mhas_index_names\u001b[39m\u001b[39m\"\u001b[39m \u001b[39min\u001b[39;00m kwds:\n\u001b[1;32m    946\u001b[0m     \u001b[39mself\u001b[39m\u001b[39m.\u001b[39moptions[\u001b[39m\"\u001b[39m\u001b[39mhas_index_names\u001b[39m\u001b[39m\"\u001b[39m] \u001b[39m=\u001b[39m kwds[\u001b[39m\"\u001b[39m\u001b[39mhas_index_names\u001b[39m\u001b[39m\"\u001b[39m]\n\u001b[0;32m--> 948\u001b[0m \u001b[39mself\u001b[39;49m\u001b[39m.\u001b[39;49m_make_engine(\u001b[39mself\u001b[39;49m\u001b[39m.\u001b[39;49mengine)\n",
      "File \u001b[0;32m~/.venvs/prism-test/lib/python3.8/site-packages/pandas/io/parsers.py:1180\u001b[0m, in \u001b[0;36mTextFileReader._make_engine\u001b[0;34m(self, engine)\u001b[0m\n\u001b[1;32m   1178\u001b[0m \u001b[39mdef\u001b[39;00m \u001b[39m_make_engine\u001b[39m(\u001b[39mself\u001b[39m, engine\u001b[39m=\u001b[39m\u001b[39m\"\u001b[39m\u001b[39mc\u001b[39m\u001b[39m\"\u001b[39m):\n\u001b[1;32m   1179\u001b[0m     \u001b[39mif\u001b[39;00m engine \u001b[39m==\u001b[39m \u001b[39m\"\u001b[39m\u001b[39mc\u001b[39m\u001b[39m\"\u001b[39m:\n\u001b[0;32m-> 1180\u001b[0m         \u001b[39mself\u001b[39m\u001b[39m.\u001b[39m_engine \u001b[39m=\u001b[39m CParserWrapper(\u001b[39mself\u001b[39;49m\u001b[39m.\u001b[39;49mf, \u001b[39m*\u001b[39;49m\u001b[39m*\u001b[39;49m\u001b[39mself\u001b[39;49m\u001b[39m.\u001b[39;49moptions)\n\u001b[1;32m   1181\u001b[0m     \u001b[39melse\u001b[39;00m:\n\u001b[1;32m   1182\u001b[0m         \u001b[39mif\u001b[39;00m engine \u001b[39m==\u001b[39m \u001b[39m\"\u001b[39m\u001b[39mpython\u001b[39m\u001b[39m\"\u001b[39m:\n",
      "File \u001b[0;32m~/.venvs/prism-test/lib/python3.8/site-packages/pandas/io/parsers.py:2010\u001b[0m, in \u001b[0;36mCParserWrapper.__init__\u001b[0;34m(self, src, **kwds)\u001b[0m\n\u001b[1;32m   2007\u001b[0m \u001b[39mself\u001b[39m\u001b[39m.\u001b[39musecols, \u001b[39mself\u001b[39m\u001b[39m.\u001b[39musecols_dtype \u001b[39m=\u001b[39m _validate_usecols_arg(kwds[\u001b[39m\"\u001b[39m\u001b[39musecols\u001b[39m\u001b[39m\"\u001b[39m])\n\u001b[1;32m   2008\u001b[0m kwds[\u001b[39m\"\u001b[39m\u001b[39musecols\u001b[39m\u001b[39m\"\u001b[39m] \u001b[39m=\u001b[39m \u001b[39mself\u001b[39m\u001b[39m.\u001b[39musecols\n\u001b[0;32m-> 2010\u001b[0m \u001b[39mself\u001b[39m\u001b[39m.\u001b[39m_reader \u001b[39m=\u001b[39m parsers\u001b[39m.\u001b[39;49mTextReader(src, \u001b[39m*\u001b[39;49m\u001b[39m*\u001b[39;49mkwds)\n\u001b[1;32m   2011\u001b[0m \u001b[39mself\u001b[39m\u001b[39m.\u001b[39munnamed_cols \u001b[39m=\u001b[39m \u001b[39mself\u001b[39m\u001b[39m.\u001b[39m_reader\u001b[39m.\u001b[39munnamed_cols\n\u001b[1;32m   2013\u001b[0m passed_names \u001b[39m=\u001b[39m \u001b[39mself\u001b[39m\u001b[39m.\u001b[39mnames \u001b[39mis\u001b[39;00m \u001b[39mNone\u001b[39;00m\n",
      "File \u001b[0;32mpandas/_libs/parsers.pyx:382\u001b[0m, in \u001b[0;36mpandas._libs.parsers.TextReader.__cinit__\u001b[0;34m()\u001b[0m\n",
      "File \u001b[0;32mpandas/_libs/parsers.pyx:674\u001b[0m, in \u001b[0;36mpandas._libs.parsers.TextReader._setup_parser_source\u001b[0;34m()\u001b[0m\n",
      "\u001b[0;31mFileNotFoundError\u001b[0m: [Errno 2] No such file or directory: 'tests/experiments/selfStabilising_15/selfStabilising_15_distr_dtmc_cvar_c51_alpha_0.5.csv'"
     ]
    }
   ],
   "source": [
    "alpha_vals = [0.1, 0.5, 0.99]\n",
    "\n",
    "algs = ['cvar']\n",
    "rep_type = 'c51'\n",
    "VaRs_approx = np.zeros([len(algs), len(alpha_vals)])\n",
    "VaRs_dtmc = np.zeros([len(algs), len(alpha_vals)])\n",
    "appendix = '_alpha_'\n",
    "\n",
    "for idx, alg_type in enumerate(algs):\n",
    "\n",
    "    print('\\n--------------- '+ alg_type +'-------------\\n')\n",
    "\n",
    "    for i, a in enumerate(alpha_vals):\n",
    "\n",
    "        rx_dtmc, rp_dtmc, _, _ = dtmc_compute(idx, appendix+str(a), experiment_name, rep_type, alpha=0, show_graph=False, debug=False, print_metrics=False)\n",
    "\n",
    "        if 'exp' in alg_type:\n",
    "            rx_approx, rp_approx, _ = exp_compute(idx, appendix+str(a), experiment_name, rep_type, alpha=0, show_graph=False, debug=False, print_metrics=False)\n",
    "        elif 'cvar' in alg_type:\n",
    "            rx_approx, rp_approx, _ = cvar_compute(idx, appendix+str(a), experiment_name, rep_type, alpha=0, show_graph=False, debug=False, print_metrics=False)\n",
    "\n",
    "        \n",
    "        VaRs_dtmc[idx][i] = VaR(rx_dtmc, rp_dtmc, a)\n",
    "        VaRs_approx [idx][i] = VaR(rx_approx, rp_approx, a)\n",
    "        print(f'alpha:{a:0.2f}, \\t{VaRs_approx[idx][i]:0.2f}, \\t dtmc:{VaRs_dtmc[idx][i]:0.2f}')"
   ]
  },
  {
   "attachments": {},
   "cell_type": "markdown",
   "id": "c7508284",
   "metadata": {},
   "source": [
    "##### Varying alpha for one exp and cvar DVI"
   ]
  },
  {
   "cell_type": "code",
   "execution_count": 80,
   "id": "db2c4ab1",
   "metadata": {},
   "outputs": [
    {
     "name": "stdout",
     "output_type": "stream",
     "text": [
      "\n",
      "--------------- exp-------------\n",
      "\n",
      "alpha:0.10, \t39.00, \t dtmc:42.00\n",
      "alpha:0.20, \t54.00, \t dtmc:55.00\n",
      "alpha:0.30, \t66.00, \t dtmc:67.00\n",
      "alpha:0.40, \t78.00, \t dtmc:79.00\n",
      "alpha:0.50, \t90.00, \t dtmc:92.00\n",
      "alpha:0.60, \t105.00, \t dtmc:106.00\n",
      "alpha:0.70, \t126.00, \t dtmc:124.00\n",
      "alpha:0.80, \t150.00, \t dtmc:147.00\n",
      "alpha:0.90, \t180.00, \t dtmc:185.00\n",
      "alpha:0.99, \t222.00, \t dtmc:303.00\n",
      "\n",
      "--------------- cvar-------------\n",
      "\n",
      "alpha:0.10, \t48.00, \t dtmc:49.00\n",
      "alpha:0.20, \t57.00, \t dtmc:60.00\n",
      "alpha:0.30, \t69.00, \t dtmc:69.00\n",
      "alpha:0.40, \t78.00, \t dtmc:80.00\n",
      "alpha:0.50, \t90.00, \t dtmc:91.00\n",
      "alpha:0.60, \t105.00, \t dtmc:104.00\n",
      "alpha:0.70, \t120.00, \t dtmc:121.00\n",
      "alpha:0.80, \t144.00, \t dtmc:143.00\n",
      "alpha:0.90, \t180.00, \t dtmc:179.00\n",
      "alpha:0.99, \t297.00, \t dtmc:293.00\n"
     ]
    }
   ],
   "source": [
    "alphas = np.append(np.arange(0.1,1,0.1), 0.99)\n",
    "\n",
    "algs = ['exp', 'cvar']\n",
    "rep_type = 'c51'\n",
    "VaRs_approx = np.zeros([len(algs), len(alphas)])\n",
    "VaRs_dtmc = np.zeros([len(algs), len(alphas)])\n",
    "appendix  = ''\n",
    "\n",
    "\n",
    "for idx, alg_type in enumerate(algs):\n",
    "\n",
    "    print('\\n--------------- '+ alg_type +'-------------\\n')\n",
    "\n",
    "    rx_dtmc, rp_dtmc, _, _ = dtmc_compute(idx, appendix, experiment_name, rep_type, alpha=0, show_graph=False, debug=False, print_metrics=False)\n",
    "\n",
    "    if 'exp' in alg_type:\n",
    "        rx_approx, rp_approx, _ = exp_compute(idx, appendix, experiment_name, rep_type, alpha=0, show_graph=False, debug=False, print_metrics=False)\n",
    "    elif 'cvar' in alg_type:\n",
    "        rx_approx, rp_approx, _ = cvar_compute(idx, appendix, experiment_name, rep_type, alpha=0, show_graph=False, debug=False, print_metrics=False)\n",
    "\n",
    "    for i, a in enumerate(alphas):\n",
    "        VaRs_dtmc[idx][i] = VaR(rx_dtmc, rp_dtmc, a)\n",
    "        VaRs_approx [idx][i] = VaR(rx_approx, rp_approx, a)\n",
    "        print(f'alpha:{a:0.2f}, \\t{VaRs_approx[idx][i]:0.2f}, \\t dtmc:{VaRs_dtmc[idx][i]:0.2f}')\n",
    "\n"
   ]
  },
  {
   "attachments": {},
   "cell_type": "markdown",
   "id": "75bef083-5163-4a3d-ae21-3af07818f889",
   "metadata": {
    "tags": []
   },
   "source": [
    "##### Running varying atoms\n",
    "Print the distributional metrics for :\n",
    "\n",
    "* metrics for risk-neutral DVI distributions \n",
    "* metrics for DTMC distributions induced from risk-neutral DVI policies"
   ]
  },
  {
   "cell_type": "code",
   "execution_count": 12,
   "id": "3c19c6be",
   "metadata": {},
   "outputs": [],
   "source": [
    "# apdx = ['_1','_10', '_25', '_50', '_75', '_100']\n",
    "apdx = ['_1','_10', '_25', '_50', '_75', '_100','_500', '_1000', '_5000']\n",
    "rep_type = 'c51' # c51 or qr\n",
    "metrics_dtmc = np.zeros([len(apdx), num_metrics])\n",
    "metrics_e = np.zeros([len(apdx), num_metrics])\n",
    "metrics_c = np.zeros([len(apdx), num_metrics])\n",
    "print_metrics=True"
   ]
  },
  {
   "cell_type": "code",
   "execution_count": 13,
   "id": "c464771e",
   "metadata": {},
   "outputs": [
    {
     "name": "stdout",
     "output_type": "stream",
     "text": [
      "22.198584820082953,1727.0813139938775,0.0,73.99528273360986,0.22198584820082956\n",
      "25.183306629639333,337.19490128877686,30.0,47.364294542913214,0.44154180891252176\n",
      "25.20655577592385,237.1664364291676,32.0,44.27235091183038,0.31155448164018656\n",
      "25.217091685282934,203.97988126033346,32.0,43.538645632546704,0.31877582133666044\n",
      "25.217822134247456,192.6263956930828,32.0,43.3465599435923,0.31938448887841997\n",
      "25.222438783925277,187.6615860610359,34.0,43.255809433956706,0.3221531929107059\n"
     ]
    }
   ],
   "source": [
    "for idx, apd in enumerate(apdx):\n",
    "    if 'c51' in rep_type and idx > 5:\n",
    "        continue\n",
    "    _,_, metrics_e[idx] = exp_compute(idx, apd, experiment_name, rep_type, alpha=alpha, show_graph=False, debug=False, print_metrics=print_metrics)"
   ]
  },
  {
   "cell_type": "code",
   "execution_count": 14,
   "id": "d1f68612-6f91-4278-b14f-9c1b69d5aa49",
   "metadata": {},
   "outputs": [
    {
     "name": "stdout",
     "output_type": "stream",
     "text": [
      "25.240120673780105 , 190.6083703184246 , 34 , 43.33401975704474 , 0.32135223741495217\n",
      "25.240120673780105 , 190.6083703184246 , 34 , 43.33401975704474 , 0.32135223741495217\n",
      "25.240120673780105 , 190.6083703184246 , 34 , 43.33401975704474 , 0.32135223741495217\n",
      "25.240120673780105 , 190.6083703184246 , 34 , 43.33401975704474 , 0.32135223741495217\n",
      "25.240120673780105 , 190.6083703184246 , 34 , 43.33401975704474 , 0.32135223741495217\n",
      "25.240120673780105 , 190.6083703184246 , 34 , 43.33401975704474 , 0.32135223741495217\n"
     ]
    }
   ],
   "source": [
    "alg_type = 'exp'\n",
    "for idx, apd in enumerate(apdx):\n",
    "    if 'c51' in rep_type and idx > 5:\n",
    "        continue\n",
    "    _,_, metrics_dtmc[idx],_ = dtmc_compute(idx, apd, experiment_name, rep_type, alpha=alpha, show_graph=False, debug=False, print_metrics=print_metrics)"
   ]
  },
  {
   "attachments": {},
   "cell_type": "markdown",
   "id": "cdd87f9b",
   "metadata": {},
   "source": [
    "##### Running varying slack variable atoms\n",
    "Print the distributional metrics for :\n",
    "\n",
    "* metrics for risk-sensitive DVI distributions \n",
    "* metrics for DTMC distributions induced from risk-sensitive DVI policies"
   ]
  },
  {
   "cell_type": "code",
   "execution_count": 15,
   "id": "0fc47f80-bae2-4d39-bfe1-6d7fdd027f32",
   "metadata": {},
   "outputs": [
    {
     "name": "stdout",
     "output_type": "stream",
     "text": [
      "25.22715220687835,188.3107318723277,34.0,43.29079153403888,0.3213522374149526\n",
      "25.256090875275884,185.3028618319587,34.0,43.218120777572054,0.31735140387614497\n",
      "26.536658982523345,141.07424047715608,25.0,41.76424126829117,0.2600821561756963\n",
      "27.12318252051541,91.46326063138912,25.0,37.8645843683783,0.17976812513208237\n",
      "27.238398796080578,77.77733178037639,26.0,36.727134093652495,0.16334944527954892\n",
      "27.32264038620908,73.86729769078296,27.0,36.5156398196263,0.1659164565936778\n"
     ]
    }
   ],
   "source": [
    "if 'c51' in rep_type:\n",
    "    apdx =['_0', '_10', '_25', '_50', '_75', '_100']\n",
    "for idx, apd in enumerate(apdx):\n",
    "    if idx > 5:\n",
    "        continue\n",
    "    _,_, metrics_c[idx] = cvar_compute(idx, apd, experiment_name, rep_type, alpha=alpha, show_graph=False, debug=False, print_metrics=print_metrics)"
   ]
  },
  {
   "cell_type": "code",
   "execution_count": 16,
   "id": "c9d835f0-e1c3-4395-b6ae-970488c8c46c",
   "metadata": {},
   "outputs": [
    {
     "name": "stdout",
     "output_type": "stream",
     "text": [
      "25.240120673780105 , 190.6083703184246 , 34 , 43.33401975704474 , 0.32135223741495217\n",
      "25.268647920821824 , 187.52609010863205 , 34 , 43.25997759605853 , 0.31735140387614513\n",
      "26.54377081354217 , 142.3019641001608 , 25 , 41.78794737168728 , 0.26008215617569636\n",
      "27.126541712767445 , 92.03302032468598 , 25 , 37.87578167588508 , 0.1797681251320825\n",
      "27.240899948786005 , 78.20121787319654 , 26 , 36.73547126933729 , 0.16334944527954903\n",
      "27.32486329474862 , 74.24472872117421 , 27 , 36.523049514758135 , 0.1659164565936776\n"
     ]
    }
   ],
   "source": [
    "alg_type = 'cvar'\n",
    "for idx, apd in enumerate(apdx):\n",
    "    if 'c51' in rep_type and idx > 5:\n",
    "        continue\n",
    "    _,_, metrics_dtmc[idx],_ = dtmc_compute(idx, apd, experiment_name, rep_type, alpha=alpha, show_graph=False, debug=False, print_metrics=print_metrics)"
   ]
  },
  {
   "attachments": {},
   "cell_type": "markdown",
   "id": "820b3be6-b114-430a-bccb-72384990a888",
   "metadata": {},
   "source": [
    "##### Distributional distance between DTMC and DVI distributions\n",
    "\n",
    "This goes through the experiment which varies the distributional approximation for either risk neutral ('exp') or risk-sensitive DVI ('cvar').\n",
    "\n",
    "* `l2` : denotes the Cramer distributional distance\n",
    "* `w1`: denotes 1-Wasserstein distributional distance\n"
   ]
  },
  {
   "cell_type": "code",
   "execution_count": 17,
   "id": "78593995",
   "metadata": {},
   "outputs": [
    {
     "name": "stdout",
     "output_type": "stream",
     "text": [
      "c51\n",
      "----- l2-----\n",
      "3.5091899375252718\n",
      "1.0212876684802066\n",
      "0.6678529169909043\n",
      "0.4219101200524545\n",
      "0.2510191310106609\n",
      "0.003986024765100188\n"
     ]
    }
   ],
   "source": [
    "\n",
    "apdx = ['_1','_10', '_25', '_50', '_75', '_100','_500', '_1000', '_5000']\n",
    "\n",
    "alg_type = 'exp' # Set to 'exp' or 'cvar'\n",
    "rep_types = [ 'c51'] # c51 or qr\n",
    "experiment_name='gridmap_10'\n",
    "\n",
    "metrics_dtmc = np.zeros([len(apdx), num_metrics])\n",
    "metrics_e = np.zeros([len(apdx), num_metrics])\n",
    "metrics_c = np.zeros([len(apdx), num_metrics])\n",
    "print_metrics=True\n",
    "\n",
    "distance = np.zeros([len(apdx)])\n",
    "distance2 =np.zeros([len(apdx)])\n",
    "\n",
    "if 'cvar' in alg_type:\n",
    "    apdx = [el+'_va' for el in apdx]\n",
    "\n",
    "for rep_type in rep_types:\n",
    "    print(rep_type)\n",
    "    if 'c51' in rep_type:\n",
    "        print('----- l2-----')\n",
    "    elif 'qr' in rep_type:\n",
    "        print('----- w1-----')\n",
    "\n",
    "    for idx, apd in enumerate(apdx):\n",
    "        \n",
    "        if 'c51' in rep_type and idx > 5:\n",
    "            continue\n",
    "        rx, rp, metrics_dtmc[idx],_ = dtmc_compute(idx,  apd, experiment_name, rep_type, alpha=alpha, show_graph=False, debug=False)\n",
    "\n",
    "        if 'exp' in alg_type:\n",
    "            rx_v, rp_v, metrics_e[idx] = exp_compute(idx, apd, experiment_name, rep_type, alpha=alpha, show_graph=False, debug=False)\n",
    "        else:\n",
    "            rx_v, rp_v, metrics_c[idx] = cvar_compute(idx, apd, experiment_name, rep_type, alpha=alpha, show_graph=False, debug=False)\n",
    "\n",
    "        if 'c51' in rep_type:\n",
    "            distance[idx] = l2(rx, rx_v, rp, rp_v, debug=False)\n",
    "\n",
    "        elif 'qr' in rep_type:\n",
    "            distance[idx] = scipy.stats.wasserstein_distance(rx, rx_v, rp, rp_v)\n",
    "            distance2[idx] = l2(rx, rx_v, rp, rp_v, debug=False)\n",
    "            \n",
    "        print(distance[idx])\n",
    "    \n",
    "    if 'qr' in rep_type:\n",
    "        print('----- l2-----')\n",
    "        for idx in range(len(apdx)):\n",
    "            print(distance2[idx])"
   ]
  },
  {
   "attachments": {},
   "cell_type": "markdown",
   "id": "b55c31fb-0d63-4b58-86c8-16c859667436",
   "metadata": {
    "jp-MarkdownHeadingCollapsed": true,
    "tags": []
   },
   "source": [
    "### Debugging"
   ]
  },
  {
   "attachments": {},
   "cell_type": "markdown",
   "id": "67802c6a-4e7f-440c-9b82-1456b4481046",
   "metadata": {},
   "source": [
    "#### Example figure"
   ]
  },
  {
   "cell_type": "markdown",
   "id": "44a255ef",
   "metadata": {},
   "source": [
    " public double [] update_support(double gamma, double state_reward, double []sum_p){\n",
    "\n",
    "        double [] m = new double [atoms];\n",
    "        double b = 0;\n",
    "        for (int j =0; j<atoms; j++){\n",
    "            double temp = max(v_min, min(v_max, state_reward+gamma*z[j]));\n",
    "            if (delta_z > 0.0) {\n",
    "                 b = (temp - v_min)/delta_z;\n",
    "            }\n",
    "            int l= (int) floor(b); int u= (int) ceil(b);\n",
    "\n",
    "            if ( l- u != 0){\n",
    "                m[l] += sum_p[j] * (u -b);\n",
    "                m[u] += sum_p[j] * (b-l);\n",
    "            } else{\n",
    "                m[l] += sum_p[j];\n",
    "            }\n",
    "        }\n",
    "\n",
    "        return m;\n",
    "    }"
   ]
  },
  {
   "cell_type": "code",
   "execution_count": 28,
   "id": "6ef54ceb",
   "metadata": {},
   "outputs": [],
   "source": [
    "def get_support(arr_p, rx, rz):\n",
    "    atoms = len(rz)\n",
    "    dtmc_atoms = len(rx)\n",
    "    m = np.zeros([atoms])\n",
    "    b = 0\n",
    "    vmin = rz[0]; vmax= rz[-1]\n",
    "    delta_z = abs(rz[1] - rz[0])\n",
    "    print(f\"m:{m}\\n b:{b}, atoms:{atoms}, vmin:{vmin}, vmax:{vmax}, delta_z:{delta_z}\\n rz: {rz}\")\n",
    "    print(arr_p)\n",
    "    print(\"rx: \", rx)\n",
    "    assert delta_z >0 and atoms >0 or dtmc_atoms >0\n",
    "\n",
    "    for j in range(dtmc_atoms):\n",
    "        temp = max(vmin, min(vmax, rx[j]))\n",
    "        b = (temp - vmin) / delta_z\n",
    "        l= int(math.floor(b)); u= int(math.ceil(b));\n",
    "    \n",
    "        if ( l- u != 0):\n",
    "                m[l] += arr_p[j] * (u -b);\n",
    "                m[u] += arr_p[j] * (b-l);\n",
    "        else:\n",
    "                m[l] += arr_p[j];\n",
    "    \n",
    "    return m\n",
    "\n",
    "def plot_distr(rx_c, rp_c, z_c, apdx, experiment_name, rep_type, show_graph=True, debug=True, print_metrics=False, elements=False, figure=None, smooth =False, alpha=0.7, save_graphs=False):\n",
    "    n = np.max(np.where(rp_c > 1e-6))\n",
    "    rx_c = rx_c[0:n+1]\n",
    "    rp_c = rp_c[0:n+1]\n",
    "    z_c = z_c[0:n+1]\n",
    "    if debug:\n",
    "        print(n)\n",
    "        print(np.sum(rp_c), np.allclose(np.sum(rp_c), 1))\n",
    "        print(\"max p:\", np.max(rp_c))\n",
    "    \n",
    "    if show_graph:\n",
    "        distr_c = scipy.stats.rv_discrete(values=(z_c, rp_c))\n",
    "        # h = plt.bar(rx_c, rp_c, alpha=0.5)\n",
    "        fig=plt.figure(figsize=fig_size)\n",
    "            \n",
    "        if not elements:\n",
    "            h = plt.bar(z_c, rp_c, alpha=0.5, color='g', label='PDF')\n",
    "        else:\n",
    "            h = plt.bar(z_c, rp_c, alpha=0.8, width=0.3, color='g')\n",
    "            plt.plot(z_c, rp_c, 'go')\n",
    "            if not smooth:\n",
    "                plt.bar(figure[0], figure[1].pmf(figure[0]), width=0.98, color='k', alpha=0.3, linewidth=0,label='PDF')\n",
    "            else:\n",
    "                # 30`0 represents number of points to make between T.min and T.max\n",
    "                xnew = np.linspace(6, figure[0].max(), 300) \n",
    "\n",
    "                spl = make_interp_spline(figure[0], figure[1].pmf(figure[0]), k=3)  # type: BSpline\n",
    "                power_smooth = spl(xnew)\n",
    "\n",
    "                plt.plot(xnew, power_smooth, color='k', alpha=0.5, label='Smoothed PDF')\n",
    "                plt.fill_between(xnew, power_smooth, 0, color='gray', alpha=.3)\n",
    "        kernel = scipy.stats.gaussian_kde(z_c, weights=rp_c)\n",
    "        if 'qr' in rep_type:\n",
    "            range = z_c\n",
    "        else:\n",
    "            range = np.arange(0, z_c[-1]+z_c[1], z_c[1]) \n",
    "        \n",
    "        if not elements:\n",
    "            plt.plot(range, kernel(range), color='g', label='Smoothed PDF')\n",
    "        plt.xlim([xmin,xmax])\n",
    "        plt.ylim([0,ymax])\n",
    "\n",
    "        if not elements:\n",
    "            plt.legend(loc='upper right', fontsize=graphsize-10)\n",
    "        plt.tick_params(axis='both', which='major', labelsize=graphsize-15)\n",
    "        plt.ticklabel_format(axis='both')\n",
    "        plt.xlabel('Value', fontsize=graphsize-10)\n",
    "        plt.ylabel('Probability', fontsize=graphsize-10)\n",
    "        # plt.grid(b=True, which='major', color='#666666', linestyle='-', linewidth=0.25)\n",
    "        plt.tight_layout()\n",
    "        plt.show()\n",
    "        # plt.fill_between(range, kernel(range))\n",
    "\n",
    "        if save_graphs:\n",
    "            if not smooth:\n",
    "                print('Saving to:'+file_path+experiment_name+'/'+experiment_name+'_distr_cvar_fake_'+rep_type+apdx+\".png\")\n",
    "                fig.savefig(file_path+experiment_name+'/'+experiment_name+'_distr_cvar_fake_'+rep_type+apdx+\".png\", transparent=True, dpi=400)\n",
    "            else:\n",
    "                print('Saving to:'+file_path+experiment_name+'/'+experiment_name+'_distr_cvar_fake_'+rep_type+apdx+'_smooth'+\".png\")\n",
    "                fig.savefig(file_path+experiment_name+'/'+experiment_name+'_distr_cvar_fake_'+rep_type+apdx+'_smooth'+\".png\", transparent=True, dpi=400)\n",
    "\n",
    "    var_cvar = VaR(z_c, rp_c, alpha)\n",
    "    if debug or print_metrics:\n",
    "        print(f\"{weighted_mean(z_c, rp_c)},{variance(z_c, rp_c)},{var_cvar},{CVaR(z_c, rp_c, var_cvar, alpha)},{prob_threshold(z_c, rp_c, thresh)}\")\n",
    "    return z_c, rp_c, np.array([weighted_mean(z_c, rp_c), variance(z_c, rp_c), var_cvar, CVaR(z_c, rp_c, var_cvar, alpha), prob_threshold(z_c, rp_c, thresh)])"
   ]
  },
  {
   "cell_type": "code",
   "execution_count": 48,
   "id": "9f49eaf2",
   "metadata": {},
   "outputs": [
    {
     "name": "stdout",
     "output_type": "stream",
     "text": [
      "---DTMC---\n"
     ]
    },
    {
     "data": {
      "image/png": "[encoded data removed]",
      "text/plain": [
       "<Figure size 700x400 with 1 Axes>"
      ]
     },
     "metadata": {},
     "output_type": "display_data"
    },
    {
     "name": "stdout",
     "output_type": "stream",
     "text": [
      "9.998548577019708 , 6.269981101837153 , 14 , 15.635041401178196 , 5.234445483227222e-05\n",
      "---DVI---\n"
     ]
    },
    {
     "data": {
      "image/png": "[encoded data removed]",
      "text/plain": [
       "<Figure size 700x400 with 1 Axes>"
      ]
     },
     "metadata": {},
     "output_type": "display_data"
    },
    {
     "name": "stdout",
     "output_type": "stream",
     "text": [
      "9.995263049826692,12.409045516259466,15.0,17.074052673010844,0\n"
     ]
    },
    {
     "data": {
      "image/png": "[encoded data removed]",
      "text/plain": [
       "<Figure size 700x400 with 1 Axes>"
      ]
     },
     "metadata": {},
     "output_type": "display_data"
    },
    {
     "name": "stdout",
     "output_type": "stream",
     "text": [
      "9.8,3.96,12.0,14.0,0\n",
      "m:[0. 0. 0. 0. 0. 0. 0. 0. 0. 0. 0.]\n",
      " b:0, atoms:11, vmin:0.0, vmax:25.0, delta_z:2.5\n",
      " rz: [ 0.   2.5  5.   7.5 10.  12.5 15.  17.5 20.  22.5 25. ]\n",
      "[0.00000000e+00 0.00000000e+00 0.00000000e+00 0.00000000e+00\n",
      " 0.00000000e+00 0.00000000e+00 0.00000000e+00 0.00000000e+00\n",
      " 4.09944474e-01 1.64115579e-01 4.92897894e-02 1.77002316e-01\n",
      " 6.81767305e-02 2.01912610e-02 5.45773737e-02 2.09004512e-02\n",
      " 6.25155590e-03 1.48004208e-02 5.63766819e-03 1.68803598e-03\n",
      " 3.75125850e-03 1.43989463e-03 4.39736790e-04 9.11196805e-04\n",
      " 3.45776070e-04 1.04961679e-04 2.14861873e-04 8.54917364e-05\n",
      " 2.76454199e-05 5.11771016e-05 1.94112922e-05 6.17613576e-06\n",
      " 1.18076057e-05 5.21879985e-06 2.20554477e-06 3.14496155e-06\n",
      " 1.31134208e-06 6.32188658e-07 6.49737011e-07 4.42380950e-07\n",
      " 3.16346654e-07 3.23312037e-07 2.97728337e-07 1.63840000e-08\n",
      " 4.60613222e-08 6.63741530e-08 6.50371448e-08 1.36834901e-07\n",
      " 0.00000000e+00 1.59907840e-09 4.85018829e-09 1.19896654e-08\n",
      " 4.51564337e-08 0.00000000e+00 0.00000000e+00 0.00000000e+00\n",
      " 9.70037658e-10 1.03439547e-08 0.00000000e+00 0.00000000e+00\n",
      " 0.00000000e+00 0.00000000e+00 1.39484725e-09 0.00000000e+00\n",
      " 0.00000000e+00 0.00000000e+00 0.00000000e+00 8.36239360e-11]\n",
      "rx:  [ 0  1  2  3  4  5  6  7  8  9 10 11 12 13 14 15 16 17 18 19 20 21 22 23\n",
      " 24 25 26 27 28 29 30 31 32 33 34 35 36 37 38 39 40 41 42 43 44 45 46 47\n",
      " 48 49 50 51 52 53 54 55 56 57 58 59 60 61 62 63 64 65 66 67]\n"
     ]
    },
    {
     "data": {
      "image/png": "[encoded data removed]",
      "text/plain": [
       "<Figure size 700x400 with 1 Axes>"
      ]
     },
     "metadata": {},
     "output_type": "display_data"
    },
    {
     "name": "stdout",
     "output_type": "stream",
     "text": [
      "Saving to:tests/experiments/test/test_distr_cvar_fake_c51_ex_fig_2_smooth.png\n",
      "9.99750465956509,7.3622657637971765,12.5,15.894756293698887,0\n"
     ]
    }
   ],
   "source": [
    "\n",
    "xmax = 25\n",
    "ymax = 0.5\n",
    "algs=['cvar'] #['vi', 'exp', 'cvar']\n",
    "smoothed= True\n",
    "graphsize = 42\n",
    "fig_size= (7,4)\n",
    "\n",
    "print('---DTMC---')\n",
    "for idx, alg_type in enumerate(algs):\n",
    "    rx,rp,_,dist = dtmc_compute(idx, '_ex_fig_2', 'test', 'c51', alpha=alpha, show_graph=True, debug=False, print_metrics=True, shaded=True, y_padding=0.28)\n",
    "\n",
    "print('---DVI---')\n",
    "if 'exp' in algs:\n",
    "    _,_,_ = exp_compute(idx, '_ex_fig_2', 'test', 'c51', alpha=alpha, show_graph=True, debug=False, print_metrics=True, elements=True, figure=(rx, dist), smooth=smoothed)\n",
    "    _,_,_ = exp_compute(idx, '_ex_fig_2', 'test', 'qr', alpha=alpha, show_graph=True, debug=False, print_metrics=True, elements=True, figure=(rx, dist), smooth=smoothed)\n",
    "else:\n",
    "    rz,_,_ = cvar_compute(idx, '_ex_fig_2', 'test', 'c51', alpha=alpha, show_graph=True, debug=False, print_metrics=True, elements=True, figure=(rx, dist), smooth=smoothed)\n",
    "    _,_,_ = cvar_compute(idx, '_ex_fig_2', 'test', 'qr', alpha=alpha, show_graph=True, debug=False, print_metrics=True, elements=True, figure=(rx, dist), smooth=smoothed)\n",
    "\n",
    "m = get_support(rp, rx, rz)\n",
    "\n",
    "_,_,_ = plot_distr(rx, m, rz, '_ex_fig_2', 'test', 'c51', alpha=alpha, show_graph=True, debug=False, print_metrics=True, elements=True, figure=(rx, dist), smooth=smoothed, save_graphs=True)\n",
    "\n"
   ]
  }
 ],
 "metadata": {
  "kernelspec": {
   "display_name": "csrl",
   "language": "python",
   "name": "python3"
  },
  "language_info": {
   "codemirror_mode": {
    "name": "ipython",
    "version": 3
   },
   "file_extension": ".py",
   "mimetype": "text/x-python",
   "name": "python",
   "nbconvert_exporter": "python",
   "pygments_lexer": "ipython3",
   "version": "3.8.12"
  },
  "vscode": {
   "interpreter": {
    "hash": "5e160a39e271948802cc6e745d42798fa7efe14b9daa949269369d2b8f7590eb"
   }
  }
 },
 "nbformat": 4,
 "nbformat_minor": 5
}
