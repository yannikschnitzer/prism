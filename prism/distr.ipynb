{
 "cells": [
  {
   "cell_type": "code",
   "execution_count": 1,
   "id": "d0ffc76b",
   "metadata": {},
   "outputs": [],
   "source": [
    "import pandas as pd\n",
    "import matplotlib.pyplot as plt\n",
    "import matplotlib\n",
    "import numpy as np\n",
    "import scipy\n",
    "import scipy.stats\n",
    "import math\n",
    "from scipy.interpolate import make_interp_spline, BSpline, interp1d,CubicSpline\n"
   ]
  },
  {
   "cell_type": "markdown",
   "id": "5dae23bc",
   "metadata": {},
   "source": [
    "## Helper functions"
   ]
  },
  {
   "cell_type": "code",
   "execution_count": 2,
   "id": "02f03abc",
   "metadata": {},
   "outputs": [],
   "source": [
    "def gamma_gran(a):\n",
    "    fig, ax = plt.subplots(1, 1)\n",
    "    mean, var, skew, kurt = scipy.stats.gamma.stats(a, moments='mvsk')\n",
    "    x = np.linspace(scipy.stats.gamma.ppf(0.01, a),scipy.stats.gamma.ppf(0.99, a), 1000)\n",
    "    ax.plot(x, scipy.stats.gamma.pdf(x, a),'r-', lw=5, alpha=0.6, label='gamma pdf')\n",
    "    ax.legend(loc='best', frameon=False)\n",
    "    plt.show()\n",
    "\n",
    "def norm_gran_simplified(mean, variance,conf=0.9, debug=True, vmin=0, vmax=1, ymax=0.5, bins = 10, save=None, save_fig=None):\n",
    "    std_dev = np.sqrt(variance)\n",
    "    x_plot = np.linspace(mean - 3*std_dev, mean + 3*std_dev, 1000)\n",
    "    # Freeze continuous RV\n",
    "    continuous_rv = scipy.stats.norm(loc=mean, scale=std_dev)\n",
    "    interval = scipy.stats.norm.interval(conf,loc=mean,scale=std_dev)\n",
    "    y_plot = continuous_rv.pdf(x_plot)\n",
    "    z_plot = continuous_rv.cdf(x_plot)\n",
    "    fig = plt.figure(figsize=fig_size)\n",
    "    plt.plot(x_plot, y_plot, label='Normal Distribution')\n",
    "    if debug:\n",
    "        plt.plot(x_plot, z_plot, label='CDF')\n",
    "    # plt.vlines(interval,0,ymax,colors='g',linestyles='dashed',label='Confidence '+str(conf))\n",
    "    plt.title('Normal Distr - Mean: {}, Variance: {} Std: {:.4f}'.format(mean, variance,std_dev), fontsize=graphsize-10)\n",
    "    plt.xlabel('X',fontsize=graphsize-10)\n",
    "    plt.ylabel('Probability Density',fontsize=graphsize-10)\n",
    "    plt.tick_params(axis='both', which='major', labelsize=graphsize-15)\n",
    "    plt.ticklabel_format(axis='both')\n",
    "    plt.legend(fontsize=graphsize-10)\n",
    "    plt.show()\n",
    "    \n",
    "    print(\"conf interval\",interval)\n",
    "\n",
    "    # setup support\n",
    "    delta_z = (vmax -vmin)/ (bins -1)\n",
    "    z = np.zeros(bins+1)\n",
    "    for i in range(0, bins+1):\n",
    "        if i == bins -1:\n",
    "            z[i] = vmax\n",
    "        else:\n",
    "            z[i] = vmin + i* delta_z\n",
    "    \n",
    "    z_grid = z-delta_z/2\n",
    "    z=z[:-1]\n",
    "\n",
    "    # compute the probabilities using the difference in CDF\n",
    "    probs = np.diff(continuous_rv.cdf(z_grid))\n",
    "\n",
    "    total = np.sum(probs)\n",
    "    print(total)\n",
    "    print('probs:', probs.size,'\\n',probs.round(2))\n",
    "    probs = probs * 1.0/total\n",
    "    print(np.sum(probs))\n",
    "    print('probs normalized:', probs.size,'\\n',probs.round(2))\n",
    "    print(\"z: \", z.size,\"\\n\",z)\n",
    "    # print(\"z_grid: \", z_grid.size,\"\\n\",z_grid)\n",
    "\n",
    "    # if debug:\n",
    "    #     print(prob * np.diff(bins))\n",
    "    #     print(bins)\n",
    "    fig = plt.figure(figsize=fig_size)\n",
    "    # plt.plot(z, probs,'.', label='Discretized')\n",
    "    # plt.vlines(z,0,probs, linewidth=1.5)\n",
    "    h = plt.bar(z, probs, width=delta_z*0.85, alpha=0.9, color='skyblue', label='Discretized')\n",
    "\n",
    "    plt.vlines(interval,0,np.max(probs)*1.1,colors='orangered', linewidth=3, linestyles='dashed',label='Confidence '+str(conf))\n",
    "\n",
    "    xnew = np.linspace(vmin, vmax, 300) \n",
    "    spl = make_interp_spline(z, probs, k=3)  # type: BSpline\n",
    "    power_smooth = spl(xnew)\n",
    "    plt.plot(xnew, power_smooth, color='steelblue', alpha=0.8, label='Smoothed')\n",
    "\n",
    "    plt.legend(fontsize=graphsize-18)\n",
    "    plt.tick_params(axis='both', which='major', labelsize=graphsize-15)\n",
    "    plt.xlabel('Probability of Winning',fontsize=graphsize-10)\n",
    "    plt.ylabel('Probability',fontsize=graphsize-10)\n",
    "    plt.ylim([0,ymax])\n",
    "    plt.tight_layout()\n",
    "    plt.show()\n",
    "\n",
    "    if save is not None:\n",
    "        headers = ','.join([str(x) for x in range(bins)])\n",
    "        # print(headers)\n",
    "        to_file = np.array([z, probs])\n",
    "        np.savetxt(save, to_file, header=headers, delimiter=',', fmt='%1.6f', comments='')\n",
    "\n",
    "    if save_graphs and save_fig is not None:\n",
    "        print('Saving to:'+save_fig)\n",
    "        fig.savefig(save_fig, transparent=True, dpi=400)\n",
    "        "
   ]
  },
  {
   "cell_type": "code",
   "execution_count": 3,
   "id": "3c6c663f",
   "metadata": {},
   "outputs": [
    {
     "data": {
      "image/png": "[encoded data removed]",
      "text/plain": [
       "<Figure size 576x360 with 1 Axes>"
      ]
     },
     "metadata": {
      "needs_background": "light"
     },
     "output_type": "display_data"
    },
    {
     "name": "stdout",
     "output_type": "stream",
     "text": [
      "conf interval (0.3134363582770996, 0.8865636417229004)\n",
      "0.9428455378096668\n",
      "probs: 51 \n",
      " [0.   0.   0.   0.   0.   0.   0.   0.   0.   0.01 0.01 0.01 0.01 0.01\n",
      " 0.01 0.01 0.01 0.02 0.02 0.02 0.02 0.02 0.02 0.03 0.03 0.03 0.03 0.03\n",
      " 0.03 0.03 0.03 0.03 0.03 0.03 0.03 0.03 0.03 0.03 0.03 0.03 0.03 0.02\n",
      " 0.02 0.02 0.02 0.02 0.02 0.01 0.01 0.01 0.01]\n",
      "1.0000000000000002\n",
      "probs normalized: 51 \n",
      " [0.   0.   0.   0.   0.   0.   0.   0.   0.   0.01 0.01 0.01 0.01 0.01\n",
      " 0.01 0.01 0.01 0.02 0.02 0.02 0.02 0.02 0.03 0.03 0.03 0.03 0.03 0.03\n",
      " 0.03 0.04 0.04 0.04 0.04 0.04 0.04 0.03 0.03 0.03 0.03 0.03 0.03 0.03\n",
      " 0.02 0.02 0.02 0.02 0.02 0.02 0.01 0.01 0.01]\n",
      "z:  51 \n",
      " [0.    0.019 0.038 0.057 0.076 0.095 0.114 0.133 0.152 0.171 0.19  0.209\n",
      " 0.228 0.247 0.266 0.285 0.304 0.323 0.342 0.361 0.38  0.399 0.418 0.437\n",
      " 0.456 0.475 0.494 0.513 0.532 0.551 0.57  0.589 0.608 0.627 0.646 0.665\n",
      " 0.684 0.703 0.722 0.741 0.76  0.779 0.798 0.817 0.836 0.855 0.874 0.893\n",
      " 0.912 0.931 0.95 ]\n"
     ]
    },
    {
     "data": {
      "image/png": "[encoded data removed]",
      "text/plain": [
       "<Figure size 576x360 with 1 Axes>"
      ]
     },
     "metadata": {
      "needs_background": "light"
     },
     "output_type": "display_data"
    }
   ],
   "source": [
    "# Graph Formating\n",
    "matplotlib.rcParams.update({\n",
    "    'font.family': 'serif',\n",
    "    'text.usetex': True,\n",
    "    'text.latex.preamble': r'\\usepackage{amsfonts}',\n",
    "    'axes.spines.right':False,\n",
    "    'axes.spines.top': False\n",
    "})\n",
    "# font size in the graph\n",
    "graphsize = 38\n",
    "fig_size= (8,5)\n",
    "# projection code?\n",
    "# gamma_gran(a=1)\n",
    "#ymax = 0.2\n",
    "ymax=0.05\n",
    "mean = 0.6\n",
    "variance = 0.05\n",
    "conf = 0.8\n",
    "vmin = 0.0; vmax = 0.95\n",
    "desired_atoms = 51\n",
    "save_graphs=False\n",
    "mode='high'\n",
    "\n",
    "norm_gran_simplified(mean, variance, conf, \n",
    "                     vmin=vmin, vmax=vmax, ymax=ymax, bins =desired_atoms,\n",
    "                     debug=False,\n",
    "                     save =None, \n",
    "                     #save='tests/betting_game/param_p_'+str(desired_atoms)+'.csv',\n",
    "                     save_fig=None,\n",
    "                     #save_fig='tests/experiments/betting_g_gran_'+mode+'/betting_g_distr_input_'+mode+'.png'\n",
    "                     )"
   ]
  },
  {
   "cell_type": "code",
   "execution_count": 4,
   "id": "6d5230e4",
   "metadata": {},
   "outputs": [],
   "source": [
    "def verify_confidence(rx, rp, filepath=None, conf=0.8, debug=True):\n",
    "    \n",
    "    if filepath is not None:\n",
    "        dist = pd.read_csv(filepath)\n",
    "        #dist.head(10)\n",
    "        rp = dist.iloc[1].to_numpy()  # output 4th row as Numpy array\n",
    "        rx = dist.iloc[0].to_numpy()\n",
    "\n",
    "    if debug:\n",
    "        print(\"rp: \", rp)\n",
    "        print(\"rx: \", rx)\n",
    "        print(np.sum(rp))\n",
    "        \n",
    "    distr = scipy.stats.rv_discrete(values=(rx, rp))\n",
    "    ival= distr.interval(alpha=conf)\n",
    "\n",
    "    print('interval: ',ival)\n",
    "    print('variance: ', distr.var())\n",
    "    print('mean: ', distr.mean())"
   ]
  },
  {
   "cell_type": "code",
   "execution_count": 5,
   "id": "a4f7d95d",
   "metadata": {},
   "outputs": [
    {
     "name": "stdout",
     "output_type": "stream",
     "text": [
      "rp:  [0.005048 0.014201 0.03344  0.065909 0.10874  0.150177 0.17362  0.168025\n",
      " 0.136123 0.092313 0.052404]\n",
      "rx:  [0.    0.095 0.19  0.285 0.38  0.475 0.57  0.665 0.76  0.855 0.95 ]\n",
      "1.0\n",
      "interval:  (0.285, 0.855)\n",
      "variance:  0.04165881175662789\n",
      "mean:  0.5820069550000001\n"
     ]
    }
   ],
   "source": [
    "path = 'tests/betting_game/param_p_11.csv'\n",
    "verify_confidence(None, None,path)\n",
    "# sanity check\n",
    "# verify_confidence(np.array([1.0,2.0]), np.array([0.5,0.5]))"
   ]
  },
  {
   "cell_type": "code",
   "execution_count": 6,
   "id": "327dc4c4-e319-49ff-a212-28f9654165f9",
   "metadata": {
    "tags": []
   },
   "outputs": [],
   "source": [
    "def adjust_qr(rx, rp, rz):\n",
    "    \n",
    "    rz_new, rp_new = np.unique(rx, return_counts=True)\n",
    "    rp_new = rp_new * rp[0]\n",
    "    #rz_new= np.arange(0, len(rp_new), 1)\n",
    "    \n",
    "    return rx, rp_new, rz_new"
   ]
  },
  {
   "cell_type": "code",
   "execution_count": 7,
   "id": "e716ee25-8ff4-46ed-9919-bf7b52d0774b",
   "metadata": {
    "tags": []
   },
   "outputs": [],
   "source": [
    "def VaR(z, p, lim):\n",
    "    var = 0\n",
    "    cum_p = 0\n",
    "    for j, atom in enumerate(p):\n",
    "        cum_p += atom\n",
    "        if cum_p>= lim:\n",
    "            var = z[j]\n",
    "            break\n",
    "    return var\n",
    "\n",
    "def CVaR (z, p, var, lim):\n",
    "    cvar = var\n",
    "    expected_c = 0 \n",
    "    for i, j in enumerate(p):\n",
    "        if p[i] > 0:\n",
    "            expected_c += j * max(0, z[i]-var)\n",
    "    cvar+= 1/(1- alpha) * expected_c\n",
    "    return cvar\n",
    "\n",
    "def variance(z, p):\n",
    "    average = np.average(z, weights=p)\n",
    "    variance = np.average((z-average)**2, weights=p)\n",
    "    return variance\n",
    "\n",
    "def weighted_mean(z,p):\n",
    "    return np.average(z, weights=p)\n",
    "\n",
    "def prob_threshold(z, p, thresh):\n",
    "    cum_p = 0\n",
    "    for j, atom in enumerate(p):        \n",
    "        if z[j]>= thresh:\n",
    "            cum_p += atom\n",
    "            \n",
    "    return cum_p"
   ]
  },
  {
   "cell_type": "code",
   "execution_count": 8,
   "id": "6dd78d4e-9fdc-47c9-99f2-7ff041e32760",
   "metadata": {},
   "outputs": [],
   "source": [
    "def l2 (u_values, v_values, u_weights=None, v_weights=None, debug=False):\n",
    "    u_values = np.asarray(u_values, dtype=float)\n",
    "    v_values = np.asarray(v_values, dtype=float)\n",
    "    u_weights = np.asarray(u_weights, dtype=float)\n",
    "    v_weights = np.asarray(v_weights, dtype=float)\n",
    "    \n",
    "    u_sorter = np.argsort(u_values)\n",
    "    v_sorter = np.argsort(v_values)\n",
    "\n",
    "    all_values = np.concatenate((u_values, v_values))\n",
    "    all_values.sort(kind='mergesort')\n",
    "\n",
    "    # Compute the differences between pairs of successive values of u and v.\n",
    "    deltas = np.diff(all_values)\n",
    "\n",
    "    # Get the respective positions of the values of u and v among the values of\n",
    "    # both distributions.\n",
    "    u_cdf_indices = u_values[u_sorter].searchsorted(all_values[:-1], 'right')\n",
    "    v_cdf_indices = v_values[v_sorter].searchsorted(all_values[:-1], 'right')\n",
    "\n",
    "    # Calculate the CDFs of u and v using their weights\n",
    "    u_sorted_cumweights = np.concatenate(([0],np.cumsum(u_weights[u_sorter])))\n",
    "    u_cdf = u_sorted_cumweights[u_cdf_indices] / u_sorted_cumweights[-1]\n",
    "\n",
    "    v_sorted_cumweights = np.concatenate(([0],np.cumsum(v_weights[v_sorter])))\n",
    "    v_cdf = v_sorted_cumweights[v_cdf_indices] / v_sorted_cumweights[-1]\n",
    "    \n",
    "    if debug:\n",
    "        print(\"delta\", deltas)\n",
    "        print(\"cdf u:\", u_cdf)\n",
    "        print(\"cdf v:\", v_cdf)\n",
    "        print(\"square cdf u - cdf v\", np.square(u_cdf - v_cdf))\n",
    "        print(\"square diff * delta\", np.multiply(np.square(u_cdf - v_cdf), deltas))\n",
    "        print(\"sum( (square diff) *delta))\", np.sum(np.multiply(np.square(u_cdf - v_cdf), deltas)))\n",
    "    return np.sqrt(np.sum(np.multiply(np.square(u_cdf - v_cdf), deltas)))\n"
   ]
  },
  {
   "attachments": {},
   "cell_type": "markdown",
   "id": "ed53a987-d958-4c52-b7c1-db66dd775e6f",
   "metadata": {},
   "source": [
    "## Graphs"
   ]
  },
  {
   "attachments": {},
   "cell_type": "markdown",
   "id": "0b6d64e1-b853-4bcf-8da5-1892e5d985ef",
   "metadata": {
    "tags": []
   },
   "source": [
    "##### DTMC"
   ]
  },
  {
   "cell_type": "code",
   "execution_count": 9,
   "id": "e92ed46b",
   "metadata": {
    "tags": []
   },
   "outputs": [],
   "source": [
    "def dtmc_compute(idx, apdx, experiment_name, rep_type, imdp=None, xlims=[0,100], width=1,conf=0.8, prob=False, show_graph=True, debug=True, print_metrics=False, shaded=False, y_level=0.3, y_padding=0.3, alpha=0.7, spline_smooth=True):\n",
    "    if debug:\n",
    "        if(prob):\n",
    "            print('Reading file: '+file_path+experiment_name+'/'+experiment_name+'_distr_dtmc_'+alg_type+'_prob_'+rep_type+apdx+'.csv')\n",
    "        else:\n",
    "            print('Reading file: '+file_path+experiment_name+'/'+experiment_name+'_distr_dtmc_'+alg_type+'_'+rep_type+apdx+'.csv')\n",
    "    if prob:\n",
    "        dist = pd.read_csv(file_path+experiment_name+'/'+experiment_name+'_distr_dtmc_'+alg_type+'_prob_'+rep_type+apdx+'.csv')\n",
    "    else:    \n",
    "        dist = pd.read_csv(file_path+experiment_name+'/'+experiment_name+'_distr_dtmc_'+alg_type+'_'+rep_type+apdx+'.csv')\n",
    "    #dist.head(10)\n",
    "    rx = dist['r'].to_numpy()\n",
    "    rp = dist['p'].to_numpy()\n",
    "    n = np.max(np.where(rp > 1e-20))\n",
    "    rx = rx[0:n+1]\n",
    "    rp = rp[0:n+1]\n",
    "\n",
    "    var_dtmc = VaR(rx, rp, alpha)\n",
    "    metrics = np.array([weighted_mean(rx, rp), variance(rx, rp), var_dtmc, CVaR(rx, rp, var_dtmc, alpha), prob_threshold(rx, rp, thresh)])\n",
    "    # z = z[0:n+1]\n",
    "    if debug:\n",
    "        print(rx)\n",
    "        print(n)\n",
    "        print(np.sum(rp), np.allclose(np.sum(rp), 1))\n",
    "        print(\"max p:\", np.max(rp))\n",
    "    \n",
    "    print(rp)\n",
    "    dtmc_distr = scipy.stats.rv_discrete(values=(rx, rp),name='dtmc_distr')\n",
    "    if show_graph:\n",
    "        # h = plt.bar(rx, rp, alpha=0.5)\n",
    "        fig = plt.figure(figsize=fig_size)\n",
    "\n",
    "        if shaded:\n",
    "            # plt.bar(rx, dtmc_distr.pmf(rx), width=0.98, color='gray', alpha=0.45, linewidth=0,label='PDF')\n",
    "            kernel = scipy.stats.gaussian_kde(rx, weights=rp)\n",
    "            range = np.arange(0, n, 1)\n",
    "            # plt.plot(range, kernel(range), label='gaussian PDF')\n",
    "            # 300 represents number of points to make between T.min and T.max\n",
    "            xnew = np.linspace(6, rx.max(), 300) \n",
    "\n",
    "            spl = make_interp_spline(rx, dtmc_distr.pmf(rx), k=3)  # type: BSpline\n",
    "            power_smooth = spl(xnew)\n",
    "            idx_start = (np.abs(xnew - metrics[2])).argmin()\n",
    "            plt.plot(xnew, power_smooth, color='k', alpha=0.8, label='Smoothed PDF')\n",
    "            \n",
    "            plt.fill_between(xnew[idx_start:], power_smooth[idx_start:], 0, color='gray', alpha=.6)\n",
    "            \n",
    "            plt.vlines(x=[metrics[0], metrics[2], metrics[3]], linestyles='dashed', ymin=0, ymax=1, color = 'k')\n",
    "            \n",
    "            plt.text(metrics[0]+y_padding, y_level+0.15, r'$\\mathbb{E}$', fontsize=graphsize-10,  rotation=90, verticalalignment='center')\n",
    "            plt.text(metrics[2]-y_padding-1.5, y_level, r'$\\mathsf{VaR}_{'+str(alpha)+r'}$', fontsize=graphsize-10, rotation=90, verticalalignment='center')\n",
    "            plt.text(metrics[3]+y_padding, y_level, r'$\\mathsf{CVaR}_{'+str(alpha)+r'}$', fontsize=graphsize-10, rotation=90, verticalalignment='center')\n",
    "\n",
    "        else:\n",
    "            if (xmax-xmin)>400:\n",
    "                if prob:\n",
    "                    h = plt.bar(rx, rp, width=1, alpha=0.5, label='PDF')\n",
    "                else:\n",
    "                    h = plt.bar(rx, dtmc_distr.pmf(rx), width=1, alpha=0.5, label='PDF')\n",
    "            else:\n",
    "                if prob:\n",
    "                    h = plt.bar(rx, rp, width=width, alpha=0.9, color='darkturquoise', label='PDF')\n",
    "                else:\n",
    "                    h = plt.bar(rx, dtmc_distr.pmf(rx), width=width, alpha=0.5, label='PDF')\n",
    "            \n",
    "            if imdp is not None:\n",
    "                plt.vlines(x=imdp, linestyles='dashed', ymin=0, ymax=np.max(rp)*1.1, linewidth=3, color = 'darkorange', label='Robust VI')\n",
    "            \n",
    "            if not spline_smooth:\n",
    "                kernel = scipy.stats.gaussian_kde(rx, weights=rp)\n",
    "                if prob:\n",
    "                    range = np.arange(np.min(rx), np.max(rx)+10, 20)\n",
    "                else:\n",
    "                    range = np.arange(0, n, 0.1)\n",
    "                plt.plot(range, kernel(range), label='Smoothed PDF')\n",
    "            else:\n",
    "                \n",
    "                xnew = np.linspace(rx.min(), rx.max(), 200) \n",
    "                rx_smooth = np.sort(rx)\n",
    "                rp_smooth =np.array([p for _,p in sorted(zip(rx, rp), key=lambda pair: pair[0])])\n",
    "                \n",
    "                print(rx_smooth)\n",
    "                print(rp_smooth)\n",
    "                \n",
    "                spl = make_interp_spline(rx_smooth, rp_smooth, k=3)  # type: BSpline\n",
    "                cubic_spl = interp1d(rx_smooth, rp_smooth, kind='cubic')\n",
    "                power_smooth = spl(xnew)\n",
    "                plt.plot(xnew, cubic_spl(xnew), color='teal', alpha=0.9, label='Smoothed PDF')\n",
    "        plt.xlim(xlims)\n",
    "        plt.ylim([0,ymax])\n",
    "\n",
    "        if not shaded:\n",
    "            plt.legend(fontsize=graphsize-18)\n",
    "        plt.tick_params(axis='both', which='major', labelsize=graphsize-15)\n",
    "        plt.ticklabel_format(axis='both')\n",
    "        plt.xlabel('Value', fontsize=graphsize-10)\n",
    "        plt.ylabel('Probability', fontsize=graphsize-10)\n",
    "        # plt.grid(b=True, which='major', color='#666666', linestyle='-', linewidth=0.25)\n",
    "        plt.tight_layout()\n",
    "        plt.show()\n",
    "    # plt.fill_between(range, kernel(range))\n",
    "\n",
    "    if save_graphs:\n",
    "        print('Saving to:'+file_path+experiment_name+'/'+experiment_name+'_distr_dtmc_'+alg_type+'_'+rep_type+apdx+\".png\")\n",
    "        fig.savefig(file_path+experiment_name+'/'+experiment_name+'_distr_dtmc_'+alg_type+'_'+rep_type+apdx+\".png\", transparent=True, dpi=400)\n",
    "\n",
    "    if debug or print_metrics:\n",
    "        print(\"DTMC for\",alg_type, \" E:\", weighted_mean(rx, rp),\", variance:\",variance(rx, rp),\", VaR:\",var_dtmc,\", CVaR:\", CVaR(rx, rp, var_dtmc, alpha),\n",
    "              \", Conf \",conf,\":\",dtmc_distr.interval(conf),\n",
    "              \", Threshold:\",prob_threshold(rx, rp, thresh))\n",
    "    return rx,rp, metrics, dtmc_distr"
   ]
  },
  {
   "attachments": {},
   "cell_type": "markdown",
   "id": "4391a4b9-7cde-47d7-a90c-f5366a3c352a",
   "metadata": {
    "tags": []
   },
   "source": [
    "##### Expected Value Iteration"
   ]
  },
  {
   "cell_type": "code",
   "execution_count": 10,
   "id": "23fab2da-a53b-45a1-b0b8-5a0a435bcf44",
   "metadata": {
    "tags": []
   },
   "outputs": [],
   "source": [
    "def exp_compute(idx, apdx, experiment_name, rep_type, imdp=None, xlims=[0,100], conf=0.8, width=0.3, show_graph=True, debug=True, print_metrics=False, elements=False, figure = None, smooth=False, alpha=0.7, prob=True):\n",
    "    \n",
    "    full_file=\"\"\n",
    "    if(prob):\n",
    "        full_file =file_path+experiment_name+'/'+experiment_name+'_distr_exp_prob_'+rep_type+apdx+'.csv'\n",
    "        dist = pd.read_csv(full_file)\n",
    "    else:\n",
    "        full_file =file_path+experiment_name+'/'+experiment_name+'_distr_exp_'+rep_type+apdx+'.csv'\n",
    "        dist = pd.read_csv(full_file)\n",
    "    if debug:\n",
    "            print('Reading file: '+full_file)\n",
    "    #dist.head(10)\n",
    "    rx_e = dist['r'].to_numpy()\n",
    "    rp_e = dist['p'].to_numpy()\n",
    "    z_e = dist['z'].to_numpy()\n",
    "    if 'qr' in rep_type:\n",
    "        if debug:\n",
    "            print('converting distribution from qr')\n",
    "        rx_e, rp_e, z_e = adjust_qr(rx_e, rp_e, z_e)\n",
    "        # print(len(rx_e), rx_e)\n",
    "        # print(len(rp_e), rp_e)\n",
    "        # print(len(z_e), z_e)\n",
    "\n",
    "    n = np.max(np.where(rp_e > 1e-8))\n",
    "    rx_e = rx_e[0:n+1]\n",
    "    rp_e = rp_e[0:n+1]\n",
    "    z_e = z_e[0:n+1]\n",
    "    \n",
    "    if debug:\n",
    "        print(len(dist.index))\n",
    "        print(np.sum(rp_e), np.allclose(np.sum(rp_e), 1))\n",
    "        print(\"max p:\", np.max(rp_e))\n",
    "    \n",
    "    distr_e = scipy.stats.rv_discrete(values=(z_e, rp_e))\n",
    "    if show_graph:\n",
    "        # h = plt.bar(rx_e, rp_e, alpha=0.5)\n",
    "        fig=plt.figure(figsize=fig_size)\n",
    "        \n",
    "        if not elements:\n",
    "            h = plt.bar(z_e, rp_e, alpha=0.5, width=width, color='g', label='PDF')\n",
    "        \n",
    "        else:\n",
    "            h = plt.bar(z_e, rp_e, alpha=0.8, width=0.3, color='g')\n",
    "            plt.plot(z_e, rp_e, 'go')\n",
    "            if not smooth:\n",
    "                plt.bar(figure[0], figure[1].pmf(figure[0]), width=0.98, color='k', alpha=0.3, linewidth=0,label='PDF')\n",
    "            else:\n",
    "                # 30`0 represents number of points to make between T.min and T.max\n",
    "                xnew = np.linspace(6, figure[0].max(), 300) \n",
    "\n",
    "                spl = make_interp_spline(figure[0], figure[1].pmf(figure[0]), k=3)  # type: BSpline\n",
    "                power_smooth = spl(xnew)\n",
    "\n",
    "                plt.plot(xnew, power_smooth, color='k', alpha=0.5, label='Smoothed PDF')\n",
    "                plt.fill_between(xnew, power_smooth, 0, color='gray', alpha=.3)\n",
    "            \n",
    "        kernel = scipy.stats.gaussian_kde(z_e, weights=rp_e)\n",
    "        if 'qr' in rep_type:\n",
    "            range = z_e\n",
    "        else:\n",
    "            range = np.arange(0, z_e[-1]+z_e[1], z_e[1])\n",
    "\n",
    "        if not elements:\n",
    "            plt.plot(range, kernel(z_e), color='g', label='Smoothed PDF')\n",
    "        \n",
    "        if imdp is not None:\n",
    "            plt.vlines(x=imdp, linestyles='dashed', ymin=0, ymax=ymax, color = 'r')\n",
    "        \n",
    "        plt.xlim(xlims)\n",
    "        plt.ylim([0,ymax])\n",
    "\n",
    "        if not elements:\n",
    "            plt.legend(loc='upper left', fontsize=graphsize-18)\n",
    "\n",
    "        plt.tick_params(axis='both', which='major', labelsize=graphsize-15)\n",
    "        plt.ticklabel_format(axis='both')\n",
    "        plt.xlabel('Value', fontsize=graphsize-10)\n",
    "        plt.ylabel('Probability', fontsize=graphsize-10)\n",
    "        # plt.grid(b=True, which='major', color='#666666', linestyle='-', linewidth=0.25)\n",
    "        plt.tight_layout()\n",
    "        plt.show()\n",
    "    # plt.fill_between(range, kernel(range))\n",
    "\n",
    "        if save_graphs:\n",
    "            if not smooth:\n",
    "                print('Saving to:'+file_path+experiment_name+'/'+experiment_name+'_distr_exp_'+rep_type+apdx+\".png\")\n",
    "                fig.savefig(file_path+experiment_name+'/'+experiment_name+'_distr_exp_'+rep_type+apdx+\".png\", transparent=True, dpi=400)\n",
    "            else:\n",
    "                print('Saving to:'+file_path+experiment_name+'/'+experiment_name+'_distr_exp_'+rep_type+apdx+'_smooth'+\".png\")\n",
    "                fig.savefig(file_path+experiment_name+'/'+experiment_name+'_distr_exp_'+rep_type+apdx+'_smooth'+\".png\", transparent=True, dpi=400)\n",
    "                \n",
    "    \n",
    "    var_exp = VaR(z_e, rp_e, alpha)\n",
    "    if debug or print_metrics:\n",
    "        print(f\"Risk neutral DVI: E:{weighted_mean(z_e, rp_e)}, variance:{variance(z_e, rp_e)}, VaR:{var_exp}, CVaR:{CVaR(z_e, rp_e, var_exp, alpha)}, Conf {conf}: {distr_e.interval(conf)}, threshold:{prob_threshold(z_e, rp_e, thresh)}\")\n",
    "    return z_e, rp_e, np.array([weighted_mean(z_e, rp_e), variance(z_e, rp_e), var_exp, CVaR(z_e, rp_e, var_exp, alpha), prob_threshold(z_e, rp_e, thresh)])"
   ]
  },
  {
   "attachments": {},
   "cell_type": "markdown",
   "id": "81e8b98e-aab3-40c2-a5de-b9ea36282168",
   "metadata": {
    "tags": []
   },
   "source": [
    "##### CVaR"
   ]
  },
  {
   "cell_type": "code",
   "execution_count": 11,
   "id": "341c2fb9-1873-4f53-9aa5-d29ec6c2338c",
   "metadata": {},
   "outputs": [],
   "source": [
    "def cvar_compute(idx, apdx, experiment_name, rep_type, xlims=[0,100],conf=0.8, show_graph=True, debug=True, print_metrics=False, elements=False, figure=None, smooth =False, alpha=0.7):\n",
    "    if debug:\n",
    "        print('Reading file: '+file_path+experiment_name+'/'+experiment_name+'_distr_cvar_'+rep_type+apdx+'.csv')\n",
    "    dist = pd.read_csv(file_path+experiment_name+'/'+experiment_name+'_distr_cvar_'+rep_type+apdx+'.csv')\n",
    "    #dist.head(10)\n",
    "    rx_c = dist['r'].to_numpy()\n",
    "    rp_c = dist['p'].to_numpy()\n",
    "    z_c = dist['z'].to_numpy()\n",
    "    if 'qr' in rep_type:\n",
    "        if debug:\n",
    "            print('converting distribution from qr')\n",
    "        rx_c, rp_c, z_c = adjust_qr(rx_c, rp_c, z_c)\n",
    "    n = np.max(np.where(rp_c > 1e-6))\n",
    "    rx_c = rx_c[0:n+1]\n",
    "    rp_c = rp_c[0:n+1]\n",
    "    z_c = z_c[0:n+1]\n",
    "    if debug:\n",
    "        print(n)\n",
    "        print(np.sum(rp_c), np.allclose(np.sum(rp_c), 1))\n",
    "        print(\"max p:\", np.max(rp_c))\n",
    "    \n",
    "    distr_c = scipy.stats.rv_discrete(values=(z_c, rp_c))\n",
    "    if show_graph:\n",
    "        # h = plt.bar(rx_c, rp_c, alpha=0.5)\n",
    "        fig=plt.figure(figsize=fig_size)\n",
    "            \n",
    "        if not elements:\n",
    "            h = plt.bar(z_c, rp_c, alpha=0.5, color='g', label='PDF')\n",
    "        else:\n",
    "            h = plt.bar(z_c, rp_c, alpha=0.8, width=0.3, color='g')\n",
    "            plt.plot(z_c, rp_c, 'go')\n",
    "            if not smooth:\n",
    "                plt.bar(figure[0], figure[1].pmf(figure[0]), width=0.98, color='k', alpha=0.3, linewidth=0,label='PDF')\n",
    "            else:\n",
    "                # 30`0 represents number of points to make between T.min and T.max\n",
    "                xnew = np.linspace(6, figure[0].max(), 300) \n",
    "\n",
    "                spl = make_interp_spline(figure[0], figure[1].pmf(figure[0]), k=3)  # type: BSpline\n",
    "                power_smooth = spl(xnew)\n",
    "\n",
    "                plt.plot(xnew, power_smooth, color='k', alpha=0.5, label='Smoothed PDF')\n",
    "                plt.fill_between(xnew, power_smooth, 0, color='gray', alpha=.3)\n",
    "        kernel = scipy.stats.gaussian_kde(z_c, weights=rp_c)\n",
    "        if 'qr' in rep_type:\n",
    "            range = z_c\n",
    "        else:\n",
    "            range = np.arange(0, z_c[-1]+z_c[1], z_c[1]) \n",
    "        \n",
    "        if not elements:\n",
    "            plt.plot(range, kernel(range), color='g', label='Smoothed PDF')\n",
    "        plt.xlim(xlims)\n",
    "        plt.ylim([0,ymax])\n",
    "\n",
    "        if not elements:\n",
    "            plt.legend(loc='upper right', fontsize=graphsize-18)\n",
    "        plt.tick_params(axis='both', which='major', labelsize=graphsize-15)\n",
    "        plt.ticklabel_format(axis='both')\n",
    "        plt.xlabel('Value', fontsize=graphsize-10)\n",
    "        plt.ylabel('Probability', fontsize=graphsize-10)\n",
    "        # plt.grid(b=True, which='major', color='#666666', linestyle='-', linewidth=0.25)\n",
    "        plt.tight_layout()\n",
    "        plt.show()\n",
    "        # plt.fill_between(range, kernel(range))\n",
    "\n",
    "        if save_graphs:\n",
    "           \n",
    "            if not smooth:\n",
    "                print('Saving to:'+file_path+experiment_name+'/'+experiment_name+'_distr_cvar_'+rep_type+apdx+\".png\")\n",
    "                fig.savefig(file_path+experiment_name+'/'+experiment_name+'_distr_cvar_'+rep_type+apdx+\".png\", transparent=True, dpi=400)\n",
    "            else:\n",
    "                print('Saving to:'+file_path+experiment_name+'/'+experiment_name+'_distr_cvar_'+rep_type+apdx+'_smooth'+\".png\")\n",
    "                fig.savefig(file_path+experiment_name+'/'+experiment_name+'_distr_cvar_'+rep_type+apdx+'_smooth'+\".png\", transparent=True, dpi=400)\n",
    "\n",
    "    var_cvar = VaR(z_c, rp_c, alpha)\n",
    "    if debug or print_metrics:\n",
    "        print(f\"Risk sensitive DVI: E:{weighted_mean(z_c, rp_c)}, variance:{variance(z_c, rp_c)}, VaR:{var_cvar}, CVaR:{CVaR(z_c, rp_c, var_cvar, alpha)}, Conf  {conf}: {distr_c.interval(conf)}, threshold:{prob_threshold(z_c, rp_c, thresh)}\")\n",
    "    return z_c, rp_c, np.array([weighted_mean(z_c, rp_c), variance(z_c, rp_c), var_cvar, CVaR(z_c, rp_c, var_cvar, alpha), prob_threshold(z_c, rp_c, thresh)])"
   ]
  },
  {
   "attachments": {},
   "cell_type": "markdown",
   "id": "061ebc44",
   "metadata": {},
   "source": [
    "#### Setup\n",
    "\n",
    "Set the metric parameters and graph parameters in next cell."
   ]
  },
  {
   "cell_type": "code",
   "execution_count": 12,
   "id": "6fcd4ebd-e483-46e4-a9b3-790690d309d1",
   "metadata": {},
   "outputs": [],
   "source": [
    "# graph figure parameters\n",
    "xmax = 100\n",
    "xmin=20\n",
    "ymax=0.05\n",
    "fig_size= (8,5)"
   ]
  },
  {
   "attachments": {},
   "cell_type": "markdown",
   "id": "fcf46c64",
   "metadata": {},
   "source": [
    "Set experiment name and representation type in the following cell.\n",
    "Make sure to run the experiments using `run_experiments.py` before visualization."
   ]
  },
  {
   "cell_type": "code",
   "execution_count": 14,
   "id": "c91826d3-36bc-41ef-a9bb-7ee2c79cb947",
   "metadata": {},
   "outputs": [],
   "source": [
    "# Graph Formating\n",
    "matplotlib.rcParams.update({\n",
    "    'font.family': 'serif',\n",
    "    'text.usetex': True,\n",
    "    'text.latex.preamble': r'\\usepackage{amsfonts}',\n",
    "    'axes.spines.right':False,\n",
    "    'axes.spines.top': False\n",
    "})\n",
    "# font size in the graph\n",
    "graphsize = 38\n",
    "# experiments folder path, does not need changing\n",
    "file_path = 'tests/experiments/'\n",
    "# Change this to select the experiment to visualize\n",
    "experiment_name='betting_g_gran_low' \n",
    "apdx =  [''] \n",
    "alg_type = 'cvar' # Used only for the DTMC graph\n",
    "rep_type = 'c51' # 'qr' or 'c51'\n",
    "save_graphs = False # if set to true, save the graph to a png file\n",
    "num_metrics = 5 # exp val, variance, var, cvar, prob>thresh"
   ]
  },
  {
   "cell_type": "code",
   "execution_count": 15,
   "id": "fce06154-e319-4e02-957c-95cf53e74706",
   "metadata": {},
   "outputs": [],
   "source": [
    "metrics_dtmc = np.zeros([len(apdx), num_metrics])\n",
    "metrics_e = np.zeros([len(apdx), num_metrics])\n",
    "metrics_c = np.zeros([len(apdx), num_metrics])\n",
    "print_metrics=True"
   ]
  },
  {
   "attachments": {},
   "cell_type": "markdown",
   "id": "4e2030b9",
   "metadata": {},
   "source": [
    "##### Base experiment Visualization\n",
    "This cell shows the graph for the base experiment for the selected algorithms followed by a set of distributional metrics in the following order:\n",
    "* Expected Value\n",
    "* Variance\n",
    "* Value at Risk(alpha)\n",
    "* Conditional Value at Risk(alpha)\n",
    "* Probability of the cost to be greater than a threshold.\n",
    "\n",
    "['vi', 'exp', 'cvar', 'dtmc'] are the possible options for the DTMC graph (in `algs`)\n",
    "- 'vi': PRISM VI algorithm for MDP + DTMC method\n",
    "- 'exp': risk neutral DVI\n",
    "- 'cvar' : risk sensitive DVI\n",
    "- 'dtmc': DTMC method run on a DTMC model"
   ]
  },
  {
   "cell_type": "code",
   "execution_count": 16,
   "id": "0320ca48",
   "metadata": {},
   "outputs": [
    {
     "name": "stdout",
     "output_type": "stream",
     "text": [
      "---DTMC---\n",
      "Reading file: tests/experiments/betting_g_gran_low/betting_g_gran_low_distr_dtmc_exp_prob_c51_test.csv\n",
      "[98.631158 97.632433 95.975706 93.308315 89.185599 83.219371 75.292387\n",
      " 65.728465 55.299904 44.985082 35.459822]\n",
      "10\n",
      "1.0 True\n",
      "max p: 0.17362\n",
      "[0.005048 0.014201 0.03344  0.065909 0.10874  0.150177 0.17362  0.168025\n",
      " 0.136123 0.092313 0.052404]\n",
      "[35.459822 44.985082 55.299904 65.728465 75.292387 83.219371 89.185599\n",
      " 93.308315 95.975706 97.632433 98.631158]\n",
      "[0.052404 0.092313 0.136123 0.168025 0.17362  0.150177 0.10874  0.065909\n",
      " 0.03344  0.014201 0.005048]\n"
     ]
    },
    {
     "data": {
      "image/png": "[encoded data removed]",
      "text/plain": [
       "<Figure size 576x360 with 1 Axes>"
      ]
     },
     "metadata": {
      "needs_background": "light"
     },
     "output_type": "display_data"
    },
    {
     "name": "stdout",
     "output_type": "stream",
     "text": [
      "DTMC for exp  E: 71.09415390403001 , variance: 296.0513791288948 , VaR: 44.985082 , CVaR: 311.0674182907 , Conf  0.8 : (44.985082, 93.30831500000001) , Threshold: 0\n",
      "---DVI---\n",
      "Reading file: tests/experiments/betting_g_gran_low/betting_g_gran_low_distr_exp_prob_c51_test.csv\n",
      "201\n",
      "1.0 True\n",
      "max p: 0.1274291802770665\n"
     ]
    },
    {
     "data": {
      "image/png": "[encoded data removed]",
      "text/plain": [
       "<Figure size 576x360 with 1 Axes>"
      ]
     },
     "metadata": {
      "needs_background": "light"
     },
     "output_type": "display_data"
    },
    {
     "name": "stdout",
     "output_type": "stream",
     "text": [
      "Risk neutral DVI: E:74.16187465465055, variance:11.344449884905774, VaR:79.0, CVaR:80.2680421062844, Conf 0.8: (69.5, 79.0), threshold:0\n"
     ]
    }
   ],
   "source": [
    "# Cvar alpha parameter\n",
    "# 0.7 default\n",
    "# 0.8 for ds_treasure, betting_game, grid 150\n",
    "# 0.9 for SSP comparison benchmarks and drones\n",
    "alpha=0.9\n",
    "conf=0.8\n",
    "# threshold value when computing \n",
    "# the probability of a cost higher than the set threshold\n",
    "# this parameter is to be varied based on the benchmark\n",
    "thresh=340\n",
    "algs= ['exp'] # ['vi', 'exp', 'cvar','dtmc'] \n",
    "show_graph = True # show the distribution graph\n",
    "appendix  = '_test' # appendix if applicable, add an '_' before the appendix set with the running script\n",
    "prob=True\n",
    "interval_imdp = [40.70974350857195, 92.06091288631308]\n",
    "\n",
    "print('---DTMC---')\n",
    "for idx, alg_type in enumerate(algs):\n",
    "    _,_,_,_ = dtmc_compute(idx, appendix, experiment_name, rep_type, imdp=interval_imdp, xlims=[30,xmax],  width=0.5, alpha=alpha, show_graph=show_graph, debug=True, print_metrics=True, prob=prob)\n",
    "print('---DVI---')\n",
    "if 'exp' in algs or 'dtmc' in algs:\n",
    "    _,_,_ = exp_compute(0, appendix, experiment_name, rep_type, imdp=interval_imdp, xlims=[30,xmax], width=0.5, conf=0.8, alpha=alpha, show_graph=show_graph, debug=True, print_metrics=True, prob=prob)\n",
    "if 'cvar' in algs:\n",
    "    _,_,_ = cvar_compute(0, appendix, experiment_name, rep_type, xlims=[xmin,xmax], alpha=alpha, show_graph=show_graph, debug=True, print_metrics=True)"
   ]
  },
  {
   "cell_type": "code",
   "execution_count": 84,
   "id": "cc81fdcd",
   "metadata": {},
   "outputs": [
    {
     "name": "stdout",
     "output_type": "stream",
     "text": [
      "interval:  (44.9850819612174, 93.30831468390237)\n",
      "variance:  296.0513763289018\n",
      "mean:  71.09415395125765\n"
     ]
    }
   ],
   "source": [
    "save_dtmc=True\n",
    "dtmc_arr= np.array([\n",
    "98.63115811815427, 97.63243343592656, 95.97570618703215, 93.30831468390237, 89.1855986951147, 83.21937133712427, 75.29238655614088, 65.72846549285454, 55.29990423970922, 44.9850819612174, 35.4598220524004\n",
    "])\n",
    "\n",
    "dtmc_weights = np.array([\n",
    "0.005048, 0.014201, 0.03344, 0.065909, 0.10874, 0.150177, 0.17362, 0.168025, 0.136123, 0.092313, 0.052404\n",
    "])\n",
    "\n",
    "verify_confidence(dtmc_arr, dtmc_weights, debug=False)\n",
    "\n",
    "if save_dtmc:\n",
    "    # print(headers)\n",
    "    to_file = np.array([dtmc_arr, dtmc_weights])\n",
    "    np.savetxt('tests/experiments/betting_g_gran_low/betting_g_gran_low_distr_dtmc_exp_prob_c51_test.csv', to_file.T, header='r,p', delimiter=',', fmt='%1.6f', comments='')"
   ]
  },
  {
   "attachments": {},
   "cell_type": "markdown",
   "id": "75bef083-5163-4a3d-ae21-3af07818f889",
   "metadata": {
    "tags": []
   },
   "source": [
    "##### Running varying atoms\n",
    "Print the distributional metrics for :\n",
    "\n",
    "* metrics for risk-neutral DVI distributions \n",
    "* metrics for DTMC distributions induced from risk-neutral DVI policies"
   ]
  },
  {
   "cell_type": "code",
   "execution_count": null,
   "id": "3c19c6be",
   "metadata": {},
   "outputs": [],
   "source": [
    "# apdx = ['_1','_10', '_25', '_50', '_75', '_100']\n",
    "apdx = ['_1','_10', '_25', '_50', '_75', '_100','_500', '_1000', '_5000']\n",
    "rep_type = 'c51' # c51 or qr\n",
    "metrics_dtmc = np.zeros([len(apdx), num_metrics])\n",
    "metrics_e = np.zeros([len(apdx), num_metrics])\n",
    "metrics_c = np.zeros([len(apdx), num_metrics])\n",
    "print_metrics=True"
   ]
  },
  {
   "cell_type": "code",
   "execution_count": null,
   "id": "c464771e",
   "metadata": {},
   "outputs": [
    {
     "name": "stdout",
     "output_type": "stream",
     "text": [
      "Risk neutral DVI: E:61.9213833160332, variance:2357.8806198322054, VaR:100.0, CVaR:100.0, threshold:0.6192138331603317\n",
      "Risk neutral DVI: E:61.92138331603321, variance:901.4685169114827, VaR:100.0, CVaR:100.0, threshold:0.837291368050781\n",
      "Risk neutral DVI: E:61.9213833160332, variance:888.7021126906427, VaR:100.0, CVaR:100.0, threshold:0.7964032201054685\n",
      "Risk neutral DVI: E:61.9213833160332, variance:887.0783985970139, VaR:100.0, CVaR:100.0, threshold:0.8008584379179685\n",
      "Risk neutral DVI: E:61.921383316033186, variance:886.9737771025054, VaR:100.0, CVaR:100.0, threshold:0.7995124471562496\n",
      "Risk neutral DVI: E:61.921383316033214, variance:886.7577351539885, VaR:100.0, CVaR:100.0, threshold:0.8006405697539063\n"
     ]
    }
   ],
   "source": [
    "for idx, apd in enumerate(apdx):\n",
    "    if 'c51' in rep_type and idx > 5:\n",
    "        continue\n",
    "    _,_, metrics_e[idx] = exp_compute(idx, apd, experiment_name, rep_type, alpha=alpha, show_graph=False, debug=False, print_metrics=print_metrics)"
   ]
  },
  {
   "cell_type": "code",
   "execution_count": null,
   "id": "d1f68612-6f91-4278-b14f-9c1b69d5aa49",
   "metadata": {},
   "outputs": [
    {
     "name": "stdout",
     "output_type": "stream",
     "text": [
      "DTMC distribution for alg: exp\n",
      "DTMC: E: 61.921383316033214 , variance: 886.7577351539885 , VaR: 100 , CVaR: 100.0 , Threshold: 0.8006405697539061\n",
      "DTMC: E: 61.921383316033214 , variance: 886.7577351539885 , VaR: 100 , CVaR: 100.0 , Threshold: 0.8006405697539061\n",
      "DTMC: E: 61.921383316033214 , variance: 886.7577351539885 , VaR: 100 , CVaR: 100.0 , Threshold: 0.8006405697539061\n",
      "DTMC: E: 61.921383316033214 , variance: 886.7577351539885 , VaR: 100 , CVaR: 100.0 , Threshold: 0.8006405697539061\n",
      "DTMC: E: 61.921383316033214 , variance: 886.7577351539885 , VaR: 100 , CVaR: 100.0 , Threshold: 0.8006405697539061\n",
      "DTMC: E: 61.921383316033214 , variance: 886.7577351539885 , VaR: 100 , CVaR: 100.0 , Threshold: 0.8006405697539061\n"
     ]
    }
   ],
   "source": [
    "alg_type = 'exp'\n",
    "print('DTMC distribution for alg:', alg_type)\n",
    "for idx, apd in enumerate(apdx):\n",
    "    if 'c51' in rep_type and idx > 5:\n",
    "        continue\n",
    "    _,_, metrics_dtmc[idx],_ = dtmc_compute(idx, apd, experiment_name, rep_type, alpha=alpha, show_graph=False, debug=False, print_metrics=print_metrics)"
   ]
  },
  {
   "attachments": {},
   "cell_type": "markdown",
   "id": "cdd87f9b",
   "metadata": {},
   "source": [
    "##### Running varying slack variable atoms\n",
    "Print the distributional metrics for :\n",
    "\n",
    "* metrics for risk-sensitive DVI distributions \n",
    "* metrics for DTMC distributions induced from risk-sensitive DVI policies"
   ]
  },
  {
   "cell_type": "code",
   "execution_count": null,
   "id": "0fc47f80-bae2-4d39-bfe1-6d7fdd027f32",
   "metadata": {},
   "outputs": [
    {
     "name": "stdout",
     "output_type": "stream",
     "text": [
      "Risk sensitive DVI: E:61.92138331603321, variance:886.7577351539885, VaR:100.0, CVaR:100.0, threshold:0.8006405697539063\n",
      "Risk sensitive DVI: E:87.79384944140624, variance:32.959813345628994, VaR:90.0, CVaR:94.6789744140625, threshold:0.9999999999999998\n",
      "Risk sensitive DVI: E:85.28002082495115, variance:55.90611713666594, VaR:90.0, CVaR:96.21042062988282, threshold:0.9999999999999999\n",
      "Risk sensitive DVI: E:85.28002082495115, variance:55.90611713666594, VaR:90.0, CVaR:96.21042062988282, threshold:0.9999999999999999\n",
      "Risk sensitive DVI: E:85.28002082495115, variance:55.90611713666594, VaR:90.0, CVaR:96.21042062988282, threshold:0.9999999999999999\n",
      "Risk sensitive DVI: E:85.28002082495115, variance:55.90611713666594, VaR:90.0, CVaR:96.21042062988282, threshold:0.9999999999999999\n"
     ]
    }
   ],
   "source": [
    "if 'c51' in rep_type:\n",
    "    apdx =['_0', '_10', '_25', '_50', '_75', '_100']\n",
    "for idx, apd in enumerate(apdx):\n",
    "    if idx > 5:\n",
    "        continue\n",
    "    _,_, metrics_c[idx] = cvar_compute(idx, apd, experiment_name, rep_type, alpha=alpha, show_graph=False, debug=False, print_metrics=print_metrics)"
   ]
  },
  {
   "cell_type": "code",
   "execution_count": null,
   "id": "c9d835f0-e1c3-4395-b6ae-970488c8c46c",
   "metadata": {},
   "outputs": [
    {
     "name": "stdout",
     "output_type": "stream",
     "text": [
      "DTMC distribution for alg: cvar\n",
      "DTMC: E: 61.921383316033214 , variance: 886.7577351539885 , VaR: 100 , CVaR: 100.0 , Threshold: 0.8006405697539061\n",
      "DTMC: E: 87.79384944140625 , variance: 32.95981334562899 , VaR: 90 , CVaR: 94.6789744140625 , Threshold: 0.9999999999999998\n",
      "DTMC: E: 85.28002082495117 , variance: 55.906117136665934 , VaR: 90 , CVaR: 96.2104206298828 , Threshold: 0.9999999999999998\n",
      "DTMC: E: 85.28002082495117 , variance: 55.906117136665934 , VaR: 90 , CVaR: 96.21042062988282 , Threshold: 0.9999999999999998\n",
      "DTMC: E: 85.28002082495117 , variance: 55.906117136665934 , VaR: 90 , CVaR: 96.21042062988282 , Threshold: 0.9999999999999998\n",
      "DTMC: E: 85.28002082495115 , variance: 55.90611713666593 , VaR: 90 , CVaR: 96.21042062988282 , Threshold: 0.9999999999999999\n"
     ]
    }
   ],
   "source": [
    "alg_type = 'cvar'\n",
    "print('DTMC distribution for alg:', alg_type)\n",
    "for idx, apd in enumerate(apdx):\n",
    "    if 'c51' in rep_type and idx > 5:\n",
    "        continue\n",
    "    _,_, metrics_dtmc[idx],_ = dtmc_compute(idx, apd, experiment_name, rep_type, alpha=alpha, show_graph=False, debug=False, print_metrics=print_metrics)"
   ]
  },
  {
   "attachments": {},
   "cell_type": "markdown",
   "id": "820b3be6-b114-430a-bccb-72384990a888",
   "metadata": {},
   "source": [
    "##### Distributional distance between DTMC and DVI distributions\n",
    "\n",
    "This goes through the experiment which varies the distributional approximation for either risk neutral ('exp') or risk-sensitive DVI ('cvar').\n",
    "\n",
    "* `l2` : denotes the Cramer distributional distance\n",
    "* `w1`: denotes 1-Wasserstein distributional distance\n"
   ]
  },
  {
   "cell_type": "code",
   "execution_count": null,
   "id": "78593995",
   "metadata": {},
   "outputs": [
    {
     "name": "stdout",
     "output_type": "stream",
     "text": [
      "c51\n",
      "Number of atoms: ['_1', '_10', '_25', '_50', '_75', '_100']\n",
      "----- l2-----\n",
      "2.621336724135326\n",
      "0.3372088602433126\n",
      "0.15348469666713258\n",
      "0.062001369828988254\n",
      "0.08430257655691833\n",
      "1.7333351416399796e-16\n",
      "qr\n",
      "Number of atoms: ['_1', '_10', '_25', '_50', '_75', '_100', '_500', '_1000', '_5000']\n",
      "----- l2-----\n",
      "3.735708915046805\n",
      "0.8458606925217265\n",
      "0.26592291472234386\n",
      "0.11258396052321046\n",
      "0.058187075519962404\n",
      "0.060143485367470335\n",
      "0.009836035167883679\n",
      "0.006045974782232942\n",
      "0.0009023606658701151\n"
     ]
    }
   ],
   "source": [
    "\n",
    "apdx = ['_1','_10', '_25', '_50', '_75', '_100','_500', '_1000', '_5000']\n",
    "\n",
    "alg_type = 'exp' # Set to 'exp' or 'cvar'\n",
    "rep_types = [ 'c51', 'qr'] # c51 or qr\n",
    "experiment_name='betting_g'\n",
    "\n",
    "metrics_dtmc = np.zeros([len(apdx), num_metrics])\n",
    "metrics_e = np.zeros([len(apdx), num_metrics])\n",
    "metrics_c = np.zeros([len(apdx), num_metrics])\n",
    "print_metrics=True\n",
    "\n",
    "distance = np.zeros([len(apdx)])\n",
    "distance2 =np.zeros([len(apdx)])\n",
    "\n",
    "if 'cvar' in alg_type:\n",
    "    apdx = [el+'_va' for el in apdx]\n",
    "\n",
    "for rep_type in rep_types:\n",
    "    print(rep_type)\n",
    "    if 'c51' in rep_type:\n",
    "        print('Number of atoms:', apdx[:6])\n",
    "        print('----- l2-----')\n",
    "    elif 'qr' in rep_type:\n",
    "        print('Number of atoms:',apdx)\n",
    "        print('----- l2-----')\n",
    "\n",
    "    for idx, apd in enumerate(apdx):\n",
    "        \n",
    "        if 'c51' in rep_type and idx > 5:\n",
    "            continue\n",
    "        rx, rp, metrics_dtmc[idx],_ = dtmc_compute(idx,  apd, experiment_name, rep_type, alpha=alpha, show_graph=False, debug=False)\n",
    "\n",
    "        if 'exp' in alg_type:\n",
    "            rx_v, rp_v, metrics_e[idx] = exp_compute(idx, apd, experiment_name, rep_type, alpha=alpha, show_graph=False, debug=False)\n",
    "        else:\n",
    "            rx_v, rp_v, metrics_c[idx] = cvar_compute(idx, apd, experiment_name, rep_type, alpha=alpha, show_graph=False, debug=False)\n",
    "\n",
    "        if 'c51' in rep_type:\n",
    "            distance[idx] = l2(rx, rx_v, rp, rp_v, debug=False)\n",
    "\n",
    "        elif 'qr' in rep_type:\n",
    "            distance2[idx] = scipy.stats.wasserstein_distance(rx, rx_v, rp, rp_v)\n",
    "            distance[idx] = l2(rx, rx_v, rp, rp_v, debug=False)\n",
    "            \n",
    "        print(distance[idx])\n",
    "    \n",
    "    # Uncomment to print wasserstein p=1 distance for Quantile representation\n",
    "    # if 'qr' in rep_type:\n",
    "    #     print('----- w1-----')\n",
    "    #     for idx in range(len(apdx)):\n",
    "    #         print(distance2[idx])"
   ]
  },
  {
   "attachments": {},
   "cell_type": "markdown",
   "id": "67802c6a-4e7f-440c-9b82-1456b4481046",
   "metadata": {},
   "source": [
    "#### Example figure"
   ]
  },
  {
   "cell_type": "code",
   "execution_count": null,
   "id": "6ef54ceb",
   "metadata": {},
   "outputs": [],
   "source": [
    "# Convert a generic distribution to a categorical distribution\n",
    "def get_support(arr_p, rx, rz, debug=False):\n",
    "    atoms = len(rz)\n",
    "    dtmc_atoms = len(rx)\n",
    "    m = np.zeros([atoms])\n",
    "    b = 0\n",
    "    vmin = rz[0]; vmax= rz[-1]\n",
    "    delta_z = abs(rz[1] - rz[0])\n",
    "    if debug:\n",
    "        print(f\"m:{m}\\n b:{b}, atoms:{atoms}, vmin:{vmin}, vmax:{vmax}, delta_z:{delta_z}\\n rz: {rz}\")\n",
    "        print(arr_p)\n",
    "        print(\"rx: \", rx)\n",
    "    \n",
    "    assert delta_z >0 and atoms >0 or dtmc_atoms >0\n",
    "\n",
    "    for j in range(dtmc_atoms):\n",
    "        temp = max(vmin, min(vmax, rx[j]))\n",
    "        b = (temp - vmin) / delta_z\n",
    "        l= int(math.floor(b)); u= int(math.ceil(b));\n",
    "    \n",
    "        if ( l- u != 0):\n",
    "                m[l] += arr_p[j] * (u -b);\n",
    "                m[u] += arr_p[j] * (b-l);\n",
    "        else:\n",
    "                m[l] += arr_p[j];\n",
    "    \n",
    "    return m\n",
    "\n",
    "def plot_distr(rx_c, rp_c, z_c, apdx, experiment_name, rep_type, show_graph=True, debug=True, print_metrics=False, elements=False, figure=None, smooth =False, alpha=0.7, save_graphs=False):\n",
    "    n = np.max(np.where(rp_c > 1e-6))\n",
    "    rx_c = rx_c[0:n+1]\n",
    "    rp_c = rp_c[0:n+1]\n",
    "    z_c = z_c[0:n+1]\n",
    "    if debug:\n",
    "        print(n)\n",
    "        print(np.sum(rp_c), np.allclose(np.sum(rp_c), 1))\n",
    "        print(\"max p:\", np.max(rp_c))\n",
    "    \n",
    "    if show_graph:\n",
    "        distr_c = scipy.stats.rv_discrete(values=(z_c, rp_c))\n",
    "        # h = plt.bar(rx_c, rp_c, alpha=0.5)\n",
    "        fig=plt.figure(figsize=fig_size)\n",
    "            \n",
    "        if not elements:\n",
    "            h = plt.bar(z_c, rp_c, alpha=0.5, color='g', label='PDF')\n",
    "        else:\n",
    "            h = plt.bar(z_c, rp_c, alpha=0.8, width=0.3, color='g')\n",
    "            plt.plot(z_c, rp_c, 'go')\n",
    "            if not smooth:\n",
    "                plt.bar(figure[0], figure[1].pmf(figure[0]), width=0.98, color='k', alpha=0.3, linewidth=0,label='PDF')\n",
    "            else:\n",
    "                # 30`0 represents number of points to make between T.min and T.max\n",
    "                xnew = np.linspace(6, figure[0].max(), 300) \n",
    "\n",
    "                spl = make_interp_spline(figure[0], figure[1].pmf(figure[0]), k=3)  # type: BSpline\n",
    "                power_smooth = spl(xnew)\n",
    "\n",
    "                plt.plot(xnew, power_smooth, color='k', alpha=0.5, label='Smoothed PDF')\n",
    "                plt.fill_between(xnew, power_smooth, 0, color='gray', alpha=.3)\n",
    "        kernel = scipy.stats.gaussian_kde(z_c, weights=rp_c)\n",
    "        if 'qr' in rep_type:\n",
    "            range = z_c\n",
    "        else:\n",
    "            range = np.arange(0, z_c[-1]+z_c[1], z_c[1]) \n",
    "        \n",
    "        if not elements:\n",
    "            plt.plot(range, kernel(range), color='g', label='Smoothed PDF')\n",
    "        plt.xlim([xmin,xmax])\n",
    "        plt.ylim([0,ymax])\n",
    "\n",
    "        if not elements:\n",
    "            plt.legend(loc='upper right', fontsize=graphsize-10)\n",
    "        plt.tick_params(axis='both', which='major', labelsize=graphsize-15)\n",
    "        plt.ticklabel_format(axis='both')\n",
    "        plt.xlabel('Value', fontsize=graphsize-10)\n",
    "        plt.ylabel('Probability', fontsize=graphsize-10)\n",
    "        # plt.grid(b=True, which='major', color='#666666', linestyle='-', linewidth=0.25)\n",
    "        plt.tight_layout()\n",
    "        plt.show()\n",
    "        # plt.fill_between(range, kernel(range))\n",
    "\n",
    "        if save_graphs:\n",
    "            if not smooth:\n",
    "                print('Saving to:'+file_path+experiment_name+'/'+experiment_name+'_distr_cvar_fake_'+rep_type+apdx+\".png\")\n",
    "                fig.savefig(file_path+experiment_name+'/'+experiment_name+'_distr_cvar_fake_'+rep_type+apdx+\".png\", transparent=True, dpi=400)\n",
    "            else:\n",
    "                print('Saving to:'+file_path+experiment_name+'/'+experiment_name+'_distr_cvar_fake_'+rep_type+apdx+'_smooth'+\".png\")\n",
    "                fig.savefig(file_path+experiment_name+'/'+experiment_name+'_distr_cvar_fake_'+rep_type+apdx+'_smooth'+\".png\", transparent=True, dpi=400)\n",
    "\n",
    "    var_cvar = VaR(z_c, rp_c, alpha)\n",
    "    if debug or print_metrics:\n",
    "        print(f\"E:{weighted_mean(z_c, rp_c)}, variance:{variance(z_c, rp_c)}, VaR:{var_cvar}, CVaR:{CVaR(z_c, rp_c, var_cvar, alpha)}, threshold:{prob_threshold(z_c, rp_c, thresh)}\")\n",
    "    return z_c, rp_c, np.array([weighted_mean(z_c, rp_c), variance(z_c, rp_c), var_cvar, CVaR(z_c, rp_c, var_cvar, alpha), prob_threshold(z_c, rp_c, thresh)])"
   ]
  },
  {
   "cell_type": "code",
   "execution_count": null,
   "id": "9f49eaf2",
   "metadata": {},
   "outputs": [
    {
     "name": "stdout",
     "output_type": "stream",
     "text": [
      "---DTMC---\n"
     ]
    },
    {
     "data": {
      "image/png": "[encoded data removed]",
      "text/plain": [
       "<Figure size 504x288 with 1 Axes>"
      ]
     },
     "metadata": {
      "needs_background": "light"
     },
     "output_type": "display_data"
    },
    {
     "name": "stdout",
     "output_type": "stream",
     "text": [
      "DTMC for cvar  E: 9.990613323385194 , variance: 6.331485249234092 , VaR: 14 , CVaR: 15.664663815478857 , Threshold: 6.024641900436632e-05\n",
      "---DVI---\n"
     ]
    },
    {
     "data": {
      "image/png": "[encoded data removed]",
      "text/plain": [
       "<Figure size 504x288 with 1 Axes>"
      ]
     },
     "metadata": {
      "needs_background": "light"
     },
     "output_type": "display_data"
    },
    {
     "name": "stdout",
     "output_type": "stream",
     "text": [
      "Risk sensitive DVI: E:9.8, variance:3.96, VaR:12.0, CVaR:14.0, threshold:0\n"
     ]
    },
    {
     "data": {
      "image/png": "[encoded data removed]",
      "text/plain": [
       "<Figure size 504x288 with 1 Axes>"
      ]
     },
     "metadata": {
      "needs_background": "light"
     },
     "output_type": "display_data"
    },
    {
     "name": "stdout",
     "output_type": "stream",
     "text": [
      "E:9.989478979408885, variance:7.418605023072939, VaR:12.5, CVaR:15.923790024181617, threshold:0\n"
     ]
    }
   ],
   "source": [
    "\n",
    "xmax = 25\n",
    "ymax = 0.5\n",
    "algs=['cvar'] #['vi', 'exp', 'cvar']\n",
    "smoothed= True\n",
    "graphsize = 42\n",
    "alpha=0.9\n",
    "fig_size= (7,4)\n",
    "\n",
    "print('---DTMC---')\n",
    "for idx, alg_type in enumerate(algs):\n",
    "    rx,rp,_,dist = dtmc_compute(idx, '_ex_fig_2', 'test', 'c51', alpha=alpha, show_graph=True, debug=False, print_metrics=True, shaded=True, y_padding=0.28)\n",
    "\n",
    "print('---DVI---')\n",
    "if 'exp' in algs:\n",
    "    _,_,_ = exp_compute(idx, '_ex_fig_2', 'test', 'c51', alpha=alpha, show_graph=True, debug=False, print_metrics=True, elements=True, figure=(rx, dist), smooth=smoothed)\n",
    "    _,_,_ = exp_compute(idx, '_ex_fig_2', 'test', 'qr', alpha=alpha, show_graph=True, debug=False, print_metrics=True, elements=True, figure=(rx, dist), smooth=smoothed)\n",
    "else:\n",
    "    rz,_,_ = cvar_compute(idx, '_ex_fig_2', 'test', 'c51', alpha=alpha, show_graph=False, debug=False, print_metrics=False, elements=True, figure=(rx, dist), smooth=smoothed)\n",
    "    _,_,_ = cvar_compute(idx, '_ex_fig_2', 'test', 'qr', alpha=alpha, show_graph=True, debug=False, print_metrics=True, elements=True, figure=(rx, dist), smooth=smoothed)\n",
    "\n",
    "m = get_support(rp, rx, rz)\n",
    "\n",
    "_,_,_ = plot_distr(rx, m, rz, '_ex_fig_2', 'test', 'c51', alpha=alpha, show_graph=True, debug=False, print_metrics=True, elements=True, figure=(rx, dist), smooth=smoothed)\n",
    "\n"
   ]
  }
 ],
 "metadata": {
  "kernelspec": {
   "display_name": "csrl",
   "language": "python",
   "name": "python3"
  },
  "language_info": {
   "codemirror_mode": {
    "name": "ipython",
    "version": 3
   },
   "file_extension": ".py",
   "mimetype": "text/x-python",
   "name": "python",
   "nbconvert_exporter": "python",
   "pygments_lexer": "ipython3",
   "version": "3.6.9"
  },
  "vscode": {
   "interpreter": {
    "hash": "5e160a39e271948802cc6e745d42798fa7efe14b9daa949269369d2b8f7590eb"
   }
  }
 },
 "nbformat": 4,
 "nbformat_minor": 5
}
