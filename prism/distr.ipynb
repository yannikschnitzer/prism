{
 "cells": [
  {
   "cell_type": "code",
   "execution_count": 1,
   "id": "d0ffc76b",
   "metadata": {},
   "outputs": [],
   "source": [
    "import pandas as pd\n",
    "import matplotlib.pyplot as plt\n",
    "import matplotlib\n",
    "# import seaborn as sns\n",
    "import numpy as np\n",
    "# import torch\n",
    "# import torch.distributions.categorical\n",
    "import scipy\n",
    "import scipy.stats\n",
    "import math\n"
   ]
  },
  {
   "cell_type": "code",
   "execution_count": 2,
   "id": "327dc4c4-e319-49ff-a212-28f9654165f9",
   "metadata": {
    "tags": []
   },
   "outputs": [],
   "source": [
    "def adjust_qr(rx, rp, rz):\n",
    "    \n",
    "    rz_new, rp_new = np.unique(rx, return_counts=True)\n",
    "    rp_new = rp_new * rp[0]\n",
    "    #rz_new= np.arange(0, len(rp_new), 1)\n",
    "    \n",
    "    return rx, rp_new, rz_new"
   ]
  },
  {
   "cell_type": "code",
   "execution_count": 3,
   "id": "e716ee25-8ff4-46ed-9919-bf7b52d0774b",
   "metadata": {
    "tags": []
   },
   "outputs": [],
   "source": [
    "def VaR(z, p, lim):\n",
    "    var = 0\n",
    "    cum_p = 0\n",
    "    for j, atom in enumerate(p):\n",
    "        cum_p += atom\n",
    "        if cum_p>= lim:\n",
    "            var = z[j]\n",
    "            break\n",
    "    return var\n",
    "\n",
    "def CVaR (z, p, var, lim):\n",
    "    cvar = var\n",
    "    expected_c = 0 \n",
    "    for i, j in enumerate(p):\n",
    "        if p[i] > 0:\n",
    "            expected_c += j * max(0, z[i]-var)\n",
    "    cvar+= 1/(1- alpha) * expected_c\n",
    "    return cvar\n",
    "\n",
    "def variance(z, p):\n",
    "    average = np.average(z, weights=p)\n",
    "    variance = np.average((z-average)**2, weights=p)\n",
    "    return variance\n",
    "\n",
    "def weighted_mean(z,p):\n",
    "    return np.average(z, weights=p)\n",
    "\n",
    "def prob_threshold(z, p, thresh):\n",
    "    cum_p = 0\n",
    "    for j, atom in enumerate(p):        \n",
    "        if z[j]>= thresh:\n",
    "            cum_p += atom\n",
    "            \n",
    "    return cum_p"
   ]
  },
  {
   "cell_type": "code",
   "execution_count": 82,
   "id": "6dd78d4e-9fdc-47c9-99f2-7ff041e32760",
   "metadata": {},
   "outputs": [],
   "source": [
    "def l2 (u_values, v_values, u_weights=None, v_weights=None, debug=False):\n",
    "    u_values = np.asarray(u_values, dtype=float)\n",
    "    v_values = np.asarray(v_values, dtype=float)\n",
    "    u_weights = np.asarray(u_weights, dtype=float)\n",
    "    v_weights = np.asarray(v_weights, dtype=float)\n",
    "    \n",
    "    u_sorter = np.argsort(u_values)\n",
    "    v_sorter = np.argsort(v_values)\n",
    "\n",
    "    all_values = np.concatenate((u_values, v_values))\n",
    "    all_values.sort(kind='mergesort')\n",
    "\n",
    "    # Compute the differences between pairs of successive values of u and v.\n",
    "    deltas = np.diff(all_values)\n",
    "\n",
    "    # Get the respective positions of the values of u and v among the values of\n",
    "    # both distributions.\n",
    "    u_cdf_indices = u_values[u_sorter].searchsorted(all_values[:-1], 'right')\n",
    "    v_cdf_indices = v_values[v_sorter].searchsorted(all_values[:-1], 'right')\n",
    "\n",
    "    # Calculate the CDFs of u and v using their weights\n",
    "    u_sorted_cumweights = np.concatenate(([0],np.cumsum(u_weights[u_sorter])))\n",
    "    u_cdf = u_sorted_cumweights[u_cdf_indices] / u_sorted_cumweights[-1]\n",
    "\n",
    "    v_sorted_cumweights = np.concatenate(([0],np.cumsum(v_weights[v_sorter])))\n",
    "    v_cdf = v_sorted_cumweights[v_cdf_indices] / v_sorted_cumweights[-1]\n",
    "    \n",
    "    if debug:\n",
    "        print(\"delta\", deltas)\n",
    "        print(\"cdf u:\", u_cdf)\n",
    "        print(\"cdf v:\", v_cdf)\n",
    "        print(\"square cdf u - cdf v\", np.square(u_cdf - v_cdf))\n",
    "        print(\"square diff * delta\", np.multiply(np.square(u_cdf - v_cdf), deltas))\n",
    "        print(\"sum( (square diff) *delta))\", np.sum(np.multiply(np.square(u_cdf - v_cdf), deltas)))\n",
    "    return np.sqrt(np.sum(np.multiply(np.square(u_cdf - v_cdf), deltas)))\n"
   ]
  },
  {
   "cell_type": "code",
   "execution_count": 71,
   "id": "6fcd4ebd-e483-46e4-a9b3-790690d309d1",
   "metadata": {},
   "outputs": [],
   "source": [
    "alpha=0.7\n",
    "thresh=40\n",
    "xmax = 100\n",
    "xmin=0\n",
    "ymax=0.3\n",
    "fig_size= (12,8)"
   ]
  },
  {
   "cell_type": "code",
   "execution_count": 111,
   "id": "c91826d3-36bc-41ef-a9bb-7ee2c79cb947",
   "metadata": {},
   "outputs": [],
   "source": [
    "# Graph Formating\n",
    "matplotlib.rcParams.update({\n",
    "    'font.family': 'serif',\n",
    "    'text.usetex': True\n",
    "})\n",
    "graphsize = 35\n",
    "file_path = 'tests/experiments/'\n",
    "experiment_name='mud_nails'\n",
    "apdx =  ['_10', '_25', '_50', '_75', '_100'] # [''] # ['_10', '_25', '_50', '_75', '_100','_500', '_1000', '_5000']\n",
    "alg_type = 'exp' # Used only for the DTMC graph\n",
    "rep_type = 'qr'\n",
    "save_graphs = False\n",
    "num_metrics = 5 # exp val, variance, var, cvar, prob>thresh, "
   ]
  },
  {
   "cell_type": "code",
   "execution_count": 112,
   "id": "fce06154-e319-4e02-957c-95cf53e74706",
   "metadata": {},
   "outputs": [],
   "source": [
    "metrics_dtmc = np.zeros([len(apdx), num_metrics])\n",
    "metrics_e = np.zeros([len(apdx), num_metrics])\n",
    "metrics_c = np.zeros([len(apdx), num_metrics])"
   ]
  },
  {
   "cell_type": "markdown",
   "id": "75bef083-5163-4a3d-ae21-3af07818f889",
   "metadata": {
    "tags": []
   },
   "source": [
    "##### Running varying atoms."
   ]
  },
  {
   "cell_type": "code",
   "execution_count": 97,
   "id": "e331e8d6-6b7f-401e-b2c4-4d9263f9be4f",
   "metadata": {},
   "outputs": [],
   "source": [
    "for idx, apd in enumerate(apdx):\n",
    "    _,_, metrics_dtmc[idx] = dtmc_compute(idx, apd, show_graph=False, debug=False)"
   ]
  },
  {
   "cell_type": "code",
   "execution_count": 98,
   "id": "1a5a61e0-5550-4151-b496-5cbac6321173",
   "metadata": {},
   "outputs": [],
   "source": [
    "for idx, apd in enumerate(apdx):\n",
    "    _,_, metrics_e[idx] =exp_compute(idx, apd, show_graph=False, debug=False)"
   ]
  },
  {
   "cell_type": "code",
   "execution_count": 99,
   "id": "0fc47f80-bae2-4d39-bfe1-6d7fdd027f32",
   "metadata": {},
   "outputs": [
    {
     "name": "stdout",
     "output_type": "stream",
     "text": [
      "Reading file: tests/experiments/mud_nails/mud_nails_distr_cvar_c51_10.csv\n",
      "Reading file: tests/experiments/mud_nails/mud_nails_distr_cvar_c51_25.csv\n",
      "Reading file: tests/experiments/mud_nails/mud_nails_distr_cvar_c51_50.csv\n",
      "Reading file: tests/experiments/mud_nails/mud_nails_distr_cvar_c51_75.csv\n",
      "Reading file: tests/experiments/mud_nails/mud_nails_distr_cvar_c51_100.csv\n"
     ]
    }
   ],
   "source": [
    "for idx, apd in enumerate(apdx):\n",
    "    _,_, metrics_c[idx] = cvar_compute(idx, apd, show_graph=False, debug=False)"
   ]
  },
  {
   "cell_type": "markdown",
   "id": "820b3be6-b114-430a-bccb-72384990a888",
   "metadata": {},
   "source": [
    "##### DTMC vs Dist VI metrics"
   ]
  },
  {
   "cell_type": "code",
   "execution_count": 113,
   "id": "34c4d30b-aea6-4113-af2c-424c40c66a9c",
   "metadata": {},
   "outputs": [],
   "source": [
    "distance = np.zeros([len(apdx)])\n",
    "\n",
    "for idx, apd in enumerate(apdx):\n",
    "    rx, rp, metrics_dtmc[idx] = dtmc_compute(idx,  apd, show_graph=False, debug=False)\n",
    "    \n",
    "    if 'exp' in alg_type:\n",
    "        rx_v, rp_v, metrics_e[idx] = exp_compute(idx, apd, show_graph=False, debug=False)\n",
    "    else:\n",
    "        rx_v, rp_v, metrics_c[idx] = cvar_compute(idx, apd, show_graph=False, debug=False)\n",
    "        \n",
    "    if 'c51' in rep_type:\n",
    "        distance[idx] = l2(rx, rx_v, rp, rp_v, debug=False)\n",
    "        \n",
    "    elif 'qr' in rep_type:\n",
    "        distance[idx] = scipy.stats.wasserstein_distance(rx, rx_v, rp, rp_v)"
   ]
  },
  {
   "cell_type": "code",
   "execution_count": 114,
   "id": "95a70dd3-0eb6-4528-bb9d-dae01840e3f7",
   "metadata": {},
   "outputs": [
    {
     "data": {
      "text/plain": [
       "array([2.52137285, 1.45146309, 0.41475579, 0.32884378, 0.49834999])"
      ]
     },
     "execution_count": 114,
     "metadata": {},
     "output_type": "execute_result"
    }
   ],
   "source": [
    "distance"
   ]
  },
  {
   "cell_type": "markdown",
   "id": "ed53a987-d958-4c52-b7c1-db66dd775e6f",
   "metadata": {},
   "source": [
    "## Graphs"
   ]
  },
  {
   "cell_type": "markdown",
   "id": "0b6d64e1-b853-4bcf-8da5-1892e5d985ef",
   "metadata": {
    "tags": []
   },
   "source": [
    "##### DTMC"
   ]
  },
  {
   "cell_type": "code",
   "execution_count": 86,
   "id": "e92ed46b",
   "metadata": {
    "tags": []
   },
   "outputs": [],
   "source": [
    "def dtmc_compute(idx, apdx, show_graph=True, debug=True):\n",
    "    if debug:\n",
    "        print('Reading file: '+file_path+experiment_name+'/'+experiment_name+'_distr_dtmc_'+alg_type+'_'+rep_type+apdx+'.csv')\n",
    "    dist = pd.read_csv(file_path+experiment_name+'/'+experiment_name+'_distr_dtmc_'+alg_type+'_'+rep_type+apdx+'.csv')\n",
    "    #dist.head(10)\n",
    "    rx = dist['r'].to_numpy()\n",
    "    rp = dist['p'].to_numpy()\n",
    "    n = np.max(np.where(rp > 1e-20))\n",
    "    rx = rx[0:n+1]\n",
    "    rp = rp[0:n+1]\n",
    "    # z = z[0:n+1]\n",
    "    if debug:\n",
    "        print(n)\n",
    "        print(np.sum(rp), np.allclose(np.sum(rp), 1))\n",
    "        print(\"max p:\", np.max(rp))\n",
    "    if show_graph:\n",
    "        distr = scipy.stats.rv_discrete(values=(rx, rp))\n",
    "        # h = plt.bar(rx, rp, alpha=0.5)\n",
    "        fig = plt.figure(figsize=fig_size)\n",
    "        h = plt.bar(rx, distr.pmf(rx), alpha=0.5, label='PDF')\n",
    "        kernel = scipy.stats.gaussian_kde(rx, weights=rp)\n",
    "        range = np.arange(0, n, 0.1)\n",
    "        plt.plot(range, kernel(range), label='Smoothed PDF')\n",
    "        plt.xlim([xmin,xmax])\n",
    "        plt.ylim([0,ymax])\n",
    "\n",
    "        plt.legend(loc='upper right', fontsize=graphsize-10)\n",
    "        plt.tick_params(axis='both', which='major', labelsize=graphsize-10)\n",
    "        plt.ticklabel_format(axis='both')\n",
    "        plt.xlabel('Cost', fontsize=graphsize)\n",
    "        plt.ylabel('Probability', fontsize=graphsize)\n",
    "        plt.grid(b=True, which='major', color='#666666', linestyle='-', linewidth=0.25)\n",
    "        plt.tight_layout()\n",
    "\n",
    "        plt.show()\n",
    "    # plt.fill_between(range, kernel(range))\n",
    "\n",
    "    if save_graphs:\n",
    "        print('Saving to:'+file_path+experiment_name+'/'+experiment_name+'_distr_dtmc_'+alg_type+'_'+rep_type+apdx+\".png\")\n",
    "        fig.savefig(file_path+experiment_name+'/'+experiment_name+'_distr_dtmc_'+alg_type+'_'+rep_type+apdx+\".png\", transparent=True, dpi=400)\n",
    "\n",
    "\n",
    "    var_dtmc = VaR(rx, rp, alpha)\n",
    "    if debug:\n",
    "        print(weighted_mean(rx, rp),\",\",variance(rx, rp),\",\",var_dtmc,\",\", CVaR(rx, rp, var_dtmc, alpha),\",\",prob_threshold(rx, rp, thresh))\n",
    "    return rx,rp, np.array([weighted_mean(rx, rp), variance(rx, rp), var_dtmc, CVaR(rx, rp, var_dtmc, alpha), prob_threshold(rx, rp, thresh)])"
   ]
  },
  {
   "cell_type": "code",
   "execution_count": 410,
   "id": "47b7278b-4af9-4089-ba57-3e8511647ba9",
   "metadata": {
    "collapsed": true,
    "jupyter": {
     "outputs_hidden": true,
     "source_hidden": true
    },
    "tags": []
   },
   "outputs": [
    {
     "name": "stdout",
     "output_type": "stream",
     "text": [
      "Mean : 26.553140613234625\n",
      "Variance : 521.2651520246777\n",
      "Value at Risk for 0.7 : 23\n",
      "Conditional VaR for 0.7 : (53.042616636617915,)\n",
      "Prob cost > 50 : 0.1588064696540885\n",
      "26.553140613234625 , 521.2651520246777 , 23 , 53.042616636617915 , 0.1588064696540885\n"
     ]
    }
   ],
   "source": [
    "print(f\"Mean : {weighted_mean(rx, rp)}\")\n",
    "print(f\"Variance : {variance(rx, rp)}\")\n",
    "var_dtmc = VaR(rx, rp, alpha) \n",
    "print(f\"Value at Risk for {alpha} : {var_dtmc}\")\n",
    "print(f\"Conditional VaR for {alpha} : {CVaR(rx, rp, var_dtmc, alpha),}\")\n",
    "print(f\"Prob cost > {thresh} : {prob_threshold(rx, rp, thresh)}\")\n",
    "print(weighted_mean(rx, rp),\",\",variance(rx, rp),\",\",var_dtmc,\",\", CVaR(rx, rp, var_dtmc, alpha),\",\",prob_threshold(rx, rp, thresh))"
   ]
  },
  {
   "cell_type": "markdown",
   "id": "4391a4b9-7cde-47d7-a90c-f5366a3c352a",
   "metadata": {
    "tags": []
   },
   "source": [
    "##### Expected Value Iteration"
   ]
  },
  {
   "cell_type": "code",
   "execution_count": 85,
   "id": "23fab2da-a53b-45a1-b0b8-5a0a435bcf44",
   "metadata": {
    "tags": []
   },
   "outputs": [],
   "source": [
    "def exp_compute(idx, apdx, show_graph=True, debug=True):\n",
    "    if debug:\n",
    "        print('Reading file: '+file_path+experiment_name+'/'+experiment_name+'_distr_exp_'+rep_type+apdx+'.csv')\n",
    "    dist = pd.read_csv(file_path+experiment_name+'/'+experiment_name+'_distr_exp_'+rep_type+apdx+'.csv')\n",
    "    #dist.head(10)\n",
    "    rx_e = dist['r'].to_numpy()\n",
    "    rp_e = dist['p'].to_numpy()\n",
    "    z_e = dist['z'].to_numpy()\n",
    "    if 'qr' in rep_type:\n",
    "        if debug:\n",
    "            print('converting distribution from qr')\n",
    "        rx_e, rp_e, z_e = adjust_qr(rx_e, rp_e, z_e)\n",
    "        # print(len(rx_e), rx_e)\n",
    "        # print(len(rp_e), rp_e)\n",
    "        # print(len(z_e), z_e)\n",
    "\n",
    "    n = np.max(np.where(rp_e > 1e-8))\n",
    "    rx_e = rx_e[0:n+1]\n",
    "    rp_e = rp_e[0:n+1]\n",
    "    z_e = z_e[0:n+1]\n",
    "    \n",
    "    if debug:\n",
    "        print(len(dist.index))\n",
    "        print(np.sum(rp_e), np.allclose(np.sum(rp_e), 1))\n",
    "        print(\"max p:\", np.max(rp_e))\n",
    "    \n",
    "    if show_graph:\n",
    "        distr_e = scipy.stats.rv_discrete(values=(z_e, rp_e))\n",
    "        # h = plt.bar(rx_e, rp_e, alpha=0.5)\n",
    "        fig = plt.figure(figsize=fig_size)\n",
    "        h = plt.bar(z_e, rp_e, alpha=0.5, color='g', label='PDF')\n",
    "        kernel = scipy.stats.gaussian_kde(z_e, weights=rp_e)\n",
    "        if 'qr' in rep_type:\n",
    "            range = z_e\n",
    "        else:\n",
    "            range = np.arange(0, z_e[-1]+z_e[1], z_e[1])\n",
    "\n",
    "        plt.plot(range, kernel(z_e), color='g', label='Smoothed PDF')\n",
    "        plt.xlim([xmin,xmax])\n",
    "        plt.ylim([0,ymax])\n",
    "\n",
    "        plt.legend(loc='upper right', fontsize=graphsize-10)\n",
    "        plt.tick_params(axis='both', which='major', labelsize=graphsize-10)\n",
    "        plt.ticklabel_format(axis='both')\n",
    "        plt.xlabel('Cost', fontsize=graphsize)\n",
    "        plt.ylabel('Probability', fontsize=graphsize)\n",
    "        plt.grid(b=True, which='major', color='#666666', linestyle='-', linewidth=0.25)\n",
    "        plt.tight_layout()\n",
    "        plt.show()\n",
    "    # plt.fill_between(range, kernel(range))\n",
    "\n",
    "        if save_graphs:\n",
    "            print('Saving to:'+file_path+experiment_name+'/'+experiment_name+'_distr_exp_'+rep_type+apdx+\".png\")\n",
    "            fig.savefig(file_path+experiment_name+'/'+experiment_name+'_distr_exp_'+rep_type+apdx+\".png\", transparent=True, dpi=400)\n",
    "    \n",
    "    var_exp = VaR(z_e, rp_e, alpha)\n",
    "    if debug:\n",
    "        print(f\"{weighted_mean(z_e, rp_e)},{variance(z_e, rp_e)},{var_exp},{CVaR(z_e, rp_e, var_exp, alpha)},{prob_threshold(z_e, rp_e, thresh)}\")\n",
    "    return z_e, rp_e, np.array([weighted_mean(z_e, rp_e), variance(z_e, rp_e), var_exp, CVaR(z_e, rp_e, var_exp, alpha), prob_threshold(z_e, rp_e, thresh)])"
   ]
  },
  {
   "cell_type": "code",
   "execution_count": 8,
   "id": "e19121cd-40f5-418e-9b9f-a5c174303beb",
   "metadata": {
    "collapsed": true,
    "jupyter": {
     "outputs_hidden": true,
     "source_hidden": true
    },
    "tags": []
   },
   "outputs": [
    {
     "ename": "NameError",
     "evalue": "name 'z_e' is not defined",
     "output_type": "error",
     "traceback": [
      "\u001b[0;31m---------------------------------------------------------------------------\u001b[0m",
      "\u001b[0;31mNameError\u001b[0m                                 Traceback (most recent call last)",
      "\u001b[0;32m<ipython-input-8-cf1ce6fb9c35>\u001b[0m in \u001b[0;36m<module>\u001b[0;34m\u001b[0m\n\u001b[0;32m----> 1\u001b[0;31m \u001b[0mprint\u001b[0m\u001b[0;34m(\u001b[0m\u001b[0;34mf\"Mean : {weighted_mean(z_e, rp_e)}\"\u001b[0m\u001b[0;34m)\u001b[0m\u001b[0;34m\u001b[0m\u001b[0;34m\u001b[0m\u001b[0m\n\u001b[0m\u001b[1;32m      2\u001b[0m \u001b[0mprint\u001b[0m\u001b[0;34m(\u001b[0m\u001b[0;34mf\"Variance : {variance(z_e, rp_e)}\"\u001b[0m\u001b[0;34m)\u001b[0m\u001b[0;34m\u001b[0m\u001b[0;34m\u001b[0m\u001b[0m\n\u001b[1;32m      3\u001b[0m \u001b[0mvar_exp\u001b[0m \u001b[0;34m=\u001b[0m \u001b[0mVaR\u001b[0m\u001b[0;34m(\u001b[0m\u001b[0mz_e\u001b[0m\u001b[0;34m,\u001b[0m \u001b[0mrp_e\u001b[0m\u001b[0;34m,\u001b[0m \u001b[0malpha\u001b[0m\u001b[0;34m)\u001b[0m\u001b[0;34m\u001b[0m\u001b[0;34m\u001b[0m\u001b[0m\n\u001b[1;32m      4\u001b[0m \u001b[0mprint\u001b[0m\u001b[0;34m(\u001b[0m\u001b[0;34mf\"Value at Risk : {var_exp}\"\u001b[0m\u001b[0;34m)\u001b[0m\u001b[0;34m\u001b[0m\u001b[0;34m\u001b[0m\u001b[0m\n\u001b[1;32m      5\u001b[0m \u001b[0mprint\u001b[0m\u001b[0;34m(\u001b[0m\u001b[0;34mf\"Conditional VaR: {CVaR(z_e, rp_e, var_exp, alpha)}\"\u001b[0m\u001b[0;34m)\u001b[0m\u001b[0;34m\u001b[0m\u001b[0;34m\u001b[0m\u001b[0m\n",
      "\u001b[0;31mNameError\u001b[0m: name 'z_e' is not defined"
     ]
    }
   ],
   "source": [
    "print(f\"Mean : {weighted_mean(z_e, rp_e)}\")\n",
    "print(f\"Variance : {variance(z_e, rp_e)}\")\n",
    "var_exp = VaR(z_e, rp_e, alpha) \n",
    "print(f\"Value at Risk : {var_exp}\")\n",
    "print(f\"Conditional VaR: {CVaR(z_e, rp_e, var_exp, alpha)}\")\n",
    "print(f\"Prob cost > {thresh} : {prob_threshold(z_e, rp_e, thresh)}\")\n",
    "print(f\"{weighted_mean(z_e, rp_e)},{variance(z_e, rp_e)},{var_exp},{CVaR(z_e, rp_e, var_exp, alpha)},{prob_threshold(z_e, rp_e, thresh)}\")"
   ]
  },
  {
   "cell_type": "markdown",
   "id": "81e8b98e-aab3-40c2-a5de-b9ea36282168",
   "metadata": {
    "tags": []
   },
   "source": [
    "##### CVaR"
   ]
  },
  {
   "cell_type": "code",
   "execution_count": 106,
   "id": "341c2fb9-1873-4f53-9aa5-d29ec6c2338c",
   "metadata": {},
   "outputs": [],
   "source": [
    "def cvar_compute(idx, apdx, show_graph=True, debug=True):\n",
    "    if debug:\n",
    "        print('Reading file: '+file_path+experiment_name+'/'+experiment_name+'_distr_cvar_'+rep_type+apdx+'.csv')\n",
    "    dist = pd.read_csv(file_path+experiment_name+'/'+experiment_name+'_distr_cvar_'+rep_type+apdx+'.csv')\n",
    "    #dist.head(10)\n",
    "    rx_c = dist['r'].to_numpy()\n",
    "    rp_c = dist['p'].to_numpy()\n",
    "    z_c = dist['z'].to_numpy()\n",
    "    if 'qr' in rep_type:\n",
    "        if debug:\n",
    "            print('converting distribution from qr')\n",
    "        rx_c, rp_c, z_c = adjust_qr(rx_c, rp_c, z_c)\n",
    "    n = np.max(np.where(rp_c > 1e-6))\n",
    "    rx_c = rx_c[0:n+1]\n",
    "    rp_c = rp_c[0:n+1]\n",
    "    z_c = z_c[0:n+1]\n",
    "    if debug:\n",
    "        print(n)\n",
    "        print(np.sum(rp_c), np.allclose(np.sum(rp_c), 1))\n",
    "        print(\"max p:\", np.max(rp_c))\n",
    "    \n",
    "    if show_graph:\n",
    "        distr_c = scipy.stats.rv_discrete(values=(z_c, rp_c))\n",
    "        # h = plt.bar(rx_c, rp_c, alpha=0.5)\n",
    "        fig=plt.figure(figsize=fig_size)\n",
    "        h = plt.bar(z_c, rp_c, alpha=0.5, color='g', label='PDF')\n",
    "        kernel = scipy.stats.gaussian_kde(z_c, weights=rp_c)\n",
    "        if 'qr' in rep_type:\n",
    "            range = z_c\n",
    "        else:\n",
    "            range = np.arange(0, z_c[-1]+z_c[1], z_c[1]) \n",
    "        plt.plot(range, kernel(range), color='g', label='Smoothed PDF')\n",
    "        plt.xlim([xmin,xmax])\n",
    "        plt.ylim([0,ymax])\n",
    "\n",
    "        plt.legend(loc='upper right', fontsize=graphsize-10)\n",
    "        plt.tick_params(axis='both', which='major', labelsize=graphsize-10)\n",
    "        plt.ticklabel_format(axis='both')\n",
    "        plt.xlabel('Cost', fontsize=graphsize)\n",
    "        plt.ylabel('Probability', fontsize=graphsize)\n",
    "        plt.grid(b=True, which='major', color='#666666', linestyle='-', linewidth=0.25)\n",
    "        plt.tight_layout()\n",
    "        plt.show()\n",
    "        # plt.fill_between(range, kernel(range))\n",
    "\n",
    "        if save_graphs:\n",
    "            print('Saving to:'+file_path+experiment_name+'/'+experiment_name+'_distr_cvar_'+rep_type+apdx+\".png\")\n",
    "            fig.savefig(file_path+experiment_name+'/'+experiment_name+'_distr_cvar_'+rep_type+apdx+\".png\", transparent=True, dpi=400)\n",
    "        \n",
    "    var_cvar = VaR(z_c, rp_c, alpha)\n",
    "    if debug:\n",
    "        print(f\"{weighted_mean(z_c, rp_c)},{variance(z_c, rp_c)},{var_cvar},{CVaR(z_c, rp_c, var_cvar, alpha)},{prob_threshold(z_c, rp_c, thresh)}\")\n",
    "    return z_c, rp_c, np.array([weighted_mean(z_c, rp_c), variance(z_c, rp_c), var_cvar, CVaR(z_c, rp_c, var_cvar, alpha), prob_threshold(z_c, rp_c, thresh)])"
   ]
  },
  {
   "cell_type": "code",
   "execution_count": 698,
   "id": "43a23a6a-e3b3-44d6-9439-a339d33882dd",
   "metadata": {
    "collapsed": true,
    "jupyter": {
     "outputs_hidden": true,
     "source_hidden": true
    },
    "tags": []
   },
   "outputs": [
    {
     "name": "stdout",
     "output_type": "stream",
     "text": [
      "Mean : 26.371\n",
      "Variance : 444.3173590000001\n",
      "Value at Risk : 22.0\n",
      "Conditional VaR: 49.71666666666667\n",
      "Prob cost > 50 : 0.14100000000000007\n",
      "26.371,444.3173590000001,22.0,49.71666666666667,0.14100000000000007\n"
     ]
    }
   ],
   "source": [
    "print(f\"Mean : {weighted_mean(z_c, rp_c)}\")\n",
    "print(f\"Variance : {variance(z_c, rp_c)}\")\n",
    "var_exp = VaR(z_c, rp_c, alpha) \n",
    "print(f\"Value at Risk : {var_exp}\")\n",
    "print(f\"Conditional VaR: {CVaR(z_c, rp_c, var_exp, alpha)}\")\n",
    "print(f\"Prob cost > {thresh} : {prob_threshold(z_c, rp_c, thresh)}\")\n",
    "print(f\"{weighted_mean(z_c, rp_c)},{variance(z_c, rp_c)},{var_exp},{CVaR(z_c, rp_c, var_exp, alpha)},{prob_threshold(z_c, rp_c, thresh)}\")"
   ]
  },
  {
   "cell_type": "markdown",
   "id": "b55c31fb-0d63-4b58-86c8-16c859667436",
   "metadata": {
    "jp-MarkdownHeadingCollapsed": true,
    "tags": []
   },
   "source": [
    "### Debugging"
   ]
  },
  {
   "cell_type": "code",
   "execution_count": 61,
   "id": "5aad6ba2-8bf8-42f7-8094-a2dcc9bdabdb",
   "metadata": {},
   "outputs": [
    {
     "data": {
      "text/plain": [
       "array([  0.,   1.,   2.,   3.,   4.,   5.,   6.,   7.,   8.,   9.,  10.,\n",
       "        11.,  12.,  13.,  14.,  15.,  16.,  17.,  18.,  19.,  20.,  21.,\n",
       "        22.,  23.,  24.,  25.,  26.,  27.,  28.,  29.,  30.,  31.,  32.,\n",
       "        33.,  34.,  35.,  36.,  37.,  38.,  39.,  40.,  41.,  42.,  43.,\n",
       "        44.,  45.,  46.,  47.,  48.,  49.,  50.,  51.,  52.,  53.,  54.,\n",
       "        55.,  56.,  57.,  58.,  59.,  60.,  61.,  62.,  63.,  64.,  65.,\n",
       "        66.,  67.,  68.,  69.,  70.,  71.,  72.,  73.,  74.,  75.,  76.,\n",
       "        77.,  78.,  79.,  80.,  81.,  82.,  83.,  84.,  85.,  86.,  87.,\n",
       "        88.,  89.,  90.,  91.,  92.,  93.,  94.,  95.,  96.,  97.,  98.,\n",
       "        99., 100.])"
      ]
     },
     "execution_count": 61,
     "metadata": {},
     "output_type": "execute_result"
    }
   ],
   "source": [
    "z_c"
   ]
  },
  {
   "cell_type": "code",
   "execution_count": 125,
   "id": "f5e51c9c-0985-4c6d-ba6b-9ad66665cca3",
   "metadata": {
    "collapsed": true,
    "jupyter": {
     "outputs_hidden": true
    },
    "tags": []
   },
   "outputs": [
    {
     "data": {
      "text/plain": [
       "array([  0,   1,   2,   3,   4,   5,   6,   7,   8,   9,  10,  11,  12,\n",
       "        13,  14,  15,  16,  17,  18,  19,  20,  21,  22,  23,  24,  25,\n",
       "        26,  27,  28,  29,  30,  31,  32,  33,  34,  35,  36,  37,  38,\n",
       "        39,  40,  41,  42,  43,  44,  45,  46,  47,  48,  49,  50,  51,\n",
       "        52,  53,  54,  55,  56,  57,  58,  59,  60,  61,  62,  63,  64,\n",
       "        65,  66,  67,  68,  69,  70,  71,  72,  73,  74,  75,  76,  77,\n",
       "        78,  79,  80,  81,  82,  83,  84,  85,  86,  87,  88,  89,  90,\n",
       "        91,  92,  93,  94,  95,  96,  97,  98,  99, 100, 101, 102, 103,\n",
       "       104, 105, 106, 107, 108, 109, 110, 111, 112, 113, 114, 115, 116,\n",
       "       117, 118, 119, 120, 121, 122, 123, 124, 125, 126, 127, 128, 129,\n",
       "       130, 131, 132, 133, 134, 135, 136, 137, 138, 139, 140, 141, 142,\n",
       "       143, 144, 145, 146, 147, 148, 149, 150, 151, 152, 153, 154, 155,\n",
       "       156, 157, 158, 159, 160, 161, 162, 163, 164, 165, 166, 167, 168,\n",
       "       169, 170, 171])"
      ]
     },
     "execution_count": 125,
     "metadata": {},
     "output_type": "execute_result"
    }
   ],
   "source": [
    "rx"
   ]
  },
  {
   "cell_type": "code",
   "execution_count": 124,
   "id": "c68279fa-dfa4-447a-bce1-db2f8a33d78b",
   "metadata": {
    "collapsed": true,
    "jupyter": {
     "outputs_hidden": true
    },
    "tags": []
   },
   "outputs": [
    {
     "data": {
      "text/plain": [
       "array([1.88055423e-16, 7.60895559e-15, 1.50388177e-13, 2.61631202e-09,\n",
       "       4.82070682e-08, 4.29124819e-07, 1.14260387e-05, 1.35392735e-04,\n",
       "       8.62333127e-04, 3.57049409e-03, 1.06640733e-02, 2.45131179e-02,\n",
       "       4.53995809e-02, 7.02033476e-02, 9.33399063e-02, 1.09371364e-01,\n",
       "       1.15297037e-01, 1.11208544e-01, 9.94855098e-02, 8.34460974e-02,\n",
       "       6.62087336e-02, 5.00652333e-02, 3.63257103e-02, 2.54598770e-02,\n",
       "       1.73604236e-02, 1.16086038e-02, 7.68069539e-03, 5.07799410e-03,\n",
       "       3.38936227e-03, 2.30669090e-03, 1.61434067e-03, 1.16860713e-03,\n",
       "       8.76800187e-04, 6.80239440e-04, 5.42139784e-04, 4.39709710e-04,\n",
       "       3.59227749e-04, 2.92920757e-04, 2.36812923e-04, 1.89117036e-04,\n",
       "       1.49041826e-04, 1.16020326e-04, 8.93473656e-05, 6.81337464e-05,\n",
       "       5.14266000e-05, 3.83518624e-05, 2.81937469e-05, 2.03966969e-05,\n",
       "       1.45213699e-05, 1.01959041e-05, 2.24271869e-05])"
      ]
     },
     "execution_count": 124,
     "metadata": {},
     "output_type": "execute_result"
    }
   ],
   "source": [
    "rp_c"
   ]
  },
  {
   "cell_type": "code",
   "execution_count": 126,
   "id": "eaecc660-2bca-4496-ab97-7d9c52adc78a",
   "metadata": {
    "collapsed": true,
    "jupyter": {
     "outputs_hidden": true
    },
    "tags": []
   },
   "outputs": [
    {
     "data": {
      "text/plain": [
       "array([0.00000000e+00, 0.00000000e+00, 0.00000000e+00, 0.00000000e+00,\n",
       "       0.00000000e+00, 0.00000000e+00, 0.00000000e+00, 0.00000000e+00,\n",
       "       0.00000000e+00, 0.00000000e+00, 0.00000000e+00, 0.00000000e+00,\n",
       "       0.00000000e+00, 0.00000000e+00, 0.00000000e+00, 0.00000000e+00,\n",
       "       0.00000000e+00, 0.00000000e+00, 0.00000000e+00, 0.00000000e+00,\n",
       "       0.00000000e+00, 0.00000000e+00, 0.00000000e+00, 0.00000000e+00,\n",
       "       1.38412872e-02, 2.49143170e-02, 2.61600328e-02, 4.58423432e-02,\n",
       "       5.89721882e-02, 5.55639097e-02, 6.84921979e-02, 7.49130658e-02,\n",
       "       6.58677524e-02, 6.94185090e-02, 6.89302350e-02, 5.77841948e-02,\n",
       "       5.56075158e-02, 5.17785836e-02, 4.19238502e-02, 3.79993686e-02,\n",
       "       3.37980312e-02, 2.66537226e-02, 2.31513815e-02, 1.98974780e-02,\n",
       "       1.53711130e-02, 1.29322555e-02, 1.08227751e-02, 8.22342432e-03,\n",
       "       6.74923223e-03, 5.52963027e-03, 4.14489968e-03, 3.33504734e-03,\n",
       "       2.68544700e-03, 1.99029537e-03, 1.57563973e-03, 1.25058743e-03,\n",
       "       9.18024788e-04, 7.16999569e-04, 5.62203562e-04, 4.09325908e-04,\n",
       "       3.16054365e-04, 2.45255480e-04, 1.77299343e-04, 1.35561833e-04,\n",
       "       1.04252665e-04, 7.48991013e-05, 5.67822460e-05, 4.33261656e-05,\n",
       "       3.09571222e-05, 2.32950560e-05, 1.76521010e-05, 1.25514568e-05,\n",
       "       9.38306527e-06, 7.06660610e-06, 5.00288344e-06, 3.71822206e-06,\n",
       "       2.78496379e-06, 1.96395453e-06, 1.45203682e-06, 1.08223461e-06,\n",
       "       7.60499508e-07, 5.59633004e-07, 4.15253503e-07, 2.90868954e-07,\n",
       "       2.13134846e-07, 1.57510249e-07, 1.10007387e-07, 8.02970634e-08,\n",
       "       5.91225421e-08, 4.11814964e-08, 2.99534445e-08, 2.19803422e-08,\n",
       "       1.52726209e-08, 1.10726841e-08, 8.10016025e-09, 5.61546860e-09,\n",
       "       4.05912608e-09, 2.96095089e-09, 2.04838097e-09, 1.47660388e-09,\n",
       "       1.07427085e-09, 7.41730862e-10, 5.33328545e-10, 3.87060464e-10,\n",
       "       2.66761672e-10, 1.91357774e-10, 1.38560261e-10, 9.53341391e-11,\n",
       "       6.82364065e-11, 4.93042333e-11, 3.38693616e-11, 2.41926513e-11,\n",
       "       1.74456580e-11, 1.19664844e-11, 8.53118489e-12, 6.14049961e-12,\n",
       "       4.20609189e-12, 2.99322953e-12, 2.15067337e-12, 1.47123224e-12,\n",
       "       1.04522167e-12, 7.49770120e-13, 5.12270596e-13, 3.63358854e-13,\n",
       "       2.60244790e-13, 1.77602024e-13, 1.25786173e-13, 8.99587867e-14,\n",
       "       6.13241609e-14, 4.33712072e-14, 3.09749996e-14, 2.10934144e-14,\n",
       "       1.48982404e-14, 1.06261476e-14, 7.22906945e-15, 5.09940312e-15,\n",
       "       3.63262659e-15, 2.46899346e-15, 1.73953851e-15, 1.23772240e-15,\n",
       "       8.40494969e-16, 5.91497021e-16, 4.20392334e-16, 2.85231810e-16,\n",
       "       2.00513213e-16, 1.42357930e-16, 9.65102500e-17, 6.77748556e-17,\n",
       "       4.80690430e-17, 3.25628175e-17, 2.28448447e-17, 1.61868956e-17,\n",
       "       1.09572059e-17, 7.67991928e-18, 5.43662528e-18, 3.67755739e-18,\n",
       "       2.57528388e-18, 1.82143178e-18, 1.23126040e-18, 8.61472489e-19,\n",
       "       6.08780590e-19, 4.11260559e-19, 2.87508277e-19, 2.03009709e-19,\n",
       "       1.37057842e-19, 9.57401087e-20, 6.75494746e-20, 4.55775240e-20,\n",
       "       3.18135053e-20, 2.24292545e-20, 1.51250034e-20, 1.05497029e-20])"
      ]
     },
     "execution_count": 126,
     "metadata": {},
     "output_type": "execute_result"
    }
   ],
   "source": [
    "rp"
   ]
  },
  {
   "cell_type": "code",
   "execution_count": 102,
   "id": "8f3949d4-8b00-47ea-bed9-957467ad20f9",
   "metadata": {
    "collapsed": true,
    "jupyter": {
     "outputs_hidden": true
    },
    "tags": []
   },
   "outputs": [
    {
     "data": {
      "text/plain": [
       "array([1.88055423e-16, 7.60895559e-15, 1.50388177e-13, 2.61631202e-09,\n",
       "       4.82070682e-08, 4.29124819e-07, 1.14260387e-05, 1.35392735e-04,\n",
       "       8.62333127e-04, 3.57049409e-03, 1.06640733e-02, 2.45131179e-02,\n",
       "       4.53995809e-02, 7.02033476e-02, 9.33399063e-02, 1.09371364e-01,\n",
       "       1.15297037e-01, 1.11208544e-01, 9.94855098e-02, 8.34460974e-02,\n",
       "       6.62087336e-02, 5.00652333e-02, 3.63257103e-02, 2.54598770e-02,\n",
       "       1.73604236e-02, 1.16086038e-02, 7.68069539e-03, 5.07799410e-03,\n",
       "       3.38936227e-03, 2.30669090e-03, 1.61434067e-03, 1.16860713e-03,\n",
       "       8.76800187e-04, 6.80239440e-04, 5.42139784e-04, 4.39709710e-04,\n",
       "       3.59227749e-04, 2.92920757e-04, 2.36812923e-04, 1.89117036e-04,\n",
       "       1.49041826e-04, 1.16020326e-04, 8.93473656e-05, 6.81337464e-05,\n",
       "       5.14266000e-05, 3.83518624e-05, 2.81937469e-05, 2.03966969e-05,\n",
       "       1.45213699e-05, 1.01959041e-05, 2.24271869e-05])"
      ]
     },
     "execution_count": 102,
     "metadata": {},
     "output_type": "execute_result"
    }
   ],
   "source": [
    "rp_c"
   ]
  },
  {
   "cell_type": "markdown",
   "id": "e0cb5c30-6cea-4f9e-8d0c-bb44858f31a7",
   "metadata": {
    "jp-MarkdownHeadingCollapsed": true,
    "tags": []
   },
   "source": [
    "## Statistics"
   ]
  },
  {
   "cell_type": "code",
   "execution_count": 22,
   "id": "609e0b75-4719-4bd5-ac91-ffd0afb2a73b",
   "metadata": {},
   "outputs": [],
   "source": [
    "def W(p, u, v):\n",
    "    u = np.sort(u)\n",
    "    v = np.sort(v)\n",
    "    if len(u) != len(v):\n",
    "        if len(u) > len(v): u, v = v, u\n",
    "        us = np.linspace(0, 1, len(u))\n",
    "        vs = np.linspace(0, 1, len(v))\n",
    "        u = np.interp(vs, us, u)\n",
    "    return np.mean(np.abs(u - v)**p)**(1/p)"
   ]
  },
  {
   "cell_type": "code",
   "execution_count": 41,
   "id": "99b852ef-afd6-432c-bbb9-625a2a547f36",
   "metadata": {},
   "outputs": [],
   "source": [
    "u = [3,5,6,9,10]\n",
    "fu = [0.2]*5\n",
    "x = [1,5,7,9,10]\n",
    "fx = [0.2]*5\n",
    "v = [1,3,4,5,6,7,9,10,12]\n",
    "fv = [0.1, 0.2, 0.1,0.1,0.1,0.1, 0.1, 0.1, 0.1]"
   ]
  },
  {
   "cell_type": "code",
   "execution_count": 11,
   "id": "a812fd5a-6546-4c66-b781-9f8bf1f94ff5",
   "metadata": {},
   "outputs": [
    {
     "data": {
      "text/plain": [
       "array([0.  , 0.25, 0.5 , 0.75, 1.  ])"
      ]
     },
     "execution_count": 11,
     "metadata": {},
     "output_type": "execute_result"
    }
   ],
   "source": [
    "us = np.linspace(0, 1, len(u))\n",
    "us"
   ]
  },
  {
   "cell_type": "code",
   "execution_count": 12,
   "id": "1f8d8772-b86b-4c6e-b31b-221f77f8fc2d",
   "metadata": {},
   "outputs": [
    {
     "data": {
      "text/plain": [
       "array([0.   , 0.125, 0.25 , 0.375, 0.5  , 0.625, 0.75 , 0.875, 1.   ])"
      ]
     },
     "execution_count": 12,
     "metadata": {},
     "output_type": "execute_result"
    }
   ],
   "source": [
    "vs = np.linspace(0, 1, len(v))\n",
    "vs"
   ]
  },
  {
   "cell_type": "code",
   "execution_count": 23,
   "id": "4a614a7a-39ca-4894-b0f5-bb909834e647",
   "metadata": {},
   "outputs": [
    {
     "data": {
      "text/plain": [
       "0.8333333333333334"
      ]
     },
     "execution_count": 23,
     "metadata": {},
     "output_type": "execute_result"
    }
   ],
   "source": [
    "W(1,u,v)"
   ]
  },
  {
   "cell_type": "code",
   "execution_count": 29,
   "id": "b79be699-7a99-4d66-8055-9d26f20adab0",
   "metadata": {},
   "outputs": [
    {
     "data": {
      "text/plain": [
       "1.0000000000000002"
      ]
     },
     "execution_count": 29,
     "metadata": {},
     "output_type": "execute_result"
    }
   ],
   "source": [
    "scipy.stats.wasserstein_distance(u, v, fu, fv)"
   ]
  },
  {
   "cell_type": "code",
   "execution_count": 42,
   "id": "5c19ab72-ea70-4a85-b895-dc4faa3322f3",
   "metadata": {},
   "outputs": [
    {
     "data": {
      "text/plain": [
       "0.6000000000000001"
      ]
     },
     "execution_count": 42,
     "metadata": {},
     "output_type": "execute_result"
    }
   ],
   "source": [
    "scipy.stats.wasserstein_distance(u, x, fu, fx)"
   ]
  },
  {
   "cell_type": "code",
   "execution_count": 49,
   "id": "f0d40f26-5b46-4930-b342-51eee0dcd708",
   "metadata": {},
   "outputs": [],
   "source": [
    "u = [0,2,4,6,8]\n",
    "fu = [0.3, 0.1, 0.2, 0.2, 0.2]\n",
    "x = [0,2,4,6,8]\n",
    "fx = [0.2, 0.2, 0.2, 0.2, 0.2]"
   ]
  },
  {
   "cell_type": "code",
   "execution_count": 62,
   "id": "2802f32a-1200-4dc5-a524-6af854251c61",
   "metadata": {},
   "outputs": [
    {
     "data": {
      "text/plain": [
       "0.14142135623730948"
      ]
     },
     "execution_count": 62,
     "metadata": {},
     "output_type": "execute_result"
    }
   ],
   "source": [
    "l2(u, x, fu, fx)"
   ]
  },
  {
   "cell_type": "code",
   "execution_count": 57,
   "id": "697231ee-3768-4c01-bc69-cb1af197ab3b",
   "metadata": {},
   "outputs": [
    {
     "data": {
      "text/plain": [
       "0.19999999999999998"
      ]
     },
     "execution_count": 57,
     "metadata": {},
     "output_type": "execute_result"
    }
   ],
   "source": [
    "scipy.stats.energy_distance(u, x, fu, fx)"
   ]
  },
  {
   "cell_type": "code",
   "execution_count": 21,
   "id": "2805008a-3105-42af-8951-64e7fdb8c34a",
   "metadata": {},
   "outputs": [
    {
     "data": {
      "text/plain": [
       "array([ 3. ,  4. ,  5. ,  5.5,  6. ,  7.5,  9. ,  9.5, 10. ])"
      ]
     },
     "execution_count": 21,
     "metadata": {},
     "output_type": "execute_result"
    }
   ],
   "source": [
    "u2 = np.interp(vs, us, u)\n",
    "u2"
   ]
  },
  {
   "cell_type": "code",
   "execution_count": null,
   "id": "e664a417-5f05-4688-9a73-b0cf88fda8ba",
   "metadata": {},
   "outputs": [],
   "source": []
  },
  {
   "cell_type": "code",
   "execution_count": 142,
   "id": "00867301-40aa-452c-a4b8-8935f8709b0c",
   "metadata": {},
   "outputs": [
    {
     "data": {
      "text/plain": [
       "KstestResult(statistic=0.0898, pvalue=5.865928454953228e-18)"
      ]
     },
     "execution_count": 142,
     "metadata": {},
     "output_type": "execute_result"
    }
   ],
   "source": [
    "\n",
    "sample_dtmc = np.random.choice(rx, 5000, p=rp)\n",
    "sample_cvar = np.random.choice(z_c, 5000, p=rp_c)\n",
    "\n",
    "stats.ks_2samp(sample_cvar, sample_dtmc)"
   ]
  },
  {
   "cell_type": "code",
   "execution_count": 146,
   "id": "ee596f55-42e4-40f9-9150-550bd81cbce2",
   "metadata": {},
   "outputs": [
    {
     "data": {
      "text/plain": [
       "Epps_Singleton_2sampResult(statistic=268.4622306016531, pvalue=6.842959268883822e-57)"
      ]
     },
     "execution_count": 146,
     "metadata": {},
     "output_type": "execute_result"
    }
   ],
   "source": [
    "stats.epps_singleton_2samp(sample_dtmc, sample_cvar)"
   ]
  },
  {
   "cell_type": "code",
   "execution_count": 143,
   "id": "ffbf4157-9879-428f-b1c6-a84ce174db33",
   "metadata": {},
   "outputs": [
    {
     "data": {
      "text/plain": [
       "<AxesSubplot:ylabel='Probability'>"
      ]
     },
     "execution_count": 143,
     "metadata": {},
     "output_type": "execute_result"
    },
    {
     "data": {
      "image/png": "[encoded data removed]",
      "text/plain": [
       "<Figure size 432x288 with 1 Axes>"
      ]
     },
     "metadata": {
      "needs_background": "light"
     },
     "output_type": "display_data"
    }
   ],
   "source": [
    "import seaborn as sns\n",
    "sns.histplot(sample_dtmc, stat='probability')"
   ]
  },
  {
   "cell_type": "code",
   "execution_count": 144,
   "id": "8b68a0c5-dbb1-4303-998c-7072d4ea5ec8",
   "metadata": {},
   "outputs": [
    {
     "data": {
      "text/plain": [
       "<AxesSubplot:ylabel='Probability'>"
      ]
     },
     "execution_count": 144,
     "metadata": {},
     "output_type": "execute_result"
    },
    {
     "data": {
      "image/png": "[encoded data removed]",
      "text/plain": [
       "<Figure size 432x288 with 1 Axes>"
      ]
     },
     "metadata": {
      "needs_background": "light"
     },
     "output_type": "display_data"
    }
   ],
   "source": [
    "sns.histplot(sample_cvar, stat='probability')"
   ]
  },
  {
   "cell_type": "code",
   "execution_count": 145,
   "id": "c57a650d-543c-4b87-805a-03703cc86eba",
   "metadata": {},
   "outputs": [
    {
     "data": {
      "image/png": "[encoded data removed]",
      "text/plain": [
       "<Figure size 432x288 with 1 Axes>"
      ]
     },
     "metadata": {
      "needs_background": "light"
     },
     "output_type": "display_data"
    }
   ],
   "source": [
    "x1 = np.sort(sample_dtmc)\n",
    "x2 = np.sort(sample_cvar)\n",
    "y = 1. * np.arange(len(sample_dtmc)) / (len(sample_dtmc) - 1)\n",
    "\n",
    "#plot CDF\n",
    "\n",
    "plt.plot(x1, y, label='DTMC')\n",
    "plt.plot(x2, y, label='CVaR')\n",
    "plt.legend()\n",
    "plt.show()"
   ]
  },
  {
   "cell_type": "code",
   "execution_count": null,
   "id": "463a912d-8329-4a0b-a06c-8b9997c0cf5e",
   "metadata": {},
   "outputs": [],
   "source": []
  },
  {
   "cell_type": "code",
   "execution_count": 98,
   "id": "15584542-a579-47e2-abca-6466026e5ba1",
   "metadata": {},
   "outputs": [
    {
     "data": {
      "text/plain": [
       "<scipy.stats._distn_infrastructure.rv_sample at 0x7f4751cb98d0>"
      ]
     },
     "execution_count": 98,
     "metadata": {},
     "output_type": "execute_result"
    }
   ],
   "source": [
    "distr"
   ]
  },
  {
   "cell_type": "code",
   "execution_count": 5,
   "id": "5a254223-a056-4f86-b378-76c2fff557bf",
   "metadata": {},
   "outputs": [],
   "source": [
    "arr = np.array([0.000, 0.500, 0.250, 0.125, 0.062, 0.031, 0.016, 0.008, 0.004, 0.002, 0.001, 0.000, 0.000, 0.000, 0.000, 0.000, 0.000, 0.000, 0.000, 0.000, 0.000, 0.000, 0.000, 0.000, 0.000, 0.000, 0.000, 0.000, 0.000, 0.000, 0.000, 0.000, 0.000, 0.000, 0.000, 0.000, 0.000, 0.000, 0.000, 0.000, 0.000, 0.000, 0.000, 0.000, 0.000, 0.000, 0.000, 0.000, 0.000, 0.000, 0.000])"
   ]
  },
  {
   "cell_type": "code",
   "execution_count": 6,
   "id": "2cd9e9f3-a0f5-4bfa-9716-2b8c93aedece",
   "metadata": {},
   "outputs": [],
   "source": [
    "z = np.array([0.0, 1.0, 2.0, 3.0, 4.0, 5.0, 6.0, 7.0, 8.0, 9.0, 10.0, 11.0, 12.0, 13.0, 14.0, 15.0, 16.0, 17.0, 18.0, 19.0, 20.0, 21.0, 22.0, 23.0, 24.0, 25.0, 26.0, 27.0, 28.0, 29.0, 30.0, 31.0, 32.0, 33.0, 34.0, 35.0, 36.0, 37.0, 38.0, 39.0, 40.0, 41.0, 42.0, 43.0, 44.0, 45.0, 46.0, 47.0, 48.0, 49.0, 50.0])"
   ]
  },
  {
   "cell_type": "code",
   "execution_count": 17,
   "id": "e31e0eff-b496-4062-8613-3d252eb0ff34",
   "metadata": {},
   "outputs": [],
   "source": [
    "arr = np.array([0.0, 0.0, 0.0, 0.0, 0.0, 0.0, 0.0, 0.17022753571453167, 0.31891492215823797, 0.1567626480513812, 0.05118216018499157, 0.013643989313244502, 0.0032351774801199894, 7.130268323753448E-4, 1.4984610011878512E-4, 3.0513044244107402E-5, 2.4603800653719168E-5, 0.001396588456150835, 0.042334917847358385, 0.09208631431008223, 0.05761650606557643, 0.04320529099424163, 0.02221523535712152, 0.01640335150815666, 0.00696340710405944, 0.002162493290883658, 5.632152543138403E-4, 1.318578710495575E-4, 2.884003657870519E-5, 6.031651041796671E-6, 1.5275734870121406E-6])"
   ]
  },
  {
   "cell_type": "code",
   "execution_count": 18,
   "id": "e931d119-059e-4480-82d9-aedbfac3bfc0",
   "metadata": {},
   "outputs": [
    {
     "data": {
      "text/plain": [
       "31"
      ]
     },
     "execution_count": 18,
     "metadata": {},
     "output_type": "execute_result"
    }
   ],
   "source": [
    "len(arr)"
   ]
  },
  {
   "cell_type": "code",
   "execution_count": 19,
   "id": "327309a2-92ba-461c-93f7-2fb84ea5688a",
   "metadata": {},
   "outputs": [
    {
     "data": {
      "text/plain": [
       "(0.0, 0.6)"
      ]
     },
     "execution_count": 19,
     "metadata": {},
     "output_type": "execute_result"
    },
    {
     "data": {
      "image/png": "[encoded data removed]",
      "text/plain": [
       "<Figure size 1008x576 with 1 Axes>"
      ]
     },
     "metadata": {
      "needs_background": "light"
     },
     "output_type": "display_data"
    }
   ],
   "source": [
    "plt.figure(figsize=(14,8))\n",
    "plt.bar(z,arr[:31], alpha=0.5)\n",
    "plt.ylim([0, 0.6])"
   ]
  },
  {
   "cell_type": "code",
   "execution_count": 9,
   "id": "2c5ec37c-9d01-48bd-b073-319e6b82d9a1",
   "metadata": {},
   "outputs": [],
   "source": [
    "arr = np.array([0.0, 0.0, 0.0, 0.0, 0.0, 0.0, 0.0, 0.17022753571453167, 0.31891492215823797, 0.1567626480513812, 0.05118216018499157, 0.013643989313244502, 0.0032351774801199894, 7.130268323753448E-4, 1.4984610011878512E-4, 3.0513044244107402E-5, 2.4603800653719168E-5, 0.001396588456150835, 0.042334917847358385, 0.09208631431008223, 0.05761650606557643, 0.04320529099424163, 0.02221523535712152, 0.01640335150815666, 0.00696340710405944, 0.002162493290883658, 5.632152543138403E-4, 1.318578710495575E-4, 2.884003657870519E-5, 6.031651041796671E-6, 1.5275734870121406E-6])"
   ]
  },
  {
   "cell_type": "code",
   "execution_count": 10,
   "id": "db2ffe81-7c37-400d-a691-1265841e9a97",
   "metadata": {},
   "outputs": [
    {
     "data": {
      "text/plain": [
       "31"
      ]
     },
     "execution_count": 10,
     "metadata": {},
     "output_type": "execute_result"
    }
   ],
   "source": [
    "len(arr)"
   ]
  },
  {
   "cell_type": "code",
   "execution_count": 8,
   "id": "3454a264-91cc-4791-ac6f-764330c10e59",
   "metadata": {},
   "outputs": [
    {
     "data": {
      "text/plain": [
       "(0.0, 60.0)"
      ]
     },
     "execution_count": 8,
     "metadata": {},
     "output_type": "execute_result"
    },
    {
     "data": {
      "image/png": "[encoded data removed]",
      "text/plain": [
       "<Figure size 1008x576 with 1 Axes>"
      ]
     },
     "metadata": {
      "needs_background": "light"
     },
     "output_type": "display_data"
    }
   ],
   "source": [
    "plt.figure(figsize=(14,8))\n",
    "plt.bar(z,arr, alpha=0.5)\n",
    "plt.ylim([0, 0.6])\n",
    "plt.xlim([0,60])"
   ]
  },
  {
   "cell_type": "code",
   "execution_count": 22,
   "id": "c7197c35-d327-479d-961a-a5e40e06f44f",
   "metadata": {},
   "outputs": [],
   "source": [
    "arr2 = np.array([0.000, 0.000, 0.000, 0.000, 0.000, 0.000, 0.000, 0.000, 0.000, 0.000, 0.000, 0.000, 0.000, 0.000, 0.000, 0.000, 0.000, 0.000, 0.000, 0.000, 0.000, 0.000, 0.000, 0.000, 0.000, 0.000, 0.000, 0.000, 0.000, 0.000, 0.000, 0.000, 0.000, 0.000, 0.000, 0.000, 0.000, 0.000, 0.000, 0.000, 0.000, 0.000, 0.000, 0.000, 0.000, 0.000, 0.000, 0.000, 0.000, 0.000, 0.000, 0.000, 0.000, 0.000, 0.000, 0.000, 0.000, 0.000, 0.000, 0.000, 0.000, 0.000, 0.000, 0.000, 0.000, 0.000, 0.000, 0.000, 0.000, 0.000, 0.000, 0.000, 0.000, 0.000, 0.000, 0.000, 0.000, 0.341, 0.207, 0.228, 0.103, 0.068, 0.028, 0.014, 0.006, 0.003, 0.001, 0.000, 0.000, 0.000, 0.000, 0.000, 0.000, 0.000, 0.000, 0.000, 0.000, 0.000, 0.000, 0.000, 0.000, 0.000, 0.000, 0.000, 0.000, 0.000, 0.000, 0.000, 0.000, 0.000, 0.000, 0.000, 0.000, 0.000, 0.000, 0.000, 0.000, 0.000, 0.000, 0.000, 0.000, 0.000, 0.000, 0.000, 0.000, 0.000, 0.000, 0.000, 0.000, 0.000, 0.000, 0.000, 0.000, 0.000, 0.000, 0.000, 0.000, 0.000, 0.000, 0.000, 0.000, 0.000, 0.000, 0.000, 0.000, 0.000, 0.000, 0.000, 0.000, 0.000, 0.000, 0.000, 0.000, 0.000, 0.000, 0.000, 0.000, 0.000, 0.000, 0.000, 0.000, 0.000, 0.000, 0.000, 0.000, 0.000, 0.000, 0.000, 0.000, 0.000, 0.000, 0.000, 0.000, 0.000, 0.000, 0.000, 0.000, 0.000, 0.000, 0.000, 0.000, 0.000, 0.000, 0.000, 0.000, 0.000, 0.000, 0.000, 0.000, 0.000, 0.000, 0.000, 0.000, 0.000, 0.000, 0.000, 0.000, 0.000, 0.000, 0.000, 0.000])"
   ]
  },
  {
   "cell_type": "code",
   "execution_count": 23,
   "id": "bff37bf2-49e5-4acf-824b-accaae6db28a",
   "metadata": {},
   "outputs": [
    {
     "data": {
      "text/plain": [
       "(201,)"
      ]
     },
     "execution_count": 23,
     "metadata": {},
     "output_type": "execute_result"
    }
   ],
   "source": [
    "arr2.shape"
   ]
  },
  {
   "cell_type": "code",
   "execution_count": 25,
   "id": "20426db6-6add-467c-a5a1-fc1b6581ef0b",
   "metadata": {},
   "outputs": [
    {
     "data": {
      "text/plain": [
       "(0.0, 130.0)"
      ]
     },
     "execution_count": 25,
     "metadata": {},
     "output_type": "execute_result"
    },
    {
     "data": {
      "image/png": "[encoded data removed]",
      "text/plain": [
       "<Figure size 1008x576 with 1 Axes>"
      ]
     },
     "metadata": {
      "needs_background": "light"
     },
     "output_type": "display_data"
    }
   ],
   "source": [
    "plt.figure(figsize=(14,8))\n",
    "plt.bar(np.arange(201),arr2, alpha=0.5)\n",
    "plt.ylim([0, 0.36])\n",
    "plt.xlim([0, 130])"
   ]
  },
  {
   "cell_type": "code",
   "execution_count": 12,
   "id": "a8170b96-51f2-4fc6-86de-6ddf4745267d",
   "metadata": {},
   "outputs": [],
   "source": [
    "arr_qr = np.array([37.000, 37.000, 37.000, 37.000, 37.000, 37.000, 39.000, 39.000, 39.000, 39.000, 41.000, 41.000, 41.000, 41.000, 41.000, 41.000, 41.000, 41.000, 41.000, 41.000, 41.000, 41.000, 41.000, 41.000, 41.000, 41.000, 41.000, 41.000, 41.000, 41.000, 41.000, 41.000, 41.000, 41.000, 41.000, 41.000, 41.000, 41.000, 41.000, 41.000, 41.000, 41.000, 41.000, 41.000, 41.000, 41.000, 41.000, 41.000, 41.000, 41.000, 41.000, 41.000, 41.000, 41.000, 41.000, 41.000, 41.000, 41.000, 41.000, 41.000, 41.000, 41.000, 41.000, 41.000, 41.000, 41.000, 41.000, 41.000, 41.000, 41.000, 41.000, 41.000, 41.000, 41.000, 41.000, 41.000, 41.000, 41.000, 41.000, 41.000, 41.000, 41.000, 41.000, 41.000, 41.000, 41.000, 41.000, 41.000, 41.000, 41.000, 41.000, 41.000, 42.000, 42.000, 42.000, 42.000, 42.000, 42.000, 42.000, 42.000, 42.000, 42.000, 42.000, 42.000, 42.000, 42.000, 43.000, 43.000, 43.000, 43.000, 43.000, 43.000, 43.000, 43.000, 43.000, 43.000, 43.000, 43.000, 43.000, 43.000, 43.000, 43.000, 43.000, 43.000, 43.000, 43.000, 43.000, 43.000, 43.000, 43.000, 43.000, 43.000, 43.000, 43.000, 43.000, 43.000, 43.000, 43.000, 43.000, 43.000, 43.000, 43.000, 43.000, 43.000, 43.000, 43.000, 43.000, 43.000, 43.000, 43.000, 43.000, 43.000, 43.000, 43.000, 43.000, 43.000, 43.000, 43.000, 43.000, 43.000, 43.000, 43.000, 43.000, 43.000, 43.000, 43.000, 43.000, 43.000, 43.000, 43.000, 43.000, 43.000, 43.000, 43.000, 43.000, 43.000, 43.000, 43.000, 43.000, 43.000, 43.000, 43.000, 43.000, 43.000, 43.000, 43.000, 43.000, 43.000, 43.000, 43.000, 43.000, 43.000, 43.000, 43.000, 43.000, 43.000, 43.000, 43.000, 43.000, 43.000, 43.000, 43.000, 43.000, 43.000, 43.000, 43.000, 43.000, 43.000, 43.000, 43.000, 43.000, 43.000, 43.000, 43.000, 43.000, 43.000, 43.000, 43.000, 43.000, 43.000, 43.000, 43.000, 43.000, 43.000, 43.000, 43.000, 43.000, 43.000, 43.000, 43.000, 43.000, 43.000, 43.000, 43.000, 43.000, 43.000, 43.000, 43.000, 43.000, 43.000, 43.000, 43.000, 43.000, 43.000, 43.000, 43.000, 44.000, 44.000, 44.000, 44.000, 44.000, 44.000, 44.000, 44.000, 44.000, 44.000, 44.000, 44.000, 44.000, 44.000, 44.000, 44.000, 44.000, 44.000, 44.000, 44.000, 44.000, 44.000, 44.000, 45.000, 45.000, 45.000, 45.000, 45.000, 45.000, 45.000, 45.000, 45.000, 45.000, 45.000, 45.000, 45.000, 45.000, 45.000, 45.000, 45.000, 45.000, 45.000, 45.000, 45.000, 45.000, 45.000, 45.000, 45.000, 45.000, 45.000, 45.000, 45.000, 45.000, 45.000, 45.000, 45.000, 45.000, 45.000, 45.000, 45.000, 45.000, 45.000, 45.000, 45.000, 45.000, 45.000, 45.000, 45.000, 45.000, 45.000, 45.000, 45.000, 45.000, 45.000, 45.000, 45.000, 45.000, 45.000, 45.000, 45.000, 45.000, 45.000, 45.000, 45.000, 45.000, 45.000, 45.000, 45.000, 45.000, 45.000, 45.000, 45.000, 45.000, 45.000, 45.000, 45.000, 45.000, 45.000, 45.000, 45.000, 45.000, 45.000, 45.000, 45.000, 45.000, 45.000, 45.000, 45.000, 45.000, 45.000, 45.000, 45.000, 45.000, 45.000, 45.000, 45.000, 45.000, 45.000, 45.000, 45.000, 45.000, 45.000, 45.000, 45.000, 45.000, 45.000, 45.000, 45.000, 45.000, 45.000, 45.000, 45.000, 45.000, 45.000, 45.000, 45.000, 45.000, 45.000, 45.000, 45.000, 45.000, 45.000, 45.000, 45.000, 45.000, 45.000, 45.000, 45.000, 45.000, 45.000, 45.000, 45.000, 45.000, 45.000, 46.000, 46.000, 46.000, 46.000, 46.000, 46.000, 46.000, 46.000, 46.000, 46.000, 46.000, 46.000, 46.000, 46.000, 46.000, 46.000, 46.000, 46.000, 46.000, 46.000, 46.000, 47.000, 47.000, 47.000, 47.000, 47.000, 47.000, 47.000, 47.000, 47.000, 47.000, 47.000, 47.000, 47.000, 47.000, 47.000, 47.000, 47.000, 47.000, 47.000, 47.000, 47.000, 47.000, 47.000, 47.000, 47.000, 47.000, 47.000, 47.000, 47.000, 47.000, 47.000, 47.000, 47.000, 47.000, 47.000, 47.000, 47.000, 47.000, 47.000, 47.000, 47.000, 47.000, 47.000, 47.000, 47.000, 47.000, 47.000, 47.000, 47.000, 47.000, 47.000, 47.000, 47.000, 47.000, 47.000, 47.000, 47.000, 47.000, 47.000, 47.000, 47.000, 47.000, 47.000, 47.000, 47.000, 47.000, 47.000, 47.000, 47.000, 47.000, 47.000, 47.000, 47.000, 47.000, 47.000, 47.000, 47.000, 47.000, 47.000, 47.000, 47.000, 47.000, 47.000, 47.000, 48.000, 48.000, 48.000, 48.000, 48.000, 48.000, 48.000, 48.000, 48.000, 48.000, 48.000, 48.000, 48.000, 48.000, 48.000, 48.000, 48.000, 49.000, 49.000, 49.000, 49.000, 49.000, 49.000, 49.000, 49.000, 49.000, 49.000, 49.000, 49.000, 49.000, 49.000, 49.000, 49.000, 49.000, 49.000, 49.000, 49.000, 49.000, 49.000, 49.000, 49.000, 49.000, 49.000, 49.000, 49.000, 49.000, 49.000, 49.000, 49.000, 49.000, 49.000, 49.000, 49.000, 49.000, 49.000, 49.000, 49.000, 49.000, 49.000, 49.000, 50.000, 50.000, 50.000, 50.000, 50.000, 50.000, 50.000, 50.000, 50.000, 50.000, 51.000, 51.000, 51.000, 51.000, 51.000, 51.000, 51.000, 51.000, 51.000, 51.000, 51.000, 51.000, 51.000, 51.000, 51.000, 51.000, 52.000, 52.000, 52.000, 52.000, 52.000, 52.000, 53.000, 53.000, 53.000, 53.000, 53.000, 53.000, 53.000, 53.000, 53.000, 54.000, 54.000, 55.000, 55.000, 55.000, 55.000, 56.000, 57.000, 57.000, 59.000, 59.000, 59.000, 60.000, 61.000, 61.000, 61.000, 61.000, 61.000, 61.000, 61.000, 62.000, 63.000, 63.000, 63.000, 63.000, 63.000, 63.000, 63.000, 63.000, 63.000, 63.000, 63.000, 63.000, 65.000, 65.000, 65.000, 65.000, 65.000, 65.000, 65.000, 65.000, 65.000, 65.000, 65.000, 65.000, 65.000, 67.000, 67.000, 67.000, 67.000, 67.000, 67.000, 67.000, 67.000, 68.000, 69.000, 69.000, 69.000, 69.000, 70.000, 70.000, 71.000, 71.000, 71.000, 71.000, 73.000, 73.000, 79.000, 81.000, 81.000, 81.000, 81.000, 81.000, 81.000, 81.000, 81.000, 81.000, 81.000, 81.000, 81.000, 81.000, 81.000, 81.000, 81.000, 81.000, 81.000, 81.000, 82.000, 82.000, 82.000, 82.000, 82.000, 82.000, 82.000, 82.000, 82.000, 82.000, 82.000, 82.000, 82.000, 82.000, 82.000, 82.000, 82.000, 82.000, 82.000, 82.000, 82.000, 82.000, 82.000, 82.000, 83.000, 83.000, 83.000, 83.000, 83.000, 83.000, 83.000, 83.000, 83.000, 83.000, 83.000, 83.000, 83.000, 83.000, 83.000, 83.000, 83.000, 83.000, 83.000, 83.000, 83.000, 83.000, 83.000, 83.000, 83.000, 83.000, 83.000, 84.000, 84.000, 84.000, 84.000, 84.000, 84.000, 84.000, 84.000, 84.000, 84.000, 84.000, 84.000, 84.000, 84.000, 84.000, 84.000, 84.000, 84.000, 84.000, 84.000, 84.000, 84.000, 84.000, 84.000, 84.000, 84.000, 84.000, 84.000, 85.000, 85.000, 85.000, 85.000, 85.000, 85.000, 85.000, 85.000, 85.000, 85.000, 85.000, 85.000, 85.000, 85.000, 85.000, 85.000, 85.000, 85.000, 85.000, 85.000, 85.000, 85.000, 85.000, 85.000, 85.000, 85.000, 85.000, 85.000, 86.000, 86.000, 86.000, 86.000, 86.000, 86.000, 86.000, 86.000, 86.000, 86.000, 86.000, 86.000, 86.000, 86.000, 87.000, 87.000, 87.000, 87.000, 87.000, 87.000, 87.000, 87.000, 87.000, 87.000, 87.000, 87.000, 87.000, 87.000, 87.000, 87.000, 87.000, 87.000, 87.000, 87.000, 87.000, 87.000, 87.000, 88.000, 88.000, 88.000, 88.000, 88.000, 88.000, 88.000, 88.000, 89.000, 89.000, 89.000, 89.000, 89.000, 89.000, 89.000, 89.000, 89.000, 89.000, 89.000, 89.000, 89.000, 90.000, 90.000, 90.000, 91.000, 91.000, 91.000, 91.000, 92.000, 92.000, 92.000, 92.000, 92.000, 92.000, 92.000, 92.000, 92.000, 92.000, 92.000, 92.000, 92.000, 93.000, 93.000, 94.000, 94.000, 94.000, 94.000, 94.000, 94.000, 94.000, 94.000, 94.000, 94.000, 95.000, 96.000, 96.000, 96.000, 96.000, 96.000, 96.000, 96.000, 96.000, 96.000, 96.000, 96.000, 96.000, 97.000, 97.000, 98.000, 98.000, 99.000, 99.000, 99.000, 99.000, 99.000, 99.000, 99.000, 99.000, 99.000, 99.000, 99.000, 99.000, 99.000, 99.000, 100.000, 100.000, 100.000, 100.000, 100.000, 100.000, 100.000, 100.000, 101.000, 101.000, 101.000, 101.000, 101.000, 101.000, 101.000, 101.000, 101.000, 102.000, 102.000, 102.000, 102.000, 102.000, 102.000, 102.000, 103.000, 103.000, 103.000, 103.000, 103.000, 103.000, 103.000, 103.000, 104.000, 104.000, 104.000, 104.000, 104.000, 104.000, 104.000, 104.000, 104.000, 104.000, 105.000, 105.000, 105.000, 105.000, 105.000, 105.000, 105.000, 105.000, 106.000, 106.000, 106.000, 106.000, 106.000, 106.000, 107.000, 107.000, 107.000, 107.000, 107.000, 107.000, 107.000, 107.000, 107.000, 108.000, 108.000, 108.000, 109.000, 109.000, 109.000, 109.000, 109.000, 110.000, 111.000, 111.000, 111.000, 111.000, 111.000])"
   ]
  },
  {
   "cell_type": "code",
   "execution_count": 13,
   "id": "c679a9ce-45d8-4cd0-8a3b-993c3e89e09a",
   "metadata": {},
   "outputs": [
    {
     "data": {
      "text/plain": [
       "array([0.   , 0.   , 0.   , 0.   , 0.   , 0.   , 0.   , 0.   , 0.   ,\n",
       "       0.   , 0.   , 0.   , 0.   , 0.   , 0.   , 0.   , 0.   , 0.   ,\n",
       "       0.   , 0.   , 0.   , 0.   , 0.   , 0.   , 0.   , 0.   , 0.   ,\n",
       "       0.   , 0.   , 0.   , 0.   , 0.   , 0.   , 0.   , 0.   , 0.   ,\n",
       "       0.   , 0.006, 0.   , 0.004, 0.   , 0.082, 0.014, 0.14 , 0.023,\n",
       "       0.131, 0.021, 0.084, 0.017, 0.043, 0.01 , 0.016, 0.006, 0.009,\n",
       "       0.002, 0.004, 0.001, 0.002, 0.   , 0.003, 0.001, 0.007, 0.001,\n",
       "       0.012, 0.   , 0.013, 0.   , 0.008, 0.001, 0.004, 0.002, 0.004,\n",
       "       0.   , 0.002, 0.   , 0.   , 0.   , 0.   , 0.   , 0.001, 0.   ,\n",
       "       0.019, 0.024, 0.027, 0.028, 0.028, 0.014, 0.023, 0.008, 0.013,\n",
       "       0.003, 0.004, 0.013, 0.002, 0.01 , 0.001, 0.012, 0.002, 0.002,\n",
       "       0.014, 0.008, 0.009, 0.007, 0.008, 0.01 , 0.008, 0.006, 0.009,\n",
       "       0.003, 0.005, 0.001, 0.005, 0.   , 0.   , 0.   , 0.   , 0.   ,\n",
       "       0.   , 0.   , 0.   , 0.   , 0.   , 0.   , 0.   , 0.   , 0.   ,\n",
       "       0.   , 0.   , 0.   , 0.   , 0.   , 0.   , 0.   , 0.   , 0.   ,\n",
       "       0.   , 0.   , 0.   , 0.   , 0.   , 0.   , 0.   , 0.   , 0.   ,\n",
       "       0.   , 0.   , 0.   , 0.   , 0.   , 0.   , 0.   , 0.   , 0.   ,\n",
       "       0.   , 0.   , 0.   , 0.   , 0.   , 0.   , 0.   , 0.   , 0.   ,\n",
       "       0.   , 0.   , 0.   , 0.   , 0.   , 0.   , 0.   , 0.   , 0.   ,\n",
       "       0.   , 0.   , 0.   , 0.   , 0.   , 0.   , 0.   , 0.   , 0.   ,\n",
       "       0.   , 0.   , 0.   , 0.   , 0.   , 0.   , 0.   , 0.   , 0.   ,\n",
       "       0.   , 0.   , 0.   , 0.   , 0.   , 0.   , 0.   , 0.   , 0.   ,\n",
       "       0.   , 0.   , 0.   ])"
      ]
     },
     "execution_count": 13,
     "metadata": {},
     "output_type": "execute_result"
    }
   ],
   "source": [
    "atoms = 1000\n",
    "delta_p = 1.0/atoms\n",
    "arr_conv = np.zeros(201)\n",
    "\n",
    "for j in np.arange(atoms):\n",
    "    val = arr_qr[j]\n",
    "    low = math.floor(val)\n",
    "    upp = math.ceil(val)\n",
    "    if low - upp != 0:\n",
    "        arr_conv[low] += (val - low) * delta_p\n",
    "        arr_conv[upp] += (upp - val) * delta_p\n",
    "    else:\n",
    "        arr_conv[low] += delta_p\n",
    "    \n",
    "arr_conv"
   ]
  },
  {
   "cell_type": "code",
   "execution_count": null,
   "id": "67802c6a-4e7f-440c-9b82-1456b4481046",
   "metadata": {},
   "outputs": [],
   "source": []
  }
 ],
 "metadata": {
  "kernelspec": {
   "display_name": "Python 3",
   "language": "python",
   "name": "python3"
  },
  "language_info": {
   "codemirror_mode": {
    "name": "ipython",
    "version": 3
   },
   "file_extension": ".py",
   "mimetype": "text/x-python",
   "name": "python",
   "nbconvert_exporter": "python",
   "pygments_lexer": "ipython3",
   "version": "3.6.9"
  }
 },
 "nbformat": 4,
 "nbformat_minor": 5
}
