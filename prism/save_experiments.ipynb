{
 "cells": [
  {
   "cell_type": "code",
   "execution_count": 4,
   "id": "60d92f13-ad2d-405b-b609-241ac908c99c",
   "metadata": {},
   "outputs": [],
   "source": [
    "import os"
   ]
  },
  {
   "cell_type": "code",
   "execution_count": 254,
   "id": "d806844c-3f66-4b7b-aa47-4a09f3479eba",
   "metadata": {},
   "outputs": [],
   "source": [
    "file_path = 'tests/experiments/'\n",
    "experiment_name='uav_phi3'\n",
    "apdx = ''\n",
    "rep_types = ['c51'] # 'qr', 'c51'\n",
    "alg_types=['exp'] # ['vi', 'exp', 'cvar']\n",
    "command_base = \"cp \""
   ]
  },
  {
   "cell_type": "code",
   "execution_count": 255,
   "id": "9ceaf572-c1cc-4328-90d2-f65bfbfc8b7d",
   "metadata": {
    "tags": []
   },
   "outputs": [
    {
     "name": "stdout",
     "output_type": "stream",
     "text": [
      "cp distr_dtmc_exp.csv tests/experiments/uav_phi3/uav_phi3_distr_dtmc_exp_c51.csv\n"
     ]
    }
   ],
   "source": [
    "# Copy DTMC files\n",
    "for alg in alg_types:\n",
    "    for rep in rep_types:\n",
    "        source = 'distr_dtmc_'+alg+'.csv'\n",
    "        target = file_path+experiment_name+'/'+experiment_name+'_distr_dtmc_'+alg+'_'+rep+apdx+'.csv'\n",
    "        command = command_base+source+' '+target\n",
    "        print(command)\n",
    "        os.system(command)"
   ]
  },
  {
   "cell_type": "code",
   "execution_count": 256,
   "id": "770c48db-377e-43dc-bfd4-22237c10615c",
   "metadata": {},
   "outputs": [
    {
     "name": "stdout",
     "output_type": "stream",
     "text": [
      "cp distr_exp_c51.csv tests/experiments/uav_phi3/uav_phi3_distr_exp_c51.csv\n"
     ]
    }
   ],
   "source": [
    "# Copy VI files\n",
    "for alg in alg_types:\n",
    "    for rep in rep_types:\n",
    "        source = 'distr_'+alg+'_'+rep+'.csv'\n",
    "        target = file_path+experiment_name+'/'+experiment_name+'_distr_'+alg+'_'+rep+apdx+'.csv'\n",
    "        command = command_base+source+' '+target\n",
    "        print(command)\n",
    "        os.system(command)"
   ]
  },
  {
   "cell_type": "code",
   "execution_count": 253,
   "id": "c16593f9-ed73-4081-9924-721a65af83a7",
   "metadata": {},
   "outputs": [
    {
     "name": "stdout",
     "output_type": "stream",
     "text": [
      "cp tests/traces/distr_exp_C51_trace.csv tests/experiments/uav_phi2/uav_phi2_distr_exp_c51_trace.csv\n"
     ]
    }
   ],
   "source": [
    "# Copy trace files\n",
    "trace_path = 'tests/traces/'\n",
    "\n",
    "for alg in alg_types:\n",
    "    for rep in rep_types:\n",
    "        source = trace_path+'distr_'+alg+'_'+rep.upper()+'_trace.csv'\n",
    "        target = file_path+experiment_name+'/'+experiment_name+'_distr_'+alg+'_'+rep+apdx+'_trace.csv'\n",
    "        command = command_base+source+' '+target\n",
    "        print(command)\n",
    "        os.system(command)\n",
    "        "
   ]
  },
  {
   "cell_type": "code",
   "execution_count": null,
   "id": "87e49677-093b-49bc-ba12-3d363e467f20",
   "metadata": {},
   "outputs": [],
   "source": []
  },
  {
   "cell_type": "code",
   "execution_count": null,
   "id": "ebc5bc5b-1cab-4c6f-be9a-568bb25a8722",
   "metadata": {},
   "outputs": [],
   "source": []
  }
 ],
 "metadata": {
  "kernelspec": {
   "display_name": "Python 3",
   "language": "python",
   "name": "python3"
  },
  "language_info": {
   "codemirror_mode": {
    "name": "ipython",
    "version": 3
   },
   "file_extension": ".py",
   "mimetype": "text/x-python",
   "name": "python",
   "nbconvert_exporter": "python",
   "pygments_lexer": "ipython3",
   "version": "3.6.9"
  }
 },
 "nbformat": 4,
 "nbformat_minor": 5
}
