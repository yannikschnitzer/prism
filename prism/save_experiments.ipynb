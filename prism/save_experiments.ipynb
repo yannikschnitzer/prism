{
 "cells": [
  {
   "cell_type": "code",
   "execution_count": 4,
   "id": "60d92f13-ad2d-405b-b609-241ac908c99c",
   "metadata": {},
   "outputs": [],
   "source": [
    "import os"
   ]
  },
  {
   "cell_type": "code",
   "execution_count": 155,
   "id": "d806844c-3f66-4b7b-aa47-4a09f3479eba",
   "metadata": {},
   "outputs": [],
   "source": [
    "file_path = 'tests/experiments/'\n",
    "experiment_name='grid 400'\n",
    "apdx = ''\n",
    "rep_types = ['c51'] # 'qr', 'c51'\n",
    "alg_types=['vi', 'exp'] # ['vi', 'exp', 'cvar']\n",
    "command_base = \"cp \""
   ]
  },
  {
   "cell_type": "code",
   "execution_count": 156,
   "id": "f07b2f9b-25fc-4983-91f8-7a02b70eaca2",
   "metadata": {},
   "outputs": [
    {
     "name": "stdout",
     "output_type": "stream",
     "text": [
      "cp log_exp.log tests/experiments/grid 400/grid 400_log_exp_c51.log\n"
     ]
    }
   ],
   "source": [
    "# Copy Log file\n",
    "for alg in alg_types:\n",
    "    for rep in rep_types:\n",
    "        if 'vi' in alg:\n",
    "            continue\n",
    "        source = 'log_'+alg+'.log'\n",
    "        target = file_path+experiment_name+'/'+experiment_name+'_log_'+alg+'_'+rep+apdx+'.log'\n",
    "        command = command_base+source+' '+target\n",
    "        print(command)\n",
    "        os.system(command)"
   ]
  },
  {
   "cell_type": "code",
   "execution_count": 157,
   "id": "770c48db-377e-43dc-bfd4-22237c10615c",
   "metadata": {},
   "outputs": [
    {
     "name": "stdout",
     "output_type": "stream",
     "text": [
      "cp distr_exp_c51.csv tests/experiments/grid 400/grid 400_distr_exp_c51.csv\n"
     ]
    }
   ],
   "source": [
    "# Copy VI files\n",
    "for alg in alg_types:\n",
    "    for rep in rep_types:\n",
    "        if 'vi' in alg:\n",
    "            continue\n",
    "        source = 'distr_'+alg+'_'+rep+'.csv'\n",
    "        target = file_path+experiment_name+'/'+experiment_name+'_distr_'+alg+'_'+rep+apdx+'.csv'\n",
    "        command = command_base+source+' '+target\n",
    "        print(command)\n",
    "        os.system(command)"
   ]
  },
  {
   "cell_type": "code",
   "execution_count": 158,
   "id": "9ceaf572-c1cc-4328-90d2-f65bfbfc8b7d",
   "metadata": {
    "tags": []
   },
   "outputs": [
    {
     "name": "stdout",
     "output_type": "stream",
     "text": [
      "cp distr_dtmc_vi.csv tests/experiments/grid 400/grid 400_distr_dtmc_vi_c51.csv\n",
      "cp distr_dtmc_exp.csv tests/experiments/grid 400/grid 400_distr_dtmc_exp_c51.csv\n"
     ]
    }
   ],
   "source": [
    "# Copy DTMC files\n",
    "for alg in alg_types:\n",
    "    for rep in rep_types:\n",
    "        source = 'distr_dtmc_'+alg+'.csv'\n",
    "        target = file_path+experiment_name+'/'+experiment_name+'_distr_dtmc_'+alg+'_'+rep+apdx+'.csv'\n",
    "        command = command_base+source+' '+target\n",
    "        print(command)\n",
    "        os.system(command)"
   ]
  },
  {
   "cell_type": "code",
   "execution_count": 159,
   "id": "c16593f9-ed73-4081-9924-721a65af83a7",
   "metadata": {},
   "outputs": [
    {
     "name": "stdout",
     "output_type": "stream",
     "text": [
      "cp tests/traces/distr_vi_C51_trace.csv tests/experiments/grid 400/grid 400_distr_vi_c51_trace.csv\n",
      "cp tests/traces/distr_exp_C51_trace.csv tests/experiments/grid 400/grid 400_distr_exp_c51_trace.csv\n"
     ]
    }
   ],
   "source": [
    "# Copy trace files\n",
    "trace_path = 'tests/traces/'\n",
    "\n",
    "for alg in alg_types:\n",
    "    for rep in rep_types:\n",
    "        source = trace_path+'distr_'+alg+'_'+rep.upper()+'_trace.csv'\n",
    "        target = file_path+experiment_name+'/'+experiment_name+'_distr_'+alg+'_'+rep+apdx+'_trace.csv'\n",
    "        command = command_base+source+' '+target\n",
    "        print(command)\n",
    "        os.system(command)\n",
    "        "
   ]
  },
  {
   "cell_type": "code",
   "execution_count": null,
   "id": "28989371-efb4-48c1-8d25-5b032a1b9bf9",
   "metadata": {},
   "outputs": [],
   "source": []
  },
  {
   "cell_type": "code",
   "execution_count": null,
   "id": "0744e1c4-0349-48c4-8bab-a64d21b9862c",
   "metadata": {},
   "outputs": [],
   "source": []
  }
 ],
 "metadata": {
  "kernelspec": {
   "display_name": "Python 3",
   "language": "python",
   "name": "python3"
  },
  "language_info": {
   "codemirror_mode": {
    "name": "ipython",
    "version": 3
   },
   "file_extension": ".py",
   "mimetype": "text/x-python",
   "name": "python",
   "nbconvert_exporter": "python",
   "pygments_lexer": "ipython3",
   "version": "3.6.9"
  }
 },
 "nbformat": 4,
 "nbformat_minor": 5
}
