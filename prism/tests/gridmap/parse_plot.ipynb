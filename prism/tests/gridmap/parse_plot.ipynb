{
 "cells": [
  {
   "cell_type": "code",
   "execution_count": 81,
   "id": "285bfa75-915e-4dba-9250-5b51fd0142dc",
   "metadata": {},
   "outputs": [],
   "source": [
    "import sys, os \n",
    "import numpy as np\n",
    "import math\n",
    "\n",
    "import matplotlib.pyplot as plt\n",
    "from itertools import product\n",
    "import importlib\n",
    "\n",
    "if importlib.util.find_spec('matplotlib'):\n",
    "    import matplotlib\n",
    "    import matplotlib.pyplot as plt\n",
    "    from matplotlib.font_manager import FontProperties\n",
    "    matplotlib.font_manager._rebuild()\n",
    "\n",
    "if importlib.util.find_spec('ipywidgets'):\n",
    "    from ipywidgets.widgets import IntSlider\n",
    "    from ipywidgets import interact"
   ]
  },
  {
   "cell_type": "code",
   "execution_count": 129,
   "id": "61f6c32b-e76a-4eee-9030-5954ad27fefb",
   "metadata": {
    "tags": []
   },
   "outputs": [],
   "source": [
    "# credit to Alper Kamil\n",
    "def states(gridmap):\n",
    "    \"\"\"State generator.\n",
    "\n",
    "    Yields\n",
    "    ------\n",
    "    state: tuple\n",
    "        State coordinates (i,j).\n",
    "    \"\"\"\n",
    "    n_rows, n_cols = gridmap.shape\n",
    "    for state in product(range(n_rows),range(n_cols)):\n",
    "        yield state\n",
    "        \n",
    "def plot(gridmap, figsize = 8, diff_agent=False,value=None, policy=None, agent=[0,0], dispval=False, save=None, hidden=[], path={}):\n",
    "        \"\"\"Plots the values of the states as a color matrix.\n",
    "        \n",
    "        Parameters\n",
    "        ----------\n",
    "        value : array, shape=(n_mdps,n_qs,n_rows,n_cols) \n",
    "            The value function. If it is None, the reward function will be plotted.\n",
    "            \n",
    "        policy : array, shape=(n_mdps,n_qs,n_rows,n_cols) \n",
    "            The policy to be visualized. It is optional.\n",
    "            \n",
    "        agent : tuple\n",
    "            The position of the agent to be plotted. It is optional.\n",
    "        \n",
    "        save : str\n",
    "            The name of the file the image will be saved to. It is optional\n",
    "        \"\"\"\n",
    "        \n",
    "        f=FontProperties(weight='bold')\n",
    "        fontname = 'Times New Roman'\n",
    "        fontsize = 20\n",
    "        \n",
    "        # Up, Down, Right, Left\n",
    "        A = ['U','D','R','L']  \n",
    "        \n",
    "        # Dimensions\n",
    "        n_rows, n_cols = gridmap.shape\n",
    "\n",
    "        if value is not None:\n",
    "            value = np.copy(value)\n",
    "            for h in hidden:\n",
    "                value[h] = 0\n",
    "        \n",
    "        cmap =plt.cm.RdBu\n",
    "        # Plot\n",
    "        fig = plt.figure(figsize=(figsize,figsize))\n",
    "        plt.rc('text', usetex=True)\n",
    "        threshold = np.nanmax(np.abs(value))*2 if value is not None else 0\n",
    "        threshold = 1 if threshold==0 else threshold\n",
    "        # print(threshold)\n",
    "        \n",
    "        if value is None:\n",
    "            temp = np.zeros(gridmap.shape)\n",
    "            plt.imshow(temp, interpolation='nearest', cmap=cmap, vmax=threshold, vmin=-threshold)\n",
    "        else:\n",
    "            plt.imshow(value, interpolation='nearest', cmap=cmap, vmax=threshold, vmin=-threshold)  \n",
    "        \n",
    "        structure = gridmap if gridmap is not None else np.full(gridmap.shape,'E')\n",
    "        \n",
    "        # Get the axes\n",
    "        ax = fig.axes[0]\n",
    "\n",
    "        # Major ticks\n",
    "        ax.set_xticks(np.arange(0, n_cols, 1))\n",
    "        ax.set_yticks(np.arange(0, n_rows, 1))\n",
    "\n",
    "        # # Labels for major ticks\n",
    "        # ax.set_xticklabels(np.arange(n_cols+1), fontsize=fontsize)\n",
    "        # ax.set_yticklabels(np.arange(n_rows+1), fontsize=fontsize)\n",
    "\n",
    "        # Minor ticks\n",
    "        ax.set_xticks(np.arange(-.5, n_cols, 1), minor=True)\n",
    "        ax.set_yticks(np.arange(-.5, n_rows, 1), minor=True)\n",
    "        \n",
    "        # Move x axis to the top\n",
    "        ax.xaxis.tick_top()\n",
    "    \n",
    "        # Gridlines based on minor ticks\n",
    "        ax.grid(which='minor', color='lightgray', linestyle='-', linewidth=1,alpha=0.5)\n",
    "\n",
    "        ax.spines['right'].set_visible(False)\n",
    "        ax.spines['top'].set_visible(False)\n",
    "        ax.spines['bottom'].set_visible(False)\n",
    "        ax.spines['left'].set_visible(False)\n",
    "        \n",
    "        ax.tick_params(bottom='off', left='off')\n",
    "        \n",
    "        # Draw the agent\n",
    "        if agent: \n",
    "            if diff_agent:\n",
    "                # print('diff true')\n",
    "                circle=plt.Circle((agent[1],agent[0]-0.2),0.26,color='lightgreen',ec='orange',lw=4)\n",
    "                plt.gcf().gca().add_artist(circle)\n",
    "            else:\n",
    "                circle=plt.Circle((agent[1],agent[0]-0.2),0.26,color='lightblue',ec='purple',lw=2)\n",
    "                plt.gcf().gca().add_artist(circle)\n",
    "\n",
    "        for i, j in states(gridmap):  # For all states\n",
    "            if (i,j) in path:\n",
    "                if 'u' in path[i,j]:\n",
    "                    rect=plt.Rectangle((j-0.4,i+0.4),+0.8,-0.9,color='lightcoral')\n",
    "                    plt.gcf().gca().add_artist(rect)\n",
    "                if 'd' in path[i,j]:\n",
    "                    rect=plt.Rectangle((j-0.4,i-0.4),+0.8,+0.9,color='lightcoral')\n",
    "                    plt.gcf().gca().add_artist(rect)\n",
    "                if 'r' in path[i,j]:\n",
    "                    rect=plt.Rectangle((j-0.4,i-0.4),+0.9,+0.8,color='lightcoral')\n",
    "                    plt.gcf().gca().add_artist(rect)\n",
    "                if 'l' in path[i,j]:\n",
    "                    rect=plt.Rectangle((j+0.4,i-0.4),-0.9,+0.8,color='lightcoral')\n",
    "                    plt.gcf().gca().add_artist(rect)\n",
    "                    \n",
    "            cell_type = gridmap[i,j]\n",
    "            \n",
    "            # If the background is too dark, make the text white\n",
    "            if value is not None:\n",
    "                color = 'white' if np.abs(value[i, j]) > threshold/2 else 'black'\n",
    "            else:        \n",
    "                color = 'white' if np.abs(temp[i, j]) > threshold/2 else 'black'\n",
    "            \n",
    "            if (policy is None and value is not None) or dispval:  # Print the values       \n",
    "                v = str(value[i,j]).zfill(3)\n",
    "                plt.text(j, i+0.3, '$'+v+'$',horizontalalignment='center',color=color,fontname=fontname,fontsize=fontsize+2)  # Value\n",
    "             \n",
    "            # If there is an obstacle\n",
    "            if cell_type == 'B':\n",
    "                circle=plt.Circle((j,i),0.49,color='k',alpha=0.5,fc='darkgray')\n",
    "                plt.gcf().gca().add_artist(circle)\n",
    "            \n",
    "            # If it is a trap cell\n",
    "            elif cell_type == 'T':\n",
    "                circle=plt.Circle((j,i),0.49,color='k',fill=False)\n",
    "                plt.gcf().gca().add_artist(circle)\n",
    "                \n",
    "            # If it is a directional cell (See the description of the class attribute 'structure' for details)\n",
    "            elif cell_type == 'U':\n",
    "                triangle = plt.Polygon([[j,i],[j-0.5,i+0.5],[j+0.5,i+0.5]],alpha=0.5, color='gray')\n",
    "                plt.gca().add_patch(triangle)\n",
    "            elif cell_type == 'D':\n",
    "                triangle = plt.Polygon([[j,i],[j-0.5,i-0.5],[j+0.5,i-0.5]],alpha=0.5, color='gray')\n",
    "                plt.gca().add_patch(triangle)\n",
    "            elif cell_type == 'R':\n",
    "                triangle = plt.Polygon([[j,i],[j-0.5,i+0.5],[j-0.5,i-0.5]],alpha=0.5, color='gray')\n",
    "                plt.gca().add_patch(triangle)\n",
    "            elif cell_type == 'L':\n",
    "                triangle = plt.Polygon([[j,i],[j+0.5,i+0.5],[j+0.5,i-0.5]],alpha=0.5, color='gray')\n",
    "                plt.gca().add_patch(triangle)\n",
    "            \n",
    "            # Draw the arrows to visualize the policy\n",
    "            elif (value is None or value[i,j] > 0) and policy is not None:  \n",
    "                if len(policy[i,j]) >= len(A):\n",
    "                    plt.text(j, i-0.05,r'$\\epsilon_'+str(policy[i,j]-len(A))+'$', horizontalalignment='center',color=color,fontsize=fontsize+5)\n",
    "                elif not policy[i,j] == 'o':\n",
    "                    action_name = policy[i,j]\n",
    "                    #print(action_name)\n",
    "                    if action_name == 'n':\n",
    "                        plt.arrow(j,i,0,-0.2,head_width=.2,head_length=.15,color=color)\n",
    "                    elif action_name == 's':\n",
    "                        plt.arrow(j,i-.3,0,0.2,head_width=.2,head_length=.15,color=color)\n",
    "                    elif action_name == 'e':\n",
    "                        plt.arrow(j-.15,i-0.15,0.2,0,head_width=.2,head_length=.15,color=color)\n",
    "                    elif action_name == 'w':\n",
    "                        plt.arrow(j+.15,i-0.15,-0.2,0,head_width=.2,head_length=.15,color=color)\n",
    "            \n",
    "            # Plot the labels\n",
    "            # surplus = 0.2 if (i,j) in hidden else 0\n",
    "            # if self.label[i,j] in self.lcmap:\n",
    "            #     circle=plt.Circle((j, i+0.24-surplus),0.2+surplus/2,color=self.lcmap[self.label[i,j]])\n",
    "            #     plt.gcf().gca().add_artist(circle)\n",
    "            # if self.label[i,j]:\n",
    "            #     plt.text(j, i+0.4-surplus,'$'+','.join(self.label[i,j])+'$',horizontalalignment='center',color=color,fontproperties=f,fontname=fontname,fontsize=fontsize+5+surplus*10)\n",
    "            \n",
    "        if save:\n",
    "            plt.savefig(save,bbox_inches='tight')\n",
    "            \n",
    "def plot_list(gridmap, value_list,policy_list=None):\n",
    "        \"\"\"Plots the list of state values with a slider.\n",
    "        \n",
    "        Parameters\n",
    "        ----------\n",
    "        value_list : list of arrays with shape=(n_mdps,n_qs,n_rows,n_cols) \n",
    "            The list value functions.\n",
    "            \n",
    "        policy_list : list of arrays with  shape=(n_mdps,n_qs,n_rows,n_cols) \n",
    "            The policy to be visualized. It is optional.\n",
    "        \"\"\"\n",
    "        # A helper function for the slider\n",
    "        def plot_value(alpha):\n",
    "            if policy_list is not None:\n",
    "                plot(gridmap, value=value_list[alpha], policy=policy_list[alpha], dispval=True)\n",
    "            else:\n",
    "                plot(gridmap, value=value_list[alpha], dispval=True)\n",
    "            \n",
    "        T = value_list.shape[0]\n",
    "        w=IntSlider(value=0,min=0,max=T-1)\n",
    "        \n",
    "        interact(plot_value,alpha=w)"
   ]
  },
  {
   "cell_type": "code",
   "execution_count": 105,
   "id": "b4868f4a-e009-45c6-bd6e-bb643c0a7990",
   "metadata": {
    "collapsed": true,
    "jupyter": {
     "outputs_hidden": true
    },
    "tags": []
   },
   "outputs": [
    {
     "data": {
      "text/plain": [
       "['States\\n',\n",
       " '25\\n',\n",
       " 'Alpha values\\n',\n",
       " '[0.01, 0.05, 0.1, 0.2, 0.3, 0.5, 1.0]\\n',\n",
       " 'Policy\\n',\n",
       " '[south, south, obstacle, south, south, south, south, south, south, south, obstacle, south, south, obstacle, south, north, south, south, east, south, obstacle, south, obstacle, east, null]\\n',\n",
       " '[south, south, obstacle, south, south, south, south, south, south, south, obstacle, south, south, obstacle, south, north, south, south, north, south, obstacle, south, obstacle, east, null]\\n',\n",
       " '[south, south, obstacle, south, south, south, south, south, south, south, obstacle, south, south, obstacle, south, north, south, south, north, south, obstacle, south, obstacle, east, null]\\n',\n",
       " '[south, south, obstacle, south, south, south, south, south, south, south, obstacle, south, south, obstacle, south, north, south, south, north, south, obstacle, south, obstacle, east, null]\\n',\n",
       " '[south, south, obstacle, south, south, south, south, south, south, south, obstacle, south, south, obstacle, south, north, south, south, north, south, obstacle, south, obstacle, east, null]\\n',\n",
       " '[south, south, obstacle, south, south, south, south, south, south, south, obstacle, south, south, obstacle, south, north, south, south, north, south, obstacle, south, obstacle, east, null]\\n',\n",
       " '[south, south, obstacle, south, south, south, south, north, south, south, obstacle, south, south, obstacle, south, north, south, south, north, south, obstacle, south, obstacle, east, null]\\n',\n",
       " 'Max number of actions\\n',\n",
       " '4\\n',\n",
       " '35.069,20.000,20.000,20.000,34.038,20.000,20.000,0.000,30.000,0.000,0.000,0.000,32.000,7.281,20.000,0.000,20.000,7.323,20.000,0.000,34.343,20.000,20.000,20.000,33.381,20.000,20.000,0.000,32.100,20.000,20.000,0.000,31.000,5.623,20.000,0.000,20.000,6.003,20.000,0.000,30.000,0.000,0.000,0.000,33.111,20.000,20.000,0.000,32.000,20.000,20.000,0.000,30.000,0.000,0.000,0.000,20.000,4.422,20.000,0.000,34.000,20.000,20.000,3.111,33.111,20.000,20.000,0.000,31.000,20.000,20.000,0.000,20.000,20.000,20.000,0.000,20.000,3.111,20.000,0.000,30.000,0.000,0.000,0.000,33.111,20.000,20.000,0.000,30.000,0.000,0.000,0.000,3.111,20.000,20.000,0.000,0.000,0.000,0.000,0.000,\\n',\n",
       " '34.678,18.886,20.000,20.000,32.488,20.000,20.000,0.000,30.000,0.000,0.000,0.000,22.400,6.313,20.000,0.000,20.000,6.382,20.000,0.000,34.069,15.119,20.000,20.000,33.076,20.000,20.000,0.000,32.020,14.865,20.000,0.000,31.000,4.667,20.000,0.000,20.000,5.201,20.000,0.000,30.000,0.000,0.000,0.000,32.582,20.000,20.000,0.000,31.200,14.864,20.000,0.000,30.000,0.000,0.000,0.000,20.000,3.644,20.000,0.000,33.200,14.949,20.000,2.222,32.222,20.000,20.000,0.000,31.000,14.864,20.000,0.000,20.000,20.000,11.923,0.000,20.000,2.222,20.000,0.000,30.000,0.000,0.000,0.000,32.222,20.000,20.000,0.000,30.000,0.000,0.000,0.000,2.222,20.000,11.690,0.000,0.000,0.000,0.000,0.000,\\n',\n",
       " '33.339,15.120,20.000,20.000,31.744,20.000,20.000,0.000,30.000,0.000,0.000,0.000,21.200,5.744,20.000,0.000,20.000,6.005,20.000,0.000,34.034,10.381,20.000,20.000,33.038,20.000,20.000,0.000,32.010,10.072,20.000,0.000,31.000,4.333,20.000,0.000,20.000,4.623,20.000,0.000,30.000,0.000,0.000,0.000,32.291,20.000,20.000,0.000,31.100,9.749,20.000,0.000,30.000,0.000,0.000,0.000,20.000,3.322,20.000,0.000,33.100,9.834,20.000,2.111,32.111,20.000,20.000,0.000,31.000,9.760,20.000,0.000,20.000,20.000,7.961,0.000,20.000,2.111,20.000,0.000,30.000,0.000,0.000,0.000,32.111,20.000,20.000,0.000,30.000,0.000,0.000,0.000,2.111,20.000,8.045,0.000,0.000,0.000,0.000,0.000,\\n',\n",
       " '32.670,10.303,20.000,20.000,31.372,19.304,20.000,0.000,30.000,0.000,0.000,0.000,20.600,5.222,19.186,0.000,20.000,5.503,20.000,0.000,34.017,5.691,20.000,20.000,33.019,19.304,20.000,0.000,30.865,6.536,10.500,0.000,25.500,2.667,19.386,0.000,20.000,4.312,20.000,0.000,30.000,0.000,0.000,0.000,32.146,19.265,20.000,0.000,31.050,5.875,18.200,0.000,30.000,0.000,0.000,0.000,20.000,3.111,20.000,0.000,32.760,5.417,19.186,1.556,31.456,19.226,20.000,0.000,25.500,5.380,20.000,0.000,19.186,19.186,4.481,0.000,19.186,1.556,20.000,0.000,30.000,0.000,0.000,0.000,31.556,19.186,20.000,0.000,30.000,0.000,0.000,0.000,1.556,19.186,5.022,0.000,0.000,0.000,0.000,0.000,\\n',\n",
       " '32.446,7.535,20.000,20.000,31.248,17.560,20.000,0.000,30.000,0.000,0.000,0.000,20.400,4.148,17.362,0.000,20.000,5.335,20.000,0.000,33.232,4.127,20.000,20.000,30.703,17.560,20.000,0.000,27.243,5.357,7.333,0.000,23.667,2.111,17.628,0.000,20.000,4.111,20.000,0.000,30.000,0.000,0.000,0.000,32.097,17.494,20.000,0.000,31.033,4.583,12.800,0.000,30.000,0.000,0.000,0.000,20.000,2.741,20.000,0.000,31.110,3.945,17.362,1.370,27.637,17.428,20.000,0.000,23.124,3.920,17.020,0.000,17.362,17.362,3.320,0.000,17.362,1.370,20.000,0.000,30.000,0.000,0.000,0.000,31.370,17.362,20.000,0.000,30.000,0.000,0.000,0.000,1.370,17.362,4.015,0.000,0.000,0.000,0.000,0.000,\\n',\n",
       " '32.268,5.321,20.000,20.000,31.149,14.400,20.000,0.000,30.000,0.000,0.000,0.000,20.240,3.289,14.134,0.000,20.000,4.889,19.705,0.000,28.424,2.876,20.000,20.000,26.422,14.399,20.000,0.000,24.346,4.414,4.800,0.000,22.200,1.667,14.394,0.000,20.000,3.667,19.711,0.000,30.000,0.000,0.000,0.000,32.058,14.311,20.000,0.000,31.020,3.550,8.480,0.000,30.000,0.000,0.000,0.000,19.705,2.444,19.600,0.000,26.062,2.767,14.134,1.222,22.839,14.222,20.000,0.000,18.717,2.752,11.412,0.000,14.134,14.134,2.392,0.000,14.134,1.222,19.477,0.000,30.000,0.000,0.000,0.000,31.222,14.134,20.000,0.000,30.000,0.000,0.000,0.000,1.222,14.134,3.209,0.000,0.000,0.000,0.000,0.000,\\n',\n",
       " '30.387,3.661,20.000,20.000,30.164,9.443,20.000,0.000,30.000,0.000,0.000,0.000,19.587,2.644,8.784,0.000,19.427,4.444,14.867,0.000,23.474,1.938,20.000,20.000,22.218,9.521,20.000,0.000,21.009,3.527,2.900,0.000,19.653,1.333,9.064,0.000,18.097,3.333,14.894,0.000,30.000,0.000,0.000,0.000,28.699,9.216,18.100,0.000,29.175,2.675,5.240,0.000,30.000,0.000,0.000,0.000,14.867,2.222,14.025,0.000,17.095,1.883,8.784,1.111,14.685,8.970,17.345,0.000,11.884,1.876,7.206,0.000,8.895,8.895,1.696,0.000,8.784,1.111,13.424,0.000,30.000,0.000,0.000,0.000,31.111,8.784,15.868,0.000,30.000,0.000,0.000,0.000,1.111,8.784,2.504,0.000,0.000,0.000,0.000,0.000,\\n',\n",
       " '\\n']"
      ]
     },
     "execution_count": 105,
     "metadata": {},
     "output_type": "execute_result"
    }
   ],
   "source": [
    "# Using readlines()\n",
    "\n",
    "file1 = open('cvar_out_25.out', 'r')\n",
    "Lines = file1.readlines()\n",
    "Lines"
   ]
  },
  {
   "cell_type": "code",
   "execution_count": 106,
   "id": "f2de8b3e-88d8-4f8b-b2f2-cfc512748f23",
   "metadata": {
    "tags": []
   },
   "outputs": [],
   "source": [
    "rows=cols = int(math.sqrt(float(Lines[1][:-1])))"
   ]
  },
  {
   "cell_type": "code",
   "execution_count": 107,
   "id": "dce72128-8efe-4f6e-bff9-b411a096ab14",
   "metadata": {},
   "outputs": [
    {
     "data": {
      "text/plain": [
       "[0.01, 0.05, 0.1, 0.2, 0.3, 0.5, 1.0]"
      ]
     },
     "execution_count": 107,
     "metadata": {},
     "output_type": "execute_result"
    }
   ],
   "source": [
    "alpha_val = Lines[3].strip('[]').replace(' ', '').split(',')\n",
    "alpha_val[-1] = alpha_val[-1][:-2]\n",
    "alpha_val = [float(e) for e in alpha_val]\n",
    "alpha_val"
   ]
  },
  {
   "cell_type": "code",
   "execution_count": 108,
   "id": "0aa93f62-fab1-4eac-9f2e-fff9b64d2bd0",
   "metadata": {},
   "outputs": [
    {
     "data": {
      "text/plain": [
       "4"
      ]
     },
     "execution_count": 108,
     "metadata": {},
     "output_type": "execute_result"
    }
   ],
   "source": [
    "nactions = int(float(Lines[13][:-1]))\n",
    "nactions"
   ]
  },
  {
   "cell_type": "code",
   "execution_count": 109,
   "id": "dbc3316e-789c-4475-a86a-e003ac239e5e",
   "metadata": {
    "tags": []
   },
   "outputs": [
    {
     "name": "stderr",
     "output_type": "stream",
     "text": [
      "/root/.venvs/csrl/lib/python3.6/site-packages/ipykernel_launcher.py:11: RuntimeWarning: All-NaN slice encountered\n",
      "  # This is added back by InteractiveShellApp.init_path()\n"
     ]
    },
    {
     "data": {
      "text/plain": [
       "array([30.387,  3.661, 20.   , 20.   ])"
      ]
     },
     "execution_count": 109,
     "metadata": {},
     "output_type": "execute_result"
    }
   ],
   "source": [
    "action_val = np.zeros([len(alpha_val),rows,cols,nactions])\n",
    "min_val = np.zeros([len(alpha_val),rows, cols])\n",
    "\n",
    "start_line = 14\n",
    "for a in range(len(alpha_val)):\n",
    "    temp = Lines[start_line+a].strip('[]').replace(' ', '').split(',')\n",
    "    index = 0\n",
    "    for i in range(rows):\n",
    "        for j in range(cols):\n",
    "            action_val[a][i][j] = [float(e) if float(e) !=0 else np.nan for e in temp[index:index+nactions]]\n",
    "            min_val[a][i][j] = np.nanmin(action_val[a][i][j])\n",
    "\n",
    "            index += nactions\n",
    "\n",
    "action_val[6][0][0]"
   ]
  },
  {
   "cell_type": "code",
   "execution_count": 131,
   "id": "b76b80d3-cc7f-4f0c-96e3-22e03545f1bd",
   "metadata": {},
   "outputs": [
    {
     "name": "stdout",
     "output_type": "stream",
     "text": [
      "30.0\n",
      "[0.01, 0.05, 0.1, 0.2, 0.3, 0.5, 1.0]\n"
     ]
    },
    {
     "data": {
      "application/vnd.jupyter.widget-view+json": {
       "model_id": "0186d14d38b64bfda5ae3468e0e482f7",
       "version_major": 2,
       "version_minor": 0
      },
      "text/plain": [
       "interactive(children=(IntSlider(value=0, description='alpha', max=6), Output()), _dom_classes=('widget-interac…"
      ]
     },
     "metadata": {},
     "output_type": "display_data"
    }
   ],
   "source": [
    "gridmap = np.zeros([rows,cols], dtype=str) \n",
    "policy= np.zeros([len(alpha_val),rows,cols], dtype=str) \n",
    "\n",
    "start_line = 5\n",
    "for a in range(len(alpha_val)):\n",
    "    list_policy = Lines[start_line+a].strip('[]').replace(' ', '').split(',')\n",
    "    index = 0\n",
    "    for i in range(rows):\n",
    "        for j in range(cols):\n",
    "            if a == 0:\n",
    "                gridmap[i][j] = 'B' if list_policy[index] == 'obstacle' else 'E'\n",
    "            policy[a][i][j] = list_policy[index]\n",
    "            index +=1\n",
    "\n",
    "print(min_val[6][0][2]) \n",
    "print(alpha_val)\n",
    "plot_list(gridmap, min_val, policy_list=policy)\n",
    "# plot(gridmap, figsize=8, policy =policy)"
   ]
  },
  {
   "cell_type": "markdown",
   "id": "8275ae7e-dd8b-4ec3-ad67-3d6687651dc7",
   "metadata": {},
   "source": [
    "### Plotting Traditional VI "
   ]
  },
  {
   "cell_type": "code",
   "execution_count": 128,
   "id": "03be2f15-fce2-4211-9c6d-46e5ad65fd3a",
   "metadata": {},
   "outputs": [
    {
     "data": {
      "text/plain": [
       "array([['e', 's', 'o', 'e', 's'],\n",
       "       ['e', 'e', 'e', 'n', 's'],\n",
       "       ['o', 's', 'n', 'o', 's'],\n",
       "       ['e', 'e', 'e', 'e', 's'],\n",
       "       ['o', 'n', 'o', 'e', 'n']], dtype='<U1')"
      ]
     },
     "execution_count": 128,
     "metadata": {},
     "output_type": "execute_result"
    }
   ],
   "source": [
    "file2= open('strat_25.dot', 'r')\n",
    "Lines2 = file2.readlines()\n",
    "\n",
    "rows2=cols2 = int(math.sqrt(float(Lines2[1][:-1])))\n",
    "list_policy2 = Lines2[3].strip('[]').replace(' ', '').split(',')\n",
    "\n",
    "gridmap2 = np.zeros([rows,cols], dtype=str) \n",
    "policy2= np.zeros([rows,cols], dtype=str) \n",
    "index2 = 0\n",
    "for i in range(rows2):\n",
    "    for j in range(cols2):\n",
    "        gridmap2[i][j] = 'B' if list_policy2[index2] == 'obstacle' else 'E'\n",
    "        policy2[i][j] = list_policy2[index2]\n",
    "        index2 +=1\n",
    "policy2"
   ]
  },
  {
   "cell_type": "code",
   "execution_count": 130,
   "id": "ca9d3456-85f5-454a-9f50-6a998bb0eaf5",
   "metadata": {},
   "outputs": [
    {
     "name": "stdout",
     "output_type": "stream",
     "text": [
      "[13.286 12.286 30.     5.694  4.444]\n"
     ]
    },
    {
     "data": {
      "image/png": "[encoded data removed]",
      "text/plain": [
       "<Figure size 576x576 with 1 Axes>"
      ]
     },
     "metadata": {
      "needs_background": "light"
     },
     "output_type": "display_data"
    }
   ],
   "source": [
    "min_val2 = np.zeros([rows, cols])\n",
    "\n",
    "start_line2 = 6\n",
    "temp_list= Lines2[start_line2].strip('[]').replace(' ', '').split(',')\n",
    "index = 0\n",
    "\n",
    "for i in range(rows):\n",
    "        min_val2[i] = [float(e) for e in temp_list[index:index+cols]]\n",
    "        index += cols\n",
    "\n",
    "print(min_val2[0])\n",
    "plot(gridmap2, figsize=8, policy =policy2, value=min_val2, dispval=True)      \n",
    "# plot(gridmap2, figsize=8, policy =policy2)"
   ]
  },
  {
   "cell_type": "code",
   "execution_count": null,
   "id": "bd82c555-36ae-4221-9b3d-17ed5fd8e962",
   "metadata": {},
   "outputs": [],
   "source": []
  }
 ],
 "metadata": {
  "kernelspec": {
   "display_name": "Python 3",
   "language": "python",
   "name": "python3"
  },
  "language_info": {
   "codemirror_mode": {
    "name": "ipython",
    "version": 3
   },
   "file_extension": ".py",
   "mimetype": "text/x-python",
   "name": "python",
   "nbconvert_exporter": "python",
   "pygments_lexer": "ipython3",
   "version": "3.6.9"
  }
 },
 "nbformat": 4,
 "nbformat_minor": 5
}
