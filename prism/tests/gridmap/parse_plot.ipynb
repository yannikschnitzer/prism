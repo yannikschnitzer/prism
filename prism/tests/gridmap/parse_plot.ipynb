{
 "cells": [
  {
   "cell_type": "code",
   "execution_count": 30,
   "id": "285bfa75-915e-4dba-9250-5b51fd0142dc",
   "metadata": {},
   "outputs": [],
   "source": [
    "import sys, os \n",
    "import numpy as np\n",
    "import math\n",
    "import glob\n",
    "\n",
    "import matplotlib.pyplot as plt\n",
    "from itertools import product\n",
    "import importlib\n",
    "\n",
    "if importlib.util.find_spec('matplotlib'):\n",
    "    import matplotlib\n",
    "    import matplotlib.pyplot as plt\n",
    "    from matplotlib.font_manager import FontProperties\n",
    "    matplotlib.font_manager._rebuild()\n",
    "\n",
    "if importlib.util.find_spec('ipywidgets'):\n",
    "    from ipywidgets.widgets import IntSlider\n",
    "    from ipywidgets import interact"
   ]
  },
  {
   "cell_type": "code",
   "execution_count": 31,
   "id": "61f6c32b-e76a-4eee-9030-5954ad27fefb",
   "metadata": {
    "jupyter": {
     "source_hidden": true
    },
    "tags": []
   },
   "outputs": [],
   "source": [
    "# credit to Alper Kamil\n",
    "def states(gridmap):\n",
    "    \"\"\"State generator.\n",
    "\n",
    "    Yields\n",
    "    ------\n",
    "    state: tuple\n",
    "        State coordinates (i,j).\n",
    "    \"\"\"\n",
    "    n_rows, n_cols = gridmap.shape\n",
    "    for state in product(range(n_rows),range(n_cols)):\n",
    "        yield state\n",
    "        \n",
    "def plot(gridmap, figsize =12, diff_agent=False,value=None, policy=None, agent=[0,0], dispval=False, save=None, hidden=[], path={}):\n",
    "        \"\"\"Plots the values of the states as a color matrix.\n",
    "        \n",
    "        Parameters\n",
    "        ----------\n",
    "        value : array, shape=(n_mdps,n_qs,n_rows,n_cols) \n",
    "            The value function. If it is None, the reward function will be plotted.\n",
    "            \n",
    "        policy : array, shape=(n_mdps,n_qs,n_rows,n_cols) \n",
    "            The policy to be visualized. It is optional.\n",
    "            \n",
    "        agent : tuple\n",
    "            The position of the agent to be plotted. It is optional.\n",
    "        \n",
    "        save : str\n",
    "            The name of the file the image will be saved to. It is optional\n",
    "        \"\"\"\n",
    "        \n",
    "        f=FontProperties(weight='bold')\n",
    "        fontname = 'Times New Roman'\n",
    "        fontsize = 20\n",
    "        \n",
    "        # Up, Down, Right, Left\n",
    "        A = ['U','D','R','L']  \n",
    "        \n",
    "        # Dimensions\n",
    "        n_rows, n_cols = gridmap.shape\n",
    "\n",
    "        if value is not None:\n",
    "            value = np.copy(value)\n",
    "            for h in hidden:\n",
    "                value[h] = 0\n",
    "        \n",
    "        cmap =plt.cm.RdBu\n",
    "        # Plot\n",
    "        fig = plt.figure(figsize=(figsize,figsize))\n",
    "        plt.rc('text', usetex=True)\n",
    "        threshold = np.nanmax(np.abs(value))*2 if value is not None else 0\n",
    "        threshold = 1 if threshold==0 else threshold\n",
    "        # print(threshold)\n",
    "        \n",
    "        if value is None:\n",
    "            temp = np.zeros(gridmap.shape)\n",
    "            plt.imshow(temp, interpolation='nearest', cmap=cmap, vmax=threshold, vmin=-threshold)\n",
    "        else:\n",
    "            plt.imshow(value, interpolation='nearest', cmap=cmap, vmax=threshold, vmin=-threshold)  \n",
    "        \n",
    "        structure = gridmap if gridmap is not None else np.full(gridmap.shape,'E')\n",
    "        \n",
    "        # Get the axes\n",
    "        ax = fig.axes[0]\n",
    "\n",
    "        # Major ticks\n",
    "        ax.set_xticks(np.arange(0, n_cols, 1))\n",
    "        ax.set_yticks(np.arange(0, n_rows, 1))\n",
    "\n",
    "        # # Labels for major ticks\n",
    "        # ax.set_xticklabels(np.arange(n_cols+1), fontsize=fontsize)\n",
    "        # ax.set_yticklabels(np.arange(n_rows+1), fontsize=fontsize)\n",
    "\n",
    "        # Minor ticks\n",
    "        ax.set_xticks(np.arange(-.5, n_cols, 1), minor=True)\n",
    "        ax.set_yticks(np.arange(-.5, n_rows, 1), minor=True)\n",
    "        \n",
    "        # Move x axis to the top\n",
    "        ax.xaxis.tick_top()\n",
    "    \n",
    "        # Gridlines based on minor ticks\n",
    "        ax.grid(which='minor', color='lightgray', linestyle='-', linewidth=1,alpha=0.5)\n",
    "\n",
    "        ax.spines['right'].set_visible(False)\n",
    "        ax.spines['top'].set_visible(False)\n",
    "        ax.spines['bottom'].set_visible(False)\n",
    "        ax.spines['left'].set_visible(False)\n",
    "        \n",
    "        ax.tick_params(bottom='off', left='off')\n",
    "        \n",
    "        # Draw the agent\n",
    "        if agent: \n",
    "            if diff_agent:\n",
    "                # print('diff true')\n",
    "                circle=plt.Circle((agent[1],agent[0]-0.2),0.26,color='lightgreen',alpha = 0.5, ec='orange',lw=4)\n",
    "                plt.gcf().gca().add_artist(circle)\n",
    "            else:\n",
    "                circle=plt.Circle((agent[1],agent[0]-0.2),0.26,color='lightblue',alpha = 0.5, ec='purple',lw=2)\n",
    "                plt.gcf().gca().add_artist(circle)\n",
    "\n",
    "        for i, j in states(gridmap):  # For all states\n",
    "            if (i,j) in path:\n",
    "                if 'u' in path[i,j]:\n",
    "                    rect=plt.Rectangle((j-0.4,i+0.4),+0.8,-0.9,color='lightcoral')\n",
    "                    plt.gcf().gca().add_artist(rect)\n",
    "                if 'd' in path[i,j]:\n",
    "                    rect=plt.Rectangle((j-0.4,i-0.4),+0.8,+0.9,color='lightcoral')\n",
    "                    plt.gcf().gca().add_artist(rect)\n",
    "                if 'r' in path[i,j]:\n",
    "                    rect=plt.Rectangle((j-0.4,i-0.4),+0.9,+0.8,color='lightcoral')\n",
    "                    plt.gcf().gca().add_artist(rect)\n",
    "                if 'l' in path[i,j]:\n",
    "                    rect=plt.Rectangle((j+0.4,i-0.4),-0.9,+0.8,color='lightcoral')\n",
    "                    plt.gcf().gca().add_artist(rect)\n",
    "                    \n",
    "            cell_type = gridmap[i,j]\n",
    "            \n",
    "            # If the background is too dark, make the text white\n",
    "            if value is not None:\n",
    "                color = 'white' if np.abs(value[i, j]) > threshold/2 else 'black'\n",
    "            else:        \n",
    "                color = 'white' if np.abs(temp[i, j]) > threshold/2 else 'black'\n",
    "            \n",
    "            if (policy is None and value is not None) or dispval:  # Print the values       \n",
    "                v = str(value[i,j]).zfill(3)\n",
    "                plt.text(j, i+0.3, '$'+v+'$',horizontalalignment='center',color=color,fontname=fontname,fontsize=fontsize+2)  # Value\n",
    "             \n",
    "            # If there is an obstacle\n",
    "            if cell_type == 'B':\n",
    "                circle=plt.Circle((j,i),0.49,color='k',alpha=0.5,fc='darkgray')\n",
    "                plt.gcf().gca().add_artist(circle)\n",
    "            \n",
    "            # If it is a trap cell\n",
    "            elif cell_type == 'T':\n",
    "                circle=plt.Circle((j,i),0.49,color='k',fill=False)\n",
    "                plt.gcf().gca().add_artist(circle)\n",
    "                \n",
    "            # If it is a directional cell (See the description of the class attribute 'structure' for details)\n",
    "            elif cell_type == 'U':\n",
    "                triangle = plt.Polygon([[j,i],[j-0.5,i+0.5],[j+0.5,i+0.5]],alpha=0.5, color='gray')\n",
    "                plt.gca().add_patch(triangle)\n",
    "            elif cell_type == 'D':\n",
    "                triangle = plt.Polygon([[j,i],[j-0.5,i-0.5],[j+0.5,i-0.5]],alpha=0.5, color='gray')\n",
    "                plt.gca().add_patch(triangle)\n",
    "            elif cell_type == 'R':\n",
    "                triangle = plt.Polygon([[j,i],[j-0.5,i+0.5],[j-0.5,i-0.5]],alpha=0.5, color='gray')\n",
    "                plt.gca().add_patch(triangle)\n",
    "            elif cell_type == 'L':\n",
    "                triangle = plt.Polygon([[j,i],[j+0.5,i+0.5],[j+0.5,i-0.5]],alpha=0.5, color='gray')\n",
    "                plt.gca().add_patch(triangle)\n",
    "            \n",
    "            # Draw the arrows to visualize the policy\n",
    "            elif (value is None or value[i,j] > 0) and policy is not None:  \n",
    "                if len(policy[i,j]) >= len(A):\n",
    "                    plt.text(j, i-0.05,r'$\\epsilon_'+str(policy[i,j]-len(A))+'$', horizontalalignment='center',color=color,fontsize=fontsize+5)\n",
    "                elif not policy[i,j] == 'o':\n",
    "                    action_name = policy[i,j]\n",
    "                    #print(action_name)\n",
    "                    if action_name == 'n':\n",
    "                        plt.arrow(j,i,0,-0.2,head_width=.2,head_length=.15,color=color)\n",
    "                    elif action_name == 's':\n",
    "                        plt.arrow(j,i-.3,0,0.2,head_width=.2,head_length=.15,color=color)\n",
    "                    elif action_name == 'e':\n",
    "                        plt.arrow(j-.15,i-0.15,0.2,0,head_width=.2,head_length=.15,color=color)\n",
    "                    elif action_name == 'w':\n",
    "                        plt.arrow(j+.15,i-0.15,-0.2,0,head_width=.2,head_length=.15,color=color)\n",
    "            \n",
    "            # Plot the labels\n",
    "            # surplus = 0.2 if (i,j) in hidden else 0\n",
    "            # if self.label[i,j] in self.lcmap:\n",
    "            #     circle=plt.Circle((j, i+0.24-surplus),0.2+surplus/2,color=self.lcmap[self.label[i,j]])\n",
    "            #     plt.gcf().gca().add_artist(circle)\n",
    "            # if self.label[i,j]:\n",
    "            #     plt.text(j, i+0.4-surplus,'$'+','.join(self.label[i,j])+'$',horizontalalignment='center',color=color,fontproperties=f,fontname=fontname,fontsize=fontsize+5+surplus*10)\n",
    "            \n",
    "        if save:\n",
    "            plt.savefig(save,bbox_inches='tight')\n",
    "            \n",
    "def plot_list(gridmap, value_list,policy_list=None, index = None , alpha_val=None, figsize=8, dispval=True):\n",
    "        \"\"\"Plots the list of state values with a slider.\n",
    "        \n",
    "        Parameters\n",
    "        ----------\n",
    "        value_list : list of arrays with shape=(n_mdps,n_qs,n_rows,n_cols) \n",
    "            The list value functions.\n",
    "            \n",
    "        policy_list : list of arrays with  shape=(n_mdps,n_qs,n_rows,n_cols) \n",
    "            The policy to be visualized. It is optional.\n",
    "        \"\"\"\n",
    "        # A helper function for the slider\n",
    "        def plot_value(alpha):\n",
    "            if policy_list is not None:\n",
    "                print('alpha =:', alpha_val[alpha])\n",
    "                if index is not None:\n",
    "                    plot(gridmap,figsize=figsize, value=value_list[index[alpha_val[alpha]]], \n",
    "                                                   policy=policy_list[index[alpha_val[alpha]]], dispval=dispval)\n",
    "                else:\n",
    "                    plot(gridmap, figsize=figsize, value=value_list[alpha], policy=policy_list[alpha], dispval=dispval)\n",
    "            else:\n",
    "                plot(gridmap, value=value_list[alpha], dispval=dispval)\n",
    "            \n",
    "        T = value_list.shape[0]\n",
    "        w=IntSlider(value=0,min=0,max=T-1)\n",
    "        \n",
    "        interact(plot_value,alpha=w)  "
   ]
  },
  {
   "cell_type": "markdown",
   "id": "05af198e-2b32-4abf-8436-58c3f3b59414",
   "metadata": {},
   "source": [
    "### Setting Experiment size"
   ]
  },
  {
   "cell_type": "code",
   "execution_count": 32,
   "id": "c55dc449-b3ea-41df-ab6b-beff321ef314",
   "metadata": {},
   "outputs": [
    {
     "name": "stdout",
     "output_type": "stream",
     "text": [
      "states : 30.0 *30.0\n"
     ]
    }
   ],
   "source": [
    "exp=900\n",
    "method ='C51'\n",
    "print(f'states : {math.sqrt(exp)} *{math.sqrt(exp)}')\n",
    "if (math.sqrt(exp) < 16):\n",
    "    display_v = True\n",
    "    figsize= 10\n",
    "else:\n",
    "    figsize= 12\n",
    "    display_v=False"
   ]
  },
  {
   "cell_type": "markdown",
   "id": "34d66972-5ae8-467c-a430-a94726bf21e9",
   "metadata": {},
   "source": [
    "### Visualizing CVaR results"
   ]
  },
  {
   "cell_type": "code",
   "execution_count": 39,
   "id": "a4564e1a-af82-475d-b817-966a95992530",
   "metadata": {
    "tags": []
   },
   "outputs": [
    {
     "name": "stdout",
     "output_type": "stream",
     "text": [
      "files found : ['cvar_out_900_C51_1.0.out', 'cvar_out_900_C51_0.7.out', 'cvar_out_900_C51_0.5.out']\n"
     ]
    },
    {
     "name": "stderr",
     "output_type": "stream",
     "text": [
      "/root/.venvs/csrl/lib/python3.6/site-packages/ipykernel_launcher.py:41: RuntimeWarning: All-NaN slice encountered\n"
     ]
    }
   ],
   "source": [
    "list_of_files = glob.glob(f'cvar_out_{exp}_{method}_*')    # create the list of file\n",
    "\n",
    "if len(list_of_files) >0:\n",
    "    print('files found :', list_of_files)\n",
    "    alpha2file ={}\n",
    "    # read all the files :\n",
    "    list_of_lines = []\n",
    "    for file_name in list_of_files:\n",
    "        temp_f = open(file_name, 'r')\n",
    "        list_of_lines.append(temp_f.readlines())\n",
    "        temp_f.close()\n",
    "\n",
    "    # read all the alphas so they can be sorted\n",
    "    list_of_policies = []\n",
    "    rows=cols = int(math.sqrt(float(list_of_lines[0][1])))\n",
    "    nactions = int(list_of_lines[0][7])\n",
    "    gridmap = np.zeros([rows,cols], dtype=str) \n",
    "    policy= np.zeros([len(list_of_files),rows,cols], dtype=str) \n",
    "    action_val = np.zeros([len(list_of_files),rows,cols,nactions])\n",
    "    min_val = np.zeros([len(list_of_files),rows, cols])\n",
    "\n",
    "    for file_index,Lines in enumerate(list_of_lines):        \n",
    "        # save alpha\n",
    "        alpha = float(Lines[5])\n",
    "        alpha2file[alpha] = file_index \n",
    "\n",
    "        list_policy = Lines[3].strip('[]').replace(' ', '').split(',')\n",
    "        index = 0\n",
    "        for i in range(rows):\n",
    "            for j in range(cols):\n",
    "                if file_index == 0:\n",
    "                    gridmap[i][j] = 'B' if list_policy[index] == 'obstacle' else 'E'\n",
    "                policy[file_index][i][j] = list_policy[index]\n",
    "                index +=1\n",
    "\n",
    "        temp = Lines[8].strip('[]').replace(' ', '').split(',')\n",
    "        index = 0\n",
    "        for i in range(rows):\n",
    "            for j in range(cols):\n",
    "                action_val[file_index][i][j] = [float(e) if float(e) !=0 else np.nan for e in temp[index:index+nactions]]\n",
    "                min_val[file_index][i][j] = np.nanmin(action_val[file_index][i][j])\n",
    "\n",
    "                index += nactions"
   ]
  },
  {
   "cell_type": "code",
   "execution_count": 40,
   "id": "016e10fd-361f-4213-a30c-9dcac18703be",
   "metadata": {},
   "outputs": [
    {
     "name": "stdout",
     "output_type": "stream",
     "text": [
      "[1.0, 0.7, 0.5]\n"
     ]
    },
    {
     "data": {
      "text/plain": [
       "[0.5, 0.7, 1.0]"
      ]
     },
     "execution_count": 40,
     "metadata": {},
     "output_type": "execute_result"
    }
   ],
   "source": [
    "alpha_val = list(alpha2file.keys())\n",
    "print(alpha_val)\n",
    "alpha_val.sort()\n",
    "alpha_val"
   ]
  },
  {
   "cell_type": "code",
   "execution_count": 41,
   "id": "690c16db-45f4-4468-8911-552630d337eb",
   "metadata": {},
   "outputs": [
    {
     "name": "stdout",
     "output_type": "stream",
     "text": [
      "[0.5, 0.7, 1.0]\n"
     ]
    },
    {
     "data": {
      "application/vnd.jupyter.widget-view+json": {
       "model_id": "efcfc8ce46d04c0f90f2b118d63daf21",
       "version_major": 2,
       "version_minor": 0
      },
      "text/plain": [
       "interactive(children=(IntSlider(value=0, description='alpha', max=2), Output()), _dom_classes=('widget-interac…"
      ]
     },
     "metadata": {},
     "output_type": "display_data"
    }
   ],
   "source": [
    "# print(min_val[alpha2file[1.0]][0][2]) \n",
    "print(alpha_val)\n",
    "plot_list(gridmap, min_val, figsize=figsize, policy_list=policy, alpha_val=alpha_val, index=alpha2file, dispval=display_v)"
   ]
  },
  {
   "cell_type": "code",
   "execution_count": 7,
   "id": "b76b80d3-cc7f-4f0c-96e3-22e03545f1bd",
   "metadata": {
    "collapsed": true,
    "jupyter": {
     "outputs_hidden": true
    },
    "tags": []
   },
   "outputs": [
    {
     "name": "stdout",
     "output_type": "stream",
     "text": [
      "[0.7]\n"
     ]
    },
    {
     "data": {
      "application/vnd.jupyter.widget-view+json": {
       "model_id": "8c52c39e35104133b68d81e52d3af307",
       "version_major": 2,
       "version_minor": 0
      },
      "text/plain": [
       "interactive(children=(IntSlider(value=0, description='alpha', max=0), Output()), _dom_classes=('widget-interac…"
      ]
     },
     "metadata": {},
     "output_type": "display_data"
    }
   ],
   "source": [
    "# print(min_val[alpha2file[1.0]][0][2]) \n",
    "print(alpha_val)\n",
    "plot_list(gridmap, min_val, figsize=figsize, policy_list=policy, alpha_val=alpha_val, index=alpha2file, dispval=display_v)\n",
    "# plot(gridmap, figsize=8, policy =policy)"
   ]
  },
  {
   "cell_type": "markdown",
   "id": "8275ae7e-dd8b-4ec3-ad67-3d6687651dc7",
   "metadata": {},
   "source": [
    "### Plotting Traditional VI "
   ]
  },
  {
   "cell_type": "code",
   "execution_count": 46,
   "id": "03be2f15-fce2-4211-9c6d-46e5ad65fd3a",
   "metadata": {
    "tags": []
   },
   "outputs": [],
   "source": [
    "file2= open(f'strat_{exp}.dot', 'r')\n",
    "Lines2 = file2.readlines()\n",
    "\n",
    "rows=cols = int(math.sqrt(float(Lines2[1][:-1])))\n",
    "list_policy2 = Lines2[3].strip('[]').replace(' ', '').split(',')\n",
    "\n",
    "gridmap2 = np.zeros([rows,cols], dtype=str) \n",
    "policy2= np.zeros([rows,cols], dtype=str) \n",
    "index2 = 0\n",
    "for i in range(rows):\n",
    "    for j in range(cols):\n",
    "        gridmap2[i][j] = 'B' if list_policy2[index2] == 'obstacle' else 'E'\n",
    "        policy2[i][j] = list_policy2[index2] if list_policy2[index2] != 'null' else 'z'\n",
    "        index2 +=1\n"
   ]
  },
  {
   "cell_type": "code",
   "execution_count": 48,
   "id": "ca9d3456-85f5-454a-9f50-6a998bb0eaf5",
   "metadata": {},
   "outputs": [
    {
     "data": {
      "image/png": "[encoded data removed]",
      "text/plain": [
       "<Figure size 720x720 with 1 Axes>"
      ]
     },
     "metadata": {
      "needs_background": "light"
     },
     "output_type": "display_data"
    }
   ],
   "source": [
    "min_val2 = np.zeros([rows, cols])\n",
    "\n",
    "start_line2 = 6\n",
    "temp_list= Lines2[start_line2].strip('[]').replace(' ', '').split(',')\n",
    "index = 0\n",
    "\n",
    "for i in range(rows):\n",
    "    # print(temp_list[index:index+cols*2:2])\n",
    "    min_val2[i] = [float(e) for e in temp_list[index:index+cols]]\n",
    "    index += cols\n",
    "\n",
    "plot(gridmap2, figsize=figsize, policy =policy2, value=min_val2, dispval=display_v)      \n",
    "# plot(gridmap2, figsize=8, policy =policy2)"
   ]
  },
  {
   "cell_type": "code",
   "execution_count": 75,
   "id": "bd82c555-36ae-4221-9b3d-17ed5fd8e962",
   "metadata": {},
   "outputs": [
    {
     "data": {
      "text/plain": [
       "2.039333980337618"
      ]
     },
     "execution_count": 75,
     "metadata": {},
     "output_type": "execute_result"
    }
   ],
   "source": [
    "from scipy.spatial import distance\n",
    "\n",
    "math.sqrt(math.log(64))"
   ]
  },
  {
   "cell_type": "code",
   "execution_count": 76,
   "id": "ca94908a-4baf-483e-872f-777367556c9c",
   "metadata": {},
   "outputs": [
    {
     "data": {
      "text/plain": [
       "1.2686362411795196"
      ]
     },
     "execution_count": 76,
     "metadata": {},
     "output_type": "execute_result"
    }
   ],
   "source": [
    "math.sqrt(math.log(5))"
   ]
  },
  {
   "cell_type": "code",
   "execution_count": 58,
   "id": "4239def3-5f95-44e6-ad41-2dc33780f153",
   "metadata": {},
   "outputs": [
    {
     "data": {
      "text/plain": [
       "1.4142135623730951"
      ]
     },
     "execution_count": 58,
     "metadata": {},
     "output_type": "execute_result"
    }
   ],
   "source": [
    "math.sqrt(2)"
   ]
  },
  {
   "cell_type": "code",
   "execution_count": null,
   "id": "1749f429-f85c-4a48-87e2-40490139e3fb",
   "metadata": {},
   "outputs": [],
   "source": []
  }
 ],
 "metadata": {
  "kernelspec": {
   "display_name": "Python 3",
   "language": "python",
   "name": "python3"
  },
  "language_info": {
   "codemirror_mode": {
    "name": "ipython",
    "version": 3
   },
   "file_extension": ".py",
   "mimetype": "text/x-python",
   "name": "python",
   "nbconvert_exporter": "python",
   "pygments_lexer": "ipython3",
   "version": "3.6.9"
  }
 },
 "nbformat": 4,
 "nbformat_minor": 5
}
