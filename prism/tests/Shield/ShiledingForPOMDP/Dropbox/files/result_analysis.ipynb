{
 "cells": [
  {
   "cell_type": "code",
   "execution_count": 17,
   "metadata": {},
   "outputs": [
    {
     "data": {
      "text/html": [
       "<div>\n",
       "<style scoped>\n",
       "    .dataframe tbody tr th:only-of-type {\n",
       "        vertical-align: middle;\n",
       "    }\n",
       "\n",
       "    .dataframe tbody tr th {\n",
       "        vertical-align: top;\n",
       "    }\n",
       "\n",
       "    .dataframe thead th {\n",
       "        text-align: right;\n",
       "    }\n",
       "</style>\n",
       "<table border=\"1\" class=\"dataframe\">\n",
       "  <thead>\n",
       "    <tr style=\"text-align: right;\">\n",
       "      <th></th>\n",
       "      <th>TimeStamp</th>\n",
       "      <th>Number of States</th>\n",
       "      <th>Shield Position</th>\n",
       "      <th>Local Shield</th>\n",
       "      <th>Episode</th>\n",
       "      <th>Total Episodes</th>\n",
       "      <th>Undiscounted Reward</th>\n",
       "      <th>Discounted Reward</th>\n",
       "      <th>Number of Bad States</th>\n",
       "      <th>Number of Steps</th>\n",
       "      <th>Time Spent</th>\n",
       "      <th>Average Undiscounted reward</th>\n",
       "      <th>Average Discounted reward</th>\n",
       "      <th>Average time spent</th>\n",
       "      <th>Average number of Bad States</th>\n",
       "      <th>Average number of Steps</th>\n",
       "      <th>Exploration Constant</th>\n",
       "      <th>Number of Simulations</th>\n",
       "    </tr>\n",
       "  </thead>\n",
       "  <tbody>\n",
       "    <tr>\n",
       "      <th>0</th>\n",
       "      <td>2022-08-30 15-47-47.654</td>\n",
       "      <td>101</td>\n",
       "      <td>prior</td>\n",
       "      <td>False</td>\n",
       "      <td>1</td>\n",
       "      <td>2</td>\n",
       "      <td>-6.0</td>\n",
       "      <td>-8.986236</td>\n",
       "      <td>0.0</td>\n",
       "      <td>27.0</td>\n",
       "      <td>8242</td>\n",
       "      <td>-6.0</td>\n",
       "      <td>-8.986236</td>\n",
       "      <td>8242</td>\n",
       "      <td>0.0</td>\n",
       "      <td>27.0</td>\n",
       "      <td>40.0</td>\n",
       "      <td>32768.0</td>\n",
       "    </tr>\n",
       "  </tbody>\n",
       "</table>\n",
       "</div>"
      ],
      "text/plain": [
       "                 TimeStamp  Number of States Shield Position  Local Shield  \\\n",
       "0  2022-08-30 15-47-47.654               101           prior         False   \n",
       "\n",
       "   Episode  Total Episodes  Undiscounted Reward  Discounted Reward  \\\n",
       "0        1               2                 -6.0          -8.986236   \n",
       "\n",
       "   Number of Bad States  Number of Steps  Time Spent  \\\n",
       "0                   0.0             27.0        8242   \n",
       "\n",
       "   Average Undiscounted reward  Average Discounted reward  \\\n",
       "0                         -6.0                  -8.986236   \n",
       "\n",
       "   Average time spent   Average number of Bad States  Average number of Steps  \\\n",
       "0                 8242                           0.0                     27.0   \n",
       "\n",
       "   Exploration Constant  Number of Simulations  \n",
       "0                  40.0                32768.0  "
      ]
     },
     "execution_count": 17,
     "metadata": {},
     "output_type": "execute_result"
    }
   ],
   "source": [
    "import os\n",
    "import pandas as pd\n",
    "path = \"./obstacles/N10\"\n",
    "file = '/result/result2022-08-30 15-47-47.654.txt'\n",
    "result = pd.read_table(path + file, sep = \";\")\n",
    "result"
   ]
  },
  {
   "cell_type": "code",
   "execution_count": 53,
   "metadata": {},
   "outputs": [
    {
     "data": {
      "text/plain": [
       "['obstacle_N10_centralized-10-0-0-9-9-fixpoint.wr.log',\n",
       " 'obstacle_N10_factored-5-0-0-4-4-fixpoint.wr.log',\n",
       " 'obstacle_N10_factored-5-0-5-4-9-fixpoint.wr.log',\n",
       " 'obstacle_N10_factored-5-5-0-9-4-fixpoint.wr.log',\n",
       " 'obstacle_N10_factored-5-5-5-9-9-fixpoint.wr.log',\n",
       " 'Trajectory-2022-08-30 14-55-35.287-shield-onTheFly-Episode-1.txt',\n",
       " 'Trajectory-2022-08-30 14-55-35.287-shield-onTheFly-Episode-2.txt',\n",
       " 'Trajectory-2022-08-30 14-55-35.287-shield-prior-Episode-1.txt',\n",
       " 'Trajectory-2022-08-30 14-55-35.287-shield-prior-Episode-2.txt',\n",
       " 'Trajectory-2022-08-30 15-01-06.779-shield-none-Episode-1.txt',\n",
       " 'Trajectory-2022-08-30 15-01-06.779-shield-none-Episode-2.txt',\n",
       " 'Trajectory-2022-08-30 15-01-06.779-shield-onTheFly-Episode-1.txt',\n",
       " 'Trajectory-2022-08-30 15-01-06.779-shield-onTheFly-Episode-2.txt',\n",
       " 'Trajectory-2022-08-30 15-01-06.779-shield-prior-Episode-1.txt',\n",
       " 'Trajectory-2022-08-30 15-01-06.779-shield-prior-Episode-2.txt',\n",
       " 'Trajectory-2022-08-30 15-09-19.084-shield-none-Episode-1.txt',\n",
       " 'Trajectory-2022-08-30 15-09-19.084-shield-none-Episode-2.txt',\n",
       " 'Trajectory-2022-08-30 15-30-13.223-shield-none-Episode-1.txt',\n",
       " 'Trajectory-2022-08-30 15-30-13.223-shield-none-Episode-2.txt',\n",
       " 'Trajectory-2022-08-30 15-47-47.654-shield-prior-Episode-1.txt',\n",
       " 'Trajectory-2022-08-30 15-47-47.654-shield-prior-Episode-2.txt',\n",
       " 'Trajectory-2022-08-30 16-39-26.367-shield-prior-Episode-1.txt',\n",
       " 'Trajectory-2022-08-30 16-39-26.367-shield-prior-Episode-2.txt',\n",
       " 'Trajectory-2022-08-30 16-51-51.245-shield-prior-Episode-1.txt',\n",
       " 'Trajectory-2022-08-30 16-52-28.74-shield-prior-Episode-1.txt',\n",
       " 'Trajectory-2022-08-30 16-52-28.74-shield-prior-Episode-2.txt']"
      ]
     },
     "execution_count": 53,
     "metadata": {},
     "output_type": "execute_result"
    }
   ],
   "source": [
    "os.listdir(path + '/log/')"
   ]
  },
  {
   "cell_type": "code",
   "execution_count": 40,
   "metadata": {},
   "outputs": [
    {
     "name": "stdout",
     "output_type": "stream",
     "text": [
      "0 -6.0\n"
     ]
    }
   ],
   "source": [
    "trajectory_file = \"/log/Trajectory-2022-08-30 16-39-26.367-shield-prior-Episode-2.txt\"\n",
    "tra = pd.read_table(path + trajectory_file, index_col = None, sep = \";\")\n",
    "print(sum(tra.is_bad_state), sum(tra.reward))"
   ]
  },
  {
   "cell_type": "code",
   "execution_count": 52,
   "metadata": {},
   "outputs": [
    {
     "name": "stdout",
     "output_type": "stream",
     "text": [
      "0.0 0.0\n",
      "-1.0 -0.95\n",
      "-1.0 -0.9025\n",
      "-1.0 -0.8573749999999999\n",
      "-1.0 -0.8145062499999999\n",
      "-1.0 -0.7737809374999999\n",
      "-1.0 -0.7350918906249998\n",
      "-1.0 -0.6983372960937497\n",
      "-1.0 -0.6634204312890623\n",
      "-1.0 -0.6302494097246091\n",
      "-1.0 -0.5987369392383786\n",
      "-1.0 -0.5688000922764596\n",
      "-1.0 -0.5403600876626365\n",
      "-1.0 -0.5133420832795047\n",
      "-1.0 -0.48767497911552943\n",
      "-1.0 -0.46329123015975293\n",
      "-1.0 -0.44012666865176525\n",
      "-1.0 -0.41812033521917696\n",
      "-1.0 -0.3972143184582181\n",
      "-1.0 -0.37735360253530714\n",
      "-1.0 -0.35848592240854177\n",
      "-1.0 -0.34056162628811465\n",
      "-1.0 -0.3235335449737089\n",
      "-1.0 -0.30735686772502346\n",
      "-1.0 -0.2919890243387723\n",
      "-1.0 -0.27738957312183365\n",
      "-1.0 -0.263520094465742\n",
      "20.0 5.006881794849098\n",
      "-6.0 -8.986236410301785\n"
     ]
    }
   ],
   "source": [
    "discount = 1\n",
    "reward = 0\n",
    "un = 0\n",
    "rewards = tra.reward.tolist()[:-1]\n",
    "for r in rewards:\n",
    "    print(r, discount * r)\n",
    "    reward += discount * r\n",
    "    un += r\n",
    "    discount *= 0.95\n",
    "print(un, reward)\n"
   ]
  },
  {
   "cell_type": "code",
   "execution_count": null,
   "metadata": {},
   "outputs": [],
   "source": []
  }
 ],
 "metadata": {
  "kernelspec": {
   "display_name": "Python 3",
   "language": "python",
   "name": "python3"
  },
  "language_info": {
   "codemirror_mode": {
    "name": "ipython",
    "version": 3
   },
   "file_extension": ".py",
   "mimetype": "text/x-python",
   "name": "python",
   "nbconvert_exporter": "python",
   "pygments_lexer": "ipython3",
   "version": "3.7.2"
  }
 },
 "nbformat": 4,
 "nbformat_minor": 2
}
