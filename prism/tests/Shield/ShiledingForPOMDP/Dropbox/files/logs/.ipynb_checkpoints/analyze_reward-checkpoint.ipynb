{
 "cells": [
  {
   "cell_type": "code",
   "execution_count": 1,
   "id": "7c2b10ed",
   "metadata": {},
   "outputs": [],
   "source": [
    "import pandas as pd\n",
    "pd.set_option('display.max_rows', None)\n",
    "pd.set_option('display.max_columns', None)\n",
    "pd.set_option('display.width', 1000)\n",
    "pd.set_option('display.colheader_justify', 'center')\n",
    "pd.set_option('display.precision', 3)\n",
    "def print_results(file):\n",
    "    df = pd.read_table(file, sep = ';')\n",
    "    df[\"average time spent (second)\"] = df[\"average time spent \"] / 1000\n",
    "    print(df.loc[0, \"modelName\"][-1])\n",
    "    if df.loc[0, \"modelName\"][-1] == '-':\n",
    "        for i in range(len(df)):\n",
    "            if df.loc[i, 'modelName'][0] == 'o':\n",
    "                df.loc[i, 'modelName'] += '6-'\n",
    "            else:\n",
    "                df.loc[i, 'modelName'] += '4-'\n",
    "            df.loc[i, 'modelName'] += \"crashCost-5\" \n",
    "    selected_columns = [\"modelName\", \"shieldLevel\", 'average undiscounted reward', 'average discounted reward',\n",
    "           'average time spent (second)']\n",
    "\n",
    "    selected = df[df.loc[:, \"numEpisode\"] == df.loc[0, \"numEpisodes\"]]\n",
    "    selected = selected.loc[:, selected_columns]\n",
    "    return selected"
   ]
  },
  {
   "cell_type": "code",
   "execution_count": 2,
   "id": "3623dbc7",
   "metadata": {},
   "outputs": [
    {
     "data": {
      "text/plain": [
       "['obstacle-6-crashCost-10-1655878220678.txt',\n",
       " 'obstacle-6-crashCost-5-1655867304477.txt',\n",
       " 'refuel-6-8-crashCost-10-1655870627648.txt',\n",
       " 'refuel-6-8-crashCost-5-1655868393196.txt',\n",
       " 'rocks-4-crashCost-10-1655874528079.txt',\n",
       " 'rocks-4-crashCost-5-1655867486267.txt']"
      ]
     },
     "execution_count": 2,
     "metadata": {},
     "output_type": "execute_result"
    }
   ],
   "source": [
    "import os\n",
    "files = os.listdir()\n",
    "files = [file for file in files if \"txt\" in file]\n",
    "files.sort()\n",
    "files"
   ]
  },
  {
   "cell_type": "code",
   "execution_count": 13,
   "id": "72be81aa",
   "metadata": {},
   "outputs": [
    {
     "data": {
      "text/plain": [
       "Index(['modelName', 'nStates', 'shieldLevel', 'useLocalShield', 'numEpisode', 'numEpisodes', 'undiscounted reward', 'discounted reward', 'numBad', 'timeSpent', 'average undiscounted reward', 'average discounted reward', 'average time spent ', 'average numBad'], dtype='object')"
      ]
     },
     "execution_count": 13,
     "metadata": {},
     "output_type": "execute_result"
    }
   ],
   "source": [
    "result_file = 'obstacle-6--1658804793756.txt'\n",
    "result = pd.read_table(result_file, sep = ';')\n",
    "result.columns"
   ]
  },
  {
   "cell_type": "code",
   "execution_count": 19,
   "id": "a0dd6b36",
   "metadata": {},
   "outputs": [
    {
     "ename": "AttributeError",
     "evalue": "'DataFrame' object has no attribute 'useLocalShiled'",
     "output_type": "error",
     "traceback": [
      "\u001b[0;31m---------------------------------------------------------------------------\u001b[0m",
      "\u001b[0;31mAttributeError\u001b[0m                            Traceback (most recent call last)",
      "Input \u001b[0;32mIn [19]\u001b[0m, in \u001b[0;36m<cell line: 6>\u001b[0;34m()\u001b[0m\n\u001b[1;32m      4\u001b[0m result\u001b[38;5;241m.\u001b[39mshieldLevel\u001b[38;5;241m.\u001b[39mreplace(\u001b[38;5;241m4\u001b[39m, \u001b[38;5;124m\"\u001b[39m\u001b[38;5;124mon-the-fly\u001b[39m\u001b[38;5;124m\"\u001b[39m, inplace \u001b[38;5;241m=\u001b[39m \u001b[38;5;28;01mTrue\u001b[39;00m)\n\u001b[1;32m      5\u001b[0m result\u001b[38;5;241m.\u001b[39mshieldLevel\u001b[38;5;241m.\u001b[39mreplace(\u001b[38;5;241m2\u001b[39m, \u001b[38;5;124m\"\u001b[39m\u001b[38;5;124mprior\u001b[39m\u001b[38;5;124m\"\u001b[39m, inplace \u001b[38;5;241m=\u001b[39m \u001b[38;5;28;01mTrue\u001b[39;00m)\n\u001b[0;32m----> 6\u001b[0m \u001b[43mresult\u001b[49m\u001b[38;5;241;43m.\u001b[39;49m\u001b[43museLocalShiled\u001b[49m\u001b[38;5;241m.\u001b[39mreplace(\u001b[38;5;124m\"\u001b[39m\u001b[38;5;124mTrue\u001b[39m\u001b[38;5;124m\"\u001b[39m, \u001b[38;5;124m\"\u001b[39m\u001b[38;5;124mFactored\u001b[39m\u001b[38;5;124m\"\u001b[39m)\n\u001b[1;32m      7\u001b[0m result\u001b[38;5;241m.\u001b[39museLocalShiled\u001b[38;5;241m.\u001b[39mreplace(\u001b[38;5;124m\"\u001b[39m\u001b[38;5;124mFalse\u001b[39m\u001b[38;5;124m\"\u001b[39m, \u001b[38;5;124m\"\u001b[39m\u001b[38;5;124mCentralized\u001b[39m\u001b[38;5;124m\"\u001b[39m)\n\u001b[1;32m      8\u001b[0m result\u001b[38;5;241m.\u001b[39mrename(columns \u001b[38;5;241m=\u001b[39m {\u001b[38;5;124m\"\u001b[39m\u001b[38;5;124mshieldLevel\u001b[39m\u001b[38;5;124m\"\u001b[39m: \u001b[38;5;124m\"\u001b[39m\u001b[38;5;124mshileding place\u001b[39m\u001b[38;5;124m\"\u001b[39m}, inplace \u001b[38;5;241m=\u001b[39m \u001b[38;5;28;01mTrue\u001b[39;00m)\n",
      "File \u001b[0;32m~/opt/anaconda3/lib/python3.9/site-packages/pandas/core/generic.py:5575\u001b[0m, in \u001b[0;36mNDFrame.__getattr__\u001b[0;34m(self, name)\u001b[0m\n\u001b[1;32m   5568\u001b[0m \u001b[38;5;28;01mif\u001b[39;00m (\n\u001b[1;32m   5569\u001b[0m     name \u001b[38;5;129;01mnot\u001b[39;00m \u001b[38;5;129;01min\u001b[39;00m \u001b[38;5;28mself\u001b[39m\u001b[38;5;241m.\u001b[39m_internal_names_set\n\u001b[1;32m   5570\u001b[0m     \u001b[38;5;129;01mand\u001b[39;00m name \u001b[38;5;129;01mnot\u001b[39;00m \u001b[38;5;129;01min\u001b[39;00m \u001b[38;5;28mself\u001b[39m\u001b[38;5;241m.\u001b[39m_metadata\n\u001b[1;32m   5571\u001b[0m     \u001b[38;5;129;01mand\u001b[39;00m name \u001b[38;5;129;01mnot\u001b[39;00m \u001b[38;5;129;01min\u001b[39;00m \u001b[38;5;28mself\u001b[39m\u001b[38;5;241m.\u001b[39m_accessors\n\u001b[1;32m   5572\u001b[0m     \u001b[38;5;129;01mand\u001b[39;00m \u001b[38;5;28mself\u001b[39m\u001b[38;5;241m.\u001b[39m_info_axis\u001b[38;5;241m.\u001b[39m_can_hold_identifiers_and_holds_name(name)\n\u001b[1;32m   5573\u001b[0m ):\n\u001b[1;32m   5574\u001b[0m     \u001b[38;5;28;01mreturn\u001b[39;00m \u001b[38;5;28mself\u001b[39m[name]\n\u001b[0;32m-> 5575\u001b[0m \u001b[38;5;28;01mreturn\u001b[39;00m \u001b[38;5;28;43mobject\u001b[39;49m\u001b[38;5;241;43m.\u001b[39;49m\u001b[38;5;21;43m__getattribute__\u001b[39;49m\u001b[43m(\u001b[49m\u001b[38;5;28;43mself\u001b[39;49m\u001b[43m,\u001b[49m\u001b[43m \u001b[49m\u001b[43mname\u001b[49m\u001b[43m)\u001b[49m\n",
      "\u001b[0;31mAttributeError\u001b[0m: 'DataFrame' object has no attribute 'useLocalShiled'"
     ]
    }
   ],
   "source": [
    "result_file = 'obstacle-6--1658804793756.txt'\n",
    "result = pd.read_table(result_file, sep = ';')\n",
    "result = result.loc[result.numEpisode == result.numEpisodes]\n",
    "result.shieldLevel.replace(4, \"on-the-fly\", inplace = True)\n",
    "result.shieldLevel.replace(2, \"prior\", inplace = True)\n",
    "result.useLocalShield.replace(\"True\", \"Factored\")\n",
    "result.useLocalShield.replace(\"False\", \"Centralized\")\n",
    "result.rename(columns = {\"shieldLevel\": \"shileding place\"}, inplace = True)\n",
    "result.rename(columns = {\"useLocalShiled\": \"shiled type\"}, inplace = True)\n",
    "\n",
    "selected_columns = ['modelName', 'nStates', 'shileding place', 'shileding place','average undiscounted reward', 'average discounted reward', \n",
    "                    'average time spent ', 'average numBad']\n",
    "result = result.loc[:, selected_columns]\n",
    "result"
   ]
  },
  {
   "cell_type": "code",
   "execution_count": 4,
   "id": "3351acde",
   "metadata": {},
   "outputs": [
    {
     "name": "stdout",
     "output_type": "stream",
     "text": [
      "0\n"
     ]
    },
    {
     "data": {
      "text/html": [
       "<div>\n",
       "<style scoped>\n",
       "    .dataframe tbody tr th:only-of-type {\n",
       "        vertical-align: middle;\n",
       "    }\n",
       "\n",
       "    .dataframe tbody tr th {\n",
       "        vertical-align: top;\n",
       "    }\n",
       "\n",
       "    .dataframe thead th {\n",
       "        text-align: right;\n",
       "    }\n",
       "</style>\n",
       "<table border=\"1\" class=\"dataframe\">\n",
       "  <thead>\n",
       "    <tr style=\"text-align: center;\">\n",
       "      <th></th>\n",
       "      <th>modelName</th>\n",
       "      <th>shieldLevel</th>\n",
       "      <th>average undiscounted reward</th>\n",
       "      <th>average discounted reward</th>\n",
       "      <th>average time spent (second)</th>\n",
       "    </tr>\n",
       "  </thead>\n",
       "  <tbody>\n",
       "    <tr>\n",
       "      <th>9</th>\n",
       "      <td>obstacle-6-crashCost-10</td>\n",
       "      <td>0</td>\n",
       "      <td>-34.1</td>\n",
       "      <td>-16.871</td>\n",
       "      <td>6.467</td>\n",
       "    </tr>\n",
       "    <tr>\n",
       "      <th>19</th>\n",
       "      <td>obstacle-6-crashCost-10</td>\n",
       "      <td>1</td>\n",
       "      <td>-27.1</td>\n",
       "      <td>-13.006</td>\n",
       "      <td>5.818</td>\n",
       "    </tr>\n",
       "    <tr>\n",
       "      <th>29</th>\n",
       "      <td>obstacle-6-crashCost-10</td>\n",
       "      <td>2</td>\n",
       "      <td>-35.5</td>\n",
       "      <td>-15.135</td>\n",
       "      <td>8.586</td>\n",
       "    </tr>\n",
       "    <tr>\n",
       "      <th>39</th>\n",
       "      <td>obstacle-6-crashCost-10</td>\n",
       "      <td>3</td>\n",
       "      <td>-43.0</td>\n",
       "      <td>-15.302</td>\n",
       "      <td>106.136</td>\n",
       "    </tr>\n",
       "    <tr>\n",
       "      <th>49</th>\n",
       "      <td>obstacle-6-crashCost-10</td>\n",
       "      <td>4</td>\n",
       "      <td>-20.9</td>\n",
       "      <td>-12.078</td>\n",
       "      <td>9.406</td>\n",
       "    </tr>\n",
       "  </tbody>\n",
       "</table>\n",
       "</div>"
      ],
      "text/plain": [
       "          modelName          shieldLevel  average undiscounted reward  average discounted reward  average time spent (second)\n",
       "9   obstacle-6-crashCost-10       0                 -34.1                      -16.871                        6.467          \n",
       "19  obstacle-6-crashCost-10       1                 -27.1                      -13.006                        5.818          \n",
       "29  obstacle-6-crashCost-10       2                 -35.5                      -15.135                        8.586          \n",
       "39  obstacle-6-crashCost-10       3                 -43.0                      -15.302                      106.136          \n",
       "49  obstacle-6-crashCost-10       4                 -20.9                      -12.078                        9.406          "
      ]
     },
     "execution_count": 4,
     "metadata": {},
     "output_type": "execute_result"
    }
   ],
   "source": [
    "print_results(files[i])"
   ]
  },
  {
   "cell_type": "code",
   "execution_count": 5,
   "id": "23036a84",
   "metadata": {},
   "outputs": [
    {
     "name": "stdout",
     "output_type": "stream",
     "text": [
      "-\n"
     ]
    },
    {
     "data": {
      "text/html": [
       "<div>\n",
       "<style scoped>\n",
       "    .dataframe tbody tr th:only-of-type {\n",
       "        vertical-align: middle;\n",
       "    }\n",
       "\n",
       "    .dataframe tbody tr th {\n",
       "        vertical-align: top;\n",
       "    }\n",
       "\n",
       "    .dataframe thead th {\n",
       "        text-align: right;\n",
       "    }\n",
       "</style>\n",
       "<table border=\"1\" class=\"dataframe\">\n",
       "  <thead>\n",
       "    <tr style=\"text-align: center;\">\n",
       "      <th></th>\n",
       "      <th>modelName</th>\n",
       "      <th>shieldLevel</th>\n",
       "      <th>average undiscounted reward</th>\n",
       "      <th>average discounted reward</th>\n",
       "      <th>average time spent (second)</th>\n",
       "    </tr>\n",
       "  </thead>\n",
       "  <tbody>\n",
       "    <tr>\n",
       "      <th>9</th>\n",
       "      <td>obstacle-6-crashCost-5</td>\n",
       "      <td>0</td>\n",
       "      <td>-12.4</td>\n",
       "      <td>-9.723</td>\n",
       "      <td>0.712</td>\n",
       "    </tr>\n",
       "    <tr>\n",
       "      <th>19</th>\n",
       "      <td>obstacle-6-crashCost-5</td>\n",
       "      <td>1</td>\n",
       "      <td>-13.3</td>\n",
       "      <td>-9.339</td>\n",
       "      <td>1.734</td>\n",
       "    </tr>\n",
       "    <tr>\n",
       "      <th>29</th>\n",
       "      <td>obstacle-6-crashCost-5</td>\n",
       "      <td>2</td>\n",
       "      <td>-12.7</td>\n",
       "      <td>-8.911</td>\n",
       "      <td>1.675</td>\n",
       "    </tr>\n",
       "    <tr>\n",
       "      <th>39</th>\n",
       "      <td>obstacle-6-crashCost-5</td>\n",
       "      <td>3</td>\n",
       "      <td>-9.6</td>\n",
       "      <td>-7.357</td>\n",
       "      <td>8.761</td>\n",
       "    </tr>\n",
       "    <tr>\n",
       "      <th>49</th>\n",
       "      <td>obstacle-6-crashCost-5</td>\n",
       "      <td>4</td>\n",
       "      <td>-12.7</td>\n",
       "      <td>-8.908</td>\n",
       "      <td>3.991</td>\n",
       "    </tr>\n",
       "  </tbody>\n",
       "</table>\n",
       "</div>"
      ],
      "text/plain": [
       "          modelName         shieldLevel  average undiscounted reward  average discounted reward  average time spent (second)\n",
       "9   obstacle-6-crashCost-5       0                 -12.4                       -9.723                       0.712           \n",
       "19  obstacle-6-crashCost-5       1                 -13.3                       -9.339                       1.734           \n",
       "29  obstacle-6-crashCost-5       2                 -12.7                       -8.911                       1.675           \n",
       "39  obstacle-6-crashCost-5       3                  -9.6                       -7.357                       8.761           \n",
       "49  obstacle-6-crashCost-5       4                 -12.7                       -8.908                       3.991           "
      ]
     },
     "execution_count": 5,
     "metadata": {},
     "output_type": "execute_result"
    }
   ],
   "source": [
    "i += 1\n",
    "print_results(files[i])"
   ]
  },
  {
   "cell_type": "code",
   "execution_count": 6,
   "id": "700a2582",
   "metadata": {},
   "outputs": [
    {
     "name": "stdout",
     "output_type": "stream",
     "text": [
      "0\n"
     ]
    },
    {
     "data": {
      "text/html": [
       "<div>\n",
       "<style scoped>\n",
       "    .dataframe tbody tr th:only-of-type {\n",
       "        vertical-align: middle;\n",
       "    }\n",
       "\n",
       "    .dataframe tbody tr th {\n",
       "        vertical-align: top;\n",
       "    }\n",
       "\n",
       "    .dataframe thead th {\n",
       "        text-align: right;\n",
       "    }\n",
       "</style>\n",
       "<table border=\"1\" class=\"dataframe\">\n",
       "  <thead>\n",
       "    <tr style=\"text-align: center;\">\n",
       "      <th></th>\n",
       "      <th>modelName</th>\n",
       "      <th>shieldLevel</th>\n",
       "      <th>average undiscounted reward</th>\n",
       "      <th>average discounted reward</th>\n",
       "      <th>average time spent (second)</th>\n",
       "    </tr>\n",
       "  </thead>\n",
       "  <tbody>\n",
       "    <tr>\n",
       "      <th>9</th>\n",
       "      <td>refuel-6-8-crashCost-10</td>\n",
       "      <td>0</td>\n",
       "      <td>-5.9</td>\n",
       "      <td>-4.956</td>\n",
       "      <td>0.440</td>\n",
       "    </tr>\n",
       "    <tr>\n",
       "      <th>19</th>\n",
       "      <td>refuel-6-8-crashCost-10</td>\n",
       "      <td>1</td>\n",
       "      <td>-90.9</td>\n",
       "      <td>-22.777</td>\n",
       "      <td>6.026</td>\n",
       "    </tr>\n",
       "    <tr>\n",
       "      <th>29</th>\n",
       "      <td>refuel-6-8-crashCost-10</td>\n",
       "      <td>2</td>\n",
       "      <td>-150.2</td>\n",
       "      <td>-22.517</td>\n",
       "      <td>11.612</td>\n",
       "    </tr>\n",
       "    <tr>\n",
       "      <th>39</th>\n",
       "      <td>refuel-6-8-crashCost-10</td>\n",
       "      <td>3</td>\n",
       "      <td>-105.7</td>\n",
       "      <td>-22.598</td>\n",
       "      <td>204.655</td>\n",
       "    </tr>\n",
       "    <tr>\n",
       "      <th>49</th>\n",
       "      <td>refuel-6-8-crashCost-10</td>\n",
       "      <td>4</td>\n",
       "      <td>-142.2</td>\n",
       "      <td>-24.402</td>\n",
       "      <td>167.158</td>\n",
       "    </tr>\n",
       "  </tbody>\n",
       "</table>\n",
       "</div>"
      ],
      "text/plain": [
       "          modelName          shieldLevel  average undiscounted reward  average discounted reward  average time spent (second)\n",
       "9   refuel-6-8-crashCost-10       0                   -5.9                      -4.956                        0.440          \n",
       "19  refuel-6-8-crashCost-10       1                  -90.9                     -22.777                        6.026          \n",
       "29  refuel-6-8-crashCost-10       2                 -150.2                     -22.517                       11.612          \n",
       "39  refuel-6-8-crashCost-10       3                 -105.7                     -22.598                      204.655          \n",
       "49  refuel-6-8-crashCost-10       4                 -142.2                     -24.402                      167.158          "
      ]
     },
     "execution_count": 6,
     "metadata": {},
     "output_type": "execute_result"
    }
   ],
   "source": [
    "i += 1\n",
    "print_results(files[i])"
   ]
  },
  {
   "cell_type": "code",
   "execution_count": 7,
   "id": "a5991978",
   "metadata": {},
   "outputs": [
    {
     "name": "stdout",
     "output_type": "stream",
     "text": [
      "5\n"
     ]
    },
    {
     "data": {
      "text/html": [
       "<div>\n",
       "<style scoped>\n",
       "    .dataframe tbody tr th:only-of-type {\n",
       "        vertical-align: middle;\n",
       "    }\n",
       "\n",
       "    .dataframe tbody tr th {\n",
       "        vertical-align: top;\n",
       "    }\n",
       "\n",
       "    .dataframe thead th {\n",
       "        text-align: right;\n",
       "    }\n",
       "</style>\n",
       "<table border=\"1\" class=\"dataframe\">\n",
       "  <thead>\n",
       "    <tr style=\"text-align: center;\">\n",
       "      <th></th>\n",
       "      <th>modelName</th>\n",
       "      <th>shieldLevel</th>\n",
       "      <th>average undiscounted reward</th>\n",
       "      <th>average discounted reward</th>\n",
       "      <th>average time spent (second)</th>\n",
       "    </tr>\n",
       "  </thead>\n",
       "  <tbody>\n",
       "    <tr>\n",
       "      <th>9</th>\n",
       "      <td>refuel-6-8-crashCost-5</td>\n",
       "      <td>0</td>\n",
       "      <td>-5.8</td>\n",
       "      <td>-4.879</td>\n",
       "      <td>0.437</td>\n",
       "    </tr>\n",
       "    <tr>\n",
       "      <th>19</th>\n",
       "      <td>refuel-6-8-crashCost-5</td>\n",
       "      <td>1</td>\n",
       "      <td>-54.0</td>\n",
       "      <td>-17.239</td>\n",
       "      <td>3.610</td>\n",
       "    </tr>\n",
       "    <tr>\n",
       "      <th>29</th>\n",
       "      <td>refuel-6-8-crashCost-5</td>\n",
       "      <td>2</td>\n",
       "      <td>-60.6</td>\n",
       "      <td>-19.560</td>\n",
       "      <td>4.660</td>\n",
       "    </tr>\n",
       "    <tr>\n",
       "      <th>39</th>\n",
       "      <td>refuel-6-8-crashCost-5</td>\n",
       "      <td>3</td>\n",
       "      <td>-77.1</td>\n",
       "      <td>-21.471</td>\n",
       "      <td>141.721</td>\n",
       "    </tr>\n",
       "    <tr>\n",
       "      <th>49</th>\n",
       "      <td>refuel-6-8-crashCost-5</td>\n",
       "      <td>4</td>\n",
       "      <td>-61.5</td>\n",
       "      <td>-20.906</td>\n",
       "      <td>69.652</td>\n",
       "    </tr>\n",
       "  </tbody>\n",
       "</table>\n",
       "</div>"
      ],
      "text/plain": [
       "          modelName         shieldLevel  average undiscounted reward  average discounted reward  average time spent (second)\n",
       "9   refuel-6-8-crashCost-5       0                  -5.8                       -4.879                        0.437          \n",
       "19  refuel-6-8-crashCost-5       1                 -54.0                      -17.239                        3.610          \n",
       "29  refuel-6-8-crashCost-5       2                 -60.6                      -19.560                        4.660          \n",
       "39  refuel-6-8-crashCost-5       3                 -77.1                      -21.471                      141.721          \n",
       "49  refuel-6-8-crashCost-5       4                 -61.5                      -20.906                       69.652          "
      ]
     },
     "execution_count": 7,
     "metadata": {},
     "output_type": "execute_result"
    }
   ],
   "source": [
    "i += 1\n",
    "print_results(files[i])"
   ]
  },
  {
   "cell_type": "code",
   "execution_count": 8,
   "id": "fff04c24",
   "metadata": {},
   "outputs": [
    {
     "name": "stdout",
     "output_type": "stream",
     "text": [
      "0\n"
     ]
    },
    {
     "data": {
      "text/html": [
       "<div>\n",
       "<style scoped>\n",
       "    .dataframe tbody tr th:only-of-type {\n",
       "        vertical-align: middle;\n",
       "    }\n",
       "\n",
       "    .dataframe tbody tr th {\n",
       "        vertical-align: top;\n",
       "    }\n",
       "\n",
       "    .dataframe thead th {\n",
       "        text-align: right;\n",
       "    }\n",
       "</style>\n",
       "<table border=\"1\" class=\"dataframe\">\n",
       "  <thead>\n",
       "    <tr style=\"text-align: center;\">\n",
       "      <th></th>\n",
       "      <th>modelName</th>\n",
       "      <th>shieldLevel</th>\n",
       "      <th>average undiscounted reward</th>\n",
       "      <th>average discounted reward</th>\n",
       "      <th>average time spent (second)</th>\n",
       "    </tr>\n",
       "  </thead>\n",
       "  <tbody>\n",
       "    <tr>\n",
       "      <th>9</th>\n",
       "      <td>rocks-4-crashCost-10</td>\n",
       "      <td>0</td>\n",
       "      <td>-25.8</td>\n",
       "      <td>-16.945</td>\n",
       "      <td>5.970</td>\n",
       "    </tr>\n",
       "    <tr>\n",
       "      <th>19</th>\n",
       "      <td>rocks-4-crashCost-10</td>\n",
       "      <td>1</td>\n",
       "      <td>-48.0</td>\n",
       "      <td>-16.985</td>\n",
       "      <td>39.346</td>\n",
       "    </tr>\n",
       "    <tr>\n",
       "      <th>29</th>\n",
       "      <td>rocks-4-crashCost-10</td>\n",
       "      <td>2</td>\n",
       "      <td>-60.8</td>\n",
       "      <td>-15.493</td>\n",
       "      <td>67.546</td>\n",
       "    </tr>\n",
       "    <tr>\n",
       "      <th>39</th>\n",
       "      <td>rocks-4-crashCost-10</td>\n",
       "      <td>3</td>\n",
       "      <td>-35.8</td>\n",
       "      <td>-14.529</td>\n",
       "      <td>125.714</td>\n",
       "    </tr>\n",
       "    <tr>\n",
       "      <th>49</th>\n",
       "      <td>rocks-4-crashCost-10</td>\n",
       "      <td>4</td>\n",
       "      <td>-52.0</td>\n",
       "      <td>-16.432</td>\n",
       "      <td>130.560</td>\n",
       "    </tr>\n",
       "  </tbody>\n",
       "</table>\n",
       "</div>"
      ],
      "text/plain": [
       "         modelName        shieldLevel  average undiscounted reward  average discounted reward  average time spent (second)\n",
       "9   rocks-4-crashCost-10       0                 -25.8                      -16.945                        5.970          \n",
       "19  rocks-4-crashCost-10       1                 -48.0                      -16.985                       39.346          \n",
       "29  rocks-4-crashCost-10       2                 -60.8                      -15.493                       67.546          \n",
       "39  rocks-4-crashCost-10       3                 -35.8                      -14.529                      125.714          \n",
       "49  rocks-4-crashCost-10       4                 -52.0                      -16.432                      130.560          "
      ]
     },
     "execution_count": 8,
     "metadata": {},
     "output_type": "execute_result"
    }
   ],
   "source": [
    "i += 1\n",
    "print_results(files[i])"
   ]
  },
  {
   "cell_type": "code",
   "execution_count": 9,
   "id": "03e99dd5",
   "metadata": {},
   "outputs": [
    {
     "name": "stdout",
     "output_type": "stream",
     "text": [
      "-\n"
     ]
    },
    {
     "data": {
      "text/html": [
       "<div>\n",
       "<style scoped>\n",
       "    .dataframe tbody tr th:only-of-type {\n",
       "        vertical-align: middle;\n",
       "    }\n",
       "\n",
       "    .dataframe tbody tr th {\n",
       "        vertical-align: top;\n",
       "    }\n",
       "\n",
       "    .dataframe thead th {\n",
       "        text-align: right;\n",
       "    }\n",
       "</style>\n",
       "<table border=\"1\" class=\"dataframe\">\n",
       "  <thead>\n",
       "    <tr style=\"text-align: center;\">\n",
       "      <th></th>\n",
       "      <th>modelName</th>\n",
       "      <th>shieldLevel</th>\n",
       "      <th>average undiscounted reward</th>\n",
       "      <th>average discounted reward</th>\n",
       "      <th>average time spent (second)</th>\n",
       "    </tr>\n",
       "  </thead>\n",
       "  <tbody>\n",
       "    <tr>\n",
       "      <th>9</th>\n",
       "      <td>rocks-4-crashCost-5</td>\n",
       "      <td>0</td>\n",
       "      <td>-13.0</td>\n",
       "      <td>-9.843</td>\n",
       "      <td>5.845</td>\n",
       "    </tr>\n",
       "    <tr>\n",
       "      <th>19</th>\n",
       "      <td>rocks-4-crashCost-5</td>\n",
       "      <td>1</td>\n",
       "      <td>-22.4</td>\n",
       "      <td>-11.202</td>\n",
       "      <td>12.216</td>\n",
       "    </tr>\n",
       "    <tr>\n",
       "      <th>29</th>\n",
       "      <td>rocks-4-crashCost-5</td>\n",
       "      <td>2</td>\n",
       "      <td>-23.1</td>\n",
       "      <td>-12.431</td>\n",
       "      <td>6.939</td>\n",
       "    </tr>\n",
       "    <tr>\n",
       "      <th>39</th>\n",
       "      <td>rocks-4-crashCost-5</td>\n",
       "      <td>3</td>\n",
       "      <td>-13.4</td>\n",
       "      <td>-9.196</td>\n",
       "      <td>27.058</td>\n",
       "    </tr>\n",
       "    <tr>\n",
       "      <th>49</th>\n",
       "      <td>rocks-4-crashCost-5</td>\n",
       "      <td>4</td>\n",
       "      <td>-20.4</td>\n",
       "      <td>-12.439</td>\n",
       "      <td>24.377</td>\n",
       "    </tr>\n",
       "  </tbody>\n",
       "</table>\n",
       "</div>"
      ],
      "text/plain": [
       "        modelName        shieldLevel  average undiscounted reward  average discounted reward  average time spent (second)\n",
       "9   rocks-4-crashCost-5       0                 -13.0                       -9.843                       5.845           \n",
       "19  rocks-4-crashCost-5       1                 -22.4                      -11.202                      12.216           \n",
       "29  rocks-4-crashCost-5       2                 -23.1                      -12.431                       6.939           \n",
       "39  rocks-4-crashCost-5       3                 -13.4                       -9.196                      27.058           \n",
       "49  rocks-4-crashCost-5       4                 -20.4                      -12.439                      24.377           "
      ]
     },
     "execution_count": 9,
     "metadata": {},
     "output_type": "execute_result"
    }
   ],
   "source": [
    "i += 1\n",
    "print_results(files[i])\n"
   ]
  },
  {
   "cell_type": "code",
   "execution_count": null,
   "id": "75f41060",
   "metadata": {},
   "outputs": [],
   "source": [
    "Remember to update as soon as possible\n",
    "1. talk about running example of abstraction\n",
    "    - with prism files\n",
    "    - explain prism file, observation; transition\n",
    "    - explain concerns\n",
    "        - belief support will cross shileds\n",
    "2. confirm way to get next states\n",
    "3. ask ways to get the args"
   ]
  }
 ],
 "metadata": {
  "kernelspec": {
   "display_name": "Python 3 (ipykernel)",
   "language": "python",
   "name": "python3"
  },
  "language_info": {
   "codemirror_mode": {
    "name": "ipython",
    "version": 3
   },
   "file_extension": ".py",
   "mimetype": "text/x-python",
   "name": "python",
   "nbconvert_exporter": "python",
   "pygments_lexer": "ipython3",
   "version": "3.9.12"
  }
 },
 "nbformat": 4,
 "nbformat_minor": 5
}
