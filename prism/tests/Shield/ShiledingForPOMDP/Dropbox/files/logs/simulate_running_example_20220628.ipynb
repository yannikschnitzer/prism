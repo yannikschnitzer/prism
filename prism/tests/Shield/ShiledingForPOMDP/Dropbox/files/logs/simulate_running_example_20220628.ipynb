{
 "cells": [
  {
   "cell_type": "code",
   "execution_count": 1,
   "id": "ceee9b7c",
   "metadata": {},
   "outputs": [],
   "source": [
    "import numpy as np\n",
    "import pandas as pd\n",
    "from matplotlib import pyplot as plt\n"
   ]
  },
  {
   "cell_type": "code",
   "execution_count": 2,
   "id": "dc303d6d",
   "metadata": {},
   "outputs": [],
   "source": [
    "def plot_board(obstacle, target, beliefState, agent,max_x, max_y, min_x,min_y,):\n",
    "  N = max(max_x, max_y)\n",
    "  fig, ax = plt.subplots(figsize = (max_x - min_x,max_y- min_y))\n",
    "  ax.xaxis.set_ticks_position('top')   #将X坐标轴移到上面\n",
    "  ax.invert_yaxis()  \n",
    "  \n",
    "  x = [i for i in range(N)]\n",
    "  y = [i for i in range(N)]\n",
    "  \n",
    "  ax.set_ylim(bottom=N, top=0)  # 此处将原点设置为左上角  \n",
    "  plt.xticks([0.5 + i for i in range(N )], labels = [str(i) for i in range(N)])\n",
    "  plt.yticks([0.5 + i for i in range(N)], labels = [str(i) for i in range(N)])\n",
    "  plt.xlabel('X Axis')\n",
    "  plt.ylabel('Y Axis')\n",
    "  width = 1\n",
    "  height =1 \n",
    "\n",
    "  for left, bottom in obstacle:\n",
    "    rect = plt.Rectangle((left, bottom), width, height, facecolor=\"black\", alpha = 0.5)\n",
    "    ax.add_patch(rect)\n",
    "\n",
    "  for left, bottom in beliefState:\n",
    "    rect = plt.Rectangle((left, bottom), width, height, facecolor=\"blue\", alpha = 0.5)\n",
    "    ax.add_patch(rect)\n",
    "\n",
    "  for left, bottom in target:\n",
    "    rect = plt.Rectangle((left, bottom), width, height, facecolor=\"green\", alpha = 0.5)\n",
    "    ax.add_patch(rect)\n",
    "\n",
    "  #plt.scatter(agent[0] + 0.5, agent[1] +0.5)\n",
    "  for i in range(N):\n",
    "    plt.hlines(i, 0, N , alpha = 0.5)\n",
    "    plt.vlines(i, 0, N , alpha = 0.5)\n",
    "  plt.grid(False)\n",
    "  plt.xlim((min_x,max_x))\n",
    "  plt.ylim((max_y,min_y))\n",
    "  plt.show()\n",
    "\n",
    "def move(belief, action):\n",
    "  result = set()\n",
    "  for x, y in belief:\n",
    "    for slip in [1, 2]:\n",
    "      if action == \"west\":\n",
    "        nx, ny = max(0, x - slip) , y\n",
    "      if action == 'east':\n",
    "        nx, ny = min(N - 1, x + slip), y\n",
    "      if action == 'north':\n",
    "        nx, ny = x, max(0, y - slip)\n",
    "      if action == 'south':\n",
    "        nx, ny = x, min(N - 1, y + slip)\n",
    "      result.add((nx, ny))\n",
    "  return list(result)\n",
    "\n",
    "def move2(belief, action):\n",
    "  result = set()\n",
    "  for x, y in belief:\n",
    "    for slip in [1, 0]:\n",
    "      if action == \"west\":\n",
    "        nx, ny = max(0, x - slip) , y\n",
    "      if action == 'east':\n",
    "        nx, ny = min(N - 1, x + slip), y\n",
    "      if action == 'north':\n",
    "        nx, ny = x, max(0, y - slip)\n",
    "      if action == 'south':\n",
    "        nx, ny = x, min(N - 1, y + slip)\n",
    "      result.add((nx, ny))\n",
    "  return list(result)"
   ]
  },
  {
   "cell_type": "code",
   "execution_count": 8,
   "id": "ef2bd705",
   "metadata": {},
   "outputs": [
    {
     "data": {
      "image/png": "[encoded data removed]",
      "text/plain": [
       "<Figure size 432x216 with 1 Axes>"
      ]
     },
     "metadata": {
      "needs_background": "light"
     },
     "output_type": "display_data"
    }
   ],
   "source": [
    "obstacle = [(1,2),(4,2)]\n",
    "belief_initial = [(0,0)]\n",
    "target = [(5,0)]\n",
    "max_x, max_y = 6, 3\n",
    "min_x, min_y = 0, 0\n",
    "agent= (0,0)\n",
    "plot_board(obstacle, target, belief_initial, agent, max_x, max_y, min_x, min_y)"
   ]
  },
  {
   "cell_type": "markdown",
   "id": "a528f873",
   "metadata": {},
   "source": [
    "# concrete model"
   ]
  },
  {
   "cell_type": "code",
   "execution_count": 3,
   "id": "e72067a8",
   "metadata": {},
   "outputs": [
    {
     "data": {
      "image/png": "[encoded data removed]",
      "text/plain": [
       "<Figure size 432x216 with 1 Axes>"
      ]
     },
     "metadata": {
      "needs_background": "light"
     },
     "output_type": "display_data"
    }
   ],
   "source": [
    "obstacle = [(1,2),(4,2)]\n",
    "belief_initial = [(0,0)]\n",
    "target = [(5,0)]\n",
    "max_x, max_y = 6, 3\n",
    "min_x, min_y = 0, 0\n",
    "agent= (0,0)\n",
    "plot_board(obstacle, target, belief_initial, agent, max_x, max_y, min_x, min_y)"
   ]
  },
  {
   "cell_type": "markdown",
   "id": "2559ba30",
   "metadata": {},
   "source": [
    "# local shield 1"
   ]
  },
  {
   "cell_type": "code",
   "execution_count": 4,
   "id": "17bf754f",
   "metadata": {
    "scrolled": true
   },
   "outputs": [
    {
     "data": {
      "image/png": "[encoded data removed]",
      "text/plain": [
       "<Figure size 288x216 with 1 Axes>"
      ]
     },
     "metadata": {
      "needs_background": "light"
     },
     "output_type": "display_data"
    }
   ],
   "source": [
    "belief = belief_initial\n",
    "max_x, max_y = 4, 3\n",
    "min_x, min_y = 0, 0\n",
    "plot_board(obstacle, [(3,0)], belief, agent, max_x, max_y, min_x, min_y)"
   ]
  },
  {
   "cell_type": "markdown",
   "id": "eaba7b22",
   "metadata": {},
   "source": [
    "# local shield 2"
   ]
  },
  {
   "cell_type": "code",
   "execution_count": 5,
   "id": "5e160a7a",
   "metadata": {},
   "outputs": [
    {
     "data": {
      "image/png": "[encoded data removed]",
      "text/plain": [
       "<Figure size 288x216 with 1 Axes>"
      ]
     },
     "metadata": {
      "needs_background": "light"
     },
     "output_type": "display_data"
    }
   ],
   "source": [
    "belief = belief_initial\n",
    "max_x, max_y = 6, 3\n",
    "min_x, min_y = 2, 0\n",
    "plot_board(obstacle, [(3,0)], belief, agent, max_x, max_y, min_x, min_y)"
   ]
  },
  {
   "cell_type": "markdown",
   "id": "91f5c952",
   "metadata": {},
   "source": [
    " # simulation\n",
    "\n",
    " "
   ]
  },
  {
   "cell_type": "code",
   "execution_count": 6,
   "id": "8819d010",
   "metadata": {
    "scrolled": false
   },
   "outputs": [
    {
     "data": {
      "image/png": "[encoded data removed]",
      "text/plain": [
       "<Figure size 432x216 with 1 Axes>"
      ]
     },
     "metadata": {
      "needs_background": "light"
     },
     "output_type": "display_data"
    },
    {
     "name": "stdout",
     "output_type": "stream",
     "text": [
      "----action taken: east ----\n"
     ]
    },
    {
     "data": {
      "image/png": "[encoded data removed]",
      "text/plain": [
       "<Figure size 432x216 with 1 Axes>"
      ]
     },
     "metadata": {
      "needs_background": "light"
     },
     "output_type": "display_data"
    },
    {
     "name": "stdout",
     "output_type": "stream",
     "text": [
      "----action taken: east ----\n"
     ]
    },
    {
     "data": {
      "image/png": "[encoded data removed]",
      "text/plain": [
       "<Figure size 432x216 with 1 Axes>"
      ]
     },
     "metadata": {
      "needs_background": "light"
     },
     "output_type": "display_data"
    },
    {
     "name": "stdout",
     "output_type": "stream",
     "text": [
      "----action taken: east ----\n"
     ]
    },
    {
     "data": {
      "image/png": "[encoded data removed]",
      "text/plain": [
       "<Figure size 432x216 with 1 Axes>"
      ]
     },
     "metadata": {
      "needs_background": "light"
     },
     "output_type": "display_data"
    },
    {
     "name": "stdout",
     "output_type": "stream",
     "text": [
      "----action taken: east ----\n"
     ]
    },
    {
     "data": {
      "image/png": "[encoded data removed]",
      "text/plain": [
       "<Figure size 432x216 with 1 Axes>"
      ]
     },
     "metadata": {
      "needs_background": "light"
     },
     "output_type": "display_data"
    }
   ],
   "source": [
    "#obstacle = [(1, 0), (5, 1),  (2, 4), (4, 4), (5,4), (5,5)]\n",
    "belief = belief_initial\n",
    "N = 6\n",
    "plot_board(obstacle, target, belief, agent, max_x, max_y, 0,0)\n",
    "\n",
    "s, w, e, n = 'south', 'west', 'east', 'north'\n",
    "for action in [e,e,e,e]:\n",
    "  belief = move2(belief, action)\n",
    "  print(\"----action taken:\", action,\"----\")\n",
    "  plot_board(obstacle, target, belief, agent, max_x, max_y, 0,0)\n"
   ]
  },
  {
   "cell_type": "code",
   "execution_count": 7,
   "id": "73ac2cbb",
   "metadata": {},
   "outputs": [
    {
     "data": {
      "image/png": "[encoded data removed]",
      "text/plain": [
       "<Figure size 432x216 with 1 Axes>"
      ]
     },
     "metadata": {
      "needs_background": "light"
     },
     "output_type": "display_data"
    },
    {
     "name": "stdout",
     "output_type": "stream",
     "text": [
      "----action taken: east ----\n"
     ]
    },
    {
     "data": {
      "image/png": "[encoded data removed]",
      "text/plain": [
       "<Figure size 432x216 with 1 Axes>"
      ]
     },
     "metadata": {
      "needs_background": "light"
     },
     "output_type": "display_data"
    },
    {
     "name": "stdout",
     "output_type": "stream",
     "text": [
      "----action taken: east ----\n"
     ]
    },
    {
     "data": {
      "image/png": "[encoded data removed]",
      "text/plain": [
       "<Figure size 432x216 with 1 Axes>"
      ]
     },
     "metadata": {
      "needs_background": "light"
     },
     "output_type": "display_data"
    },
    {
     "name": "stdout",
     "output_type": "stream",
     "text": [
      "----action taken: east ----\n"
     ]
    },
    {
     "data": {
      "image/png": "[encoded data removed]",
      "text/plain": [
       "<Figure size 432x216 with 1 Axes>"
      ]
     },
     "metadata": {
      "needs_background": "light"
     },
     "output_type": "display_data"
    },
    {
     "name": "stdout",
     "output_type": "stream",
     "text": [
      "----action taken: east ----\n"
     ]
    },
    {
     "data": {
      "image/png": "[encoded data removed]",
      "text/plain": [
       "<Figure size 432x216 with 1 Axes>"
      ]
     },
     "metadata": {
      "needs_background": "light"
     },
     "output_type": "display_data"
    }
   ],
   "source": [
    "#obstacle = [(1, 0), (5, 1),  (2, 4), (4, 4), (5,4), (5,5)]\n",
    "belief = belief_initial\n",
    "N = 6\n",
    "plot_board(obstacle, target, belief, agent, max_x, max_y, 0,0)\n",
    "\n",
    "s, w, e, n = 'south', 'west', 'east', 'north'\n",
    "for action in [e,e,e,e]:\n",
    "  belief = move(belief, action)\n",
    "  print(\"----action taken:\", action,\"----\")\n",
    "  plot_board(obstacle, target, belief, agent, max_x, max_y, 0,0)\n"
   ]
  }
 ],
 "metadata": {
  "kernelspec": {
   "display_name": "Python 3 (ipykernel)",
   "language": "python",
   "name": "python3"
  },
  "language_info": {
   "codemirror_mode": {
    "name": "ipython",
    "version": 3
   },
   "file_extension": ".py",
   "mimetype": "text/x-python",
   "name": "python",
   "nbconvert_exporter": "python",
   "pygments_lexer": "ipython3",
   "version": "3.9.12"
  }
 },
 "nbformat": 4,
 "nbformat_minor": 5
}
